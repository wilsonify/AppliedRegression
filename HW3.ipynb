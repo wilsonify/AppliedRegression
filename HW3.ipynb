{
 "cells": [
  {
   "cell_type": "code",
   "execution_count": null,
   "metadata": {},
   "outputs": [],
   "source": [
    "library(data.table)\n",
    "library(dplyr)"
   ]
  },
  {
   "cell_type": "markdown",
   "metadata": {},
   "source": [
    "# 1.\n",
    "Consider the situation in which the following regression model has been fit to a set of data\n",
    "\n",
    "$Y = b_0 + b_1 x_1 + b_2 x_2 + b_3 x_3 + e$\n",
    "\n",
    "Suppose that the hypothesis test based on Analysis of Variance leads to a strong rejection of the joint hypothesis that regression coefficients are all zero (p-value < 0.0001).  \n",
    "\n",
    "Furthermore, suppose that each individual t-test of the form H0:  bi = 0 fails to reject the null for each value of i, where i=1,…,3.\n",
    "\n",
    "Describe why this is likely to have occurred and what plots and which statistics you would look at to diagnose the problem. \n",
    "\n"
   ]
  },
  {
   "cell_type": "markdown",
   "metadata": {},
   "source": [
    "$x_1$, $x_2$, and $x_3$ are correlated with each other. While there is at least one coefficient that is not zero, non of the three are significantly different from zero in the presence of each other. We can confirm this with a scatterplot matrix and correlation coefficients. "
   ]
  },
  {
   "cell_type": "markdown",
   "metadata": {},
   "source": [
    "# 2.\n",
    "Data taken from Howell (2002). \n",
    "“A number of years ago, the student association of a large university published an evaluation of several hundred courses taught during the preceding semester.  Students in each course had completed a questionnaire in which they rated a number of different aspects of the course on a 5-point scale (1 = very bad to 5 = excellent)”.\n",
    "\n",
    "Five variables obtained were:\n",
    "* overall – overall rating of the course.\n",
    "* teach – rating of teaching skills of the instructor.\n",
    "* exams – quality of tests and exams\n",
    "* knowledge – rating of the instructor’s knowledge of the material \n",
    "* grade - student’s anticipated grade for the course (1=F to 5=A) \n",
    "* enroll – enrollment for the course"
   ]
  },
  {
   "cell_type": "markdown",
   "metadata": {},
   "source": [
    "|overall|teach|exams|knowledge|grade|enroll|\n",
    "|-----|------|------|---------|-----|------|\n",
    "3.4|3.8|3.8|4.5|3.5|21\n",
    "2.9|2.8|3.2|3.8|3.2|50\n",
    "2.6|2.2|1.9|3.9|2.8|800\n",
    "3.8|3.5|3.5|4.1|3.3|221\n",
    "3.0|3.2|2.8|3.5|3.2|7\n",
    "2.5|2.7|3.8|4.2|3.2|108\n",
    "3.9|4.1|3.8|4.5|3.6|54\n",
    "4.3|4.2|4.1|4.7|4.0|99\n",
    "3.8|3.7|3.6|4.1|3.0|51\n",
    "3.4|3.7|3.6|4.1|3.1|47\n",
    "2.8|3.3|3.5|3.9|3.0|73\n",
    "2.9|2.2|3.3|3.9|3.3|25\n",
    "4.1|4.1|3.6|4.0|3.2|37\n",
    "2.7|3.1|3.8|4.1|3.4|83\n",
    "3.9|2.9|3.8|4.5|3.7|70"
   ]
  },
  {
   "cell_type": "code",
   "execution_count": null,
   "metadata": {},
   "outputs": [],
   "source": [
    "library(data.table)\n",
    "data2 <- fread('https://raw.githubusercontent.com/wilsonify/AppliedRegression/master/data/howell.csv')"
   ]
  },
  {
   "cell_type": "code",
   "execution_count": null,
   "metadata": {},
   "outputs": [],
   "source": [
    "data2"
   ]
  },
  {
   "cell_type": "markdown",
   "metadata": {},
   "source": [
    "## a \n",
    "Enter the variables teach, exams, knowledge, grade, and enroll into a multiple regression model predicting scores for overall. Display the regression output. "
   ]
  },
  {
   "cell_type": "code",
   "execution_count": null,
   "metadata": {},
   "outputs": [],
   "source": [
    "fit <- lm(data=data2, formula = overall~.)"
   ]
  },
  {
   "cell_type": "code",
   "execution_count": null,
   "metadata": {},
   "outputs": [],
   "source": [
    "summary_of_fit <- summary(fit)\n",
    "summary_of_fit"
   ]
  },
  {
   "cell_type": "markdown",
   "metadata": {},
   "source": [
    "## b\n",
    "Create a table of R^2 adjusted, AIC, AICC, and BIC for the best subset of each size.\n",
    "\n",
    "Identify the optimal model or models from the approach based on all possible subsets."
   ]
  },
  {
   "cell_type": "code",
   "execution_count": null,
   "metadata": {},
   "outputs": [],
   "source": [
    "Xs <- c('teach','exams','knowledge','grade','enroll')"
   ]
  },
  {
   "cell_type": "code",
   "execution_count": null,
   "metadata": {},
   "outputs": [],
   "source": [
    "unique(expand.grid(Xs)) %>% apply(margin=1,fun=paste)"
   ]
  },
  {
   "cell_type": "code",
   "execution_count": null,
   "metadata": {},
   "outputs": [],
   "source": [
    "unique(expand.grid(Xs,Xs))"
   ]
  },
  {
   "cell_type": "code",
   "execution_count": null,
   "metadata": {},
   "outputs": [],
   "source": [
    "unique(expand.grid(Xs,Xs,Xs))       "
   ]
  },
  {
   "cell_type": "code",
   "execution_count": null,
   "metadata": {},
   "outputs": [],
   "source": [
    "unique(expand.grid(Xs,Xs,Xs,Xs))    "
   ]
  },
  {
   "cell_type": "markdown",
   "metadata": {},
   "source": [
    "## c\n",
    "Use the Forward method to determine the regression equation when starting with the same predictor variables listed in a. Please describe the steps R went through in generating its regression equation.\n",
    "\n",
    "At each stage of the process list the variable that was entered or removed from the equation and the R Square for the regression equation up to that point.\n",
    "\n",
    "Report the final version of the regression equation."
   ]
  },
  {
   "cell_type": "markdown",
   "metadata": {},
   "source": [
    "## d\n",
    "Repeat Part c, except use the Backward method (i.e., describe each step R went through).\n",
    "\n",
    "Is the solution different from the one you got using the Forward method? "
   ]
  },
  {
   "cell_type": "markdown",
   "metadata": {},
   "source": [
    "## e\n",
    "Decide on the model you would recommend.\n",
    "\n",
    "At this point, describe and examine the assumptions of multiple linear regression.\n",
    "\n",
    "If any assumptions are violated -- discuss what steps would/should be performed."
   ]
  },
  {
   "cell_type": "markdown",
   "metadata": {},
   "source": [
    "We consider modeling Credit Card Balances.\n",
    "\n",
    "Data are available on Balances and the following potential predictor variables:\n",
    "1. Income\n",
    "2. Limit\n",
    "3. Rating\n",
    "4. Cards (Number of Credit Cards)\n",
    "5. Age (Years)\n",
    "6. Education (Years)\n",
    "7. Student (1=Student and 0=Non-student)\n",
    "\n",
    "Use R to do the following tasks.\n",
    "\n",
    "Copy the data in excel and run the following syntax\n",
    "my_data <- read.table(file = \"clipboard\", sep = \"\\t\", header=TRUE)\n",
    "\n",
    "Paste the numerical output and plots into a Word document.\n",
    "\n",
    "## a\n",
    "Fit a model to predict Income from Limit, Rating, Cards, Age, Education, and Student.  Please do not include any quadratic nor any interaction terms.  Ensure that you find the variance inflation factors (VIF)."
   ]
  },
  {
   "cell_type": "markdown",
   "metadata": {},
   "source": [
    "## b\n",
    "Plot the studentized residuals against the predicted values and each numerical predictor."
   ]
  },
  {
   "cell_type": "markdown",
   "metadata": {},
   "source": [
    "## c\n",
    "Plot the numerical predictors against each other and obtain the correlations amongst these predictors.\n",
    "\n",
    "On the basis of the output you produced in (a), (b), and (c) answer the following questions:"
   ]
  },
  {
   "cell_type": "markdown",
   "metadata": {},
   "source": [
    "\t\n",
    "## I\n",
    "Decide whether the assumption of constant error variance is a reasonable one for the fitted model.  Give reasons to support your answer."
   ]
  },
  {
   "cell_type": "markdown",
   "metadata": {},
   "source": [
    "## II\n",
    "Decide whether multicollinearity is an issue for the fitted model. Give a reason to support your answer."
   ]
  },
  {
   "cell_type": "markdown",
   "metadata": {},
   "source": [
    "## III\n",
    "Interpret the estimated coefficients. Decide whether these coefficients are statistically significant. Give a reason to support your answer."
   ]
  },
  {
   "cell_type": "code",
   "execution_count": null,
   "metadata": {},
   "outputs": [],
   "source": [
    "data3 <- fread('https://raw.githubusercontent.com/wilsonify/AppliedRegression/master/data/CreditCardsTraining.csv')"
   ]
  }
 ],
 "metadata": {
  "kernelspec": {
   "display_name": "R",
   "language": "R",
   "name": "ir"
  },
  "language_info": {
   "codemirror_mode": "r",
   "file_extension": ".r",
   "mimetype": "text/x-r-source",
   "name": "R",
   "pygments_lexer": "r",
   "version": "3.4.4"
  }
 },
 "nbformat": 4,
 "nbformat_minor": 2
}
