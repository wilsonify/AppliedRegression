{
 "cells": [
  {
   "cell_type": "code",
   "execution_count": 1,
   "metadata": {},
   "outputs": [
    {
     "name": "stderr",
     "output_type": "stream",
     "text": [
      "\n",
      "Attaching package: ‘dplyr’\n",
      "\n",
      "The following objects are masked from ‘package:data.table’:\n",
      "\n",
      "    between, first, last\n",
      "\n",
      "The following objects are masked from ‘package:stats’:\n",
      "\n",
      "    filter, lag\n",
      "\n",
      "The following objects are masked from ‘package:base’:\n",
      "\n",
      "    intersect, setdiff, setequal, union\n",
      "\n",
      "── Attaching packages ─────────────────────────────────────── tidyverse 1.2.1 ──\n",
      "✔ ggplot2 3.0.0     ✔ readr   1.1.1\n",
      "✔ tibble  1.4.2     ✔ purrr   0.2.5\n",
      "✔ tidyr   0.8.1     ✔ stringr 1.3.1\n",
      "✔ ggplot2 3.0.0     ✔ forcats 0.3.0\n",
      "── Conflicts ────────────────────────────────────────── tidyverse_conflicts() ──\n",
      "✖ dplyr::between()   masks data.table::between()\n",
      "✖ dplyr::filter()    masks stats::filter()\n",
      "✖ dplyr::first()     masks data.table::first()\n",
      "✖ dplyr::lag()       masks stats::lag()\n",
      "✖ dplyr::last()      masks data.table::last()\n",
      "✖ purrr::transpose() masks data.table::transpose()\n",
      "\n",
      "Attaching package: ‘MASS’\n",
      "\n",
      "The following object is masked from ‘package:dplyr’:\n",
      "\n",
      "    select\n",
      "\n"
     ]
    }
   ],
   "source": [
    "library(data.table)\n",
    "library(dplyr)\n",
    "library(tidyverse)\n",
    "library(MuMIn)\n",
    "library(MASS)\n",
    "library(broom)"
   ]
  },
  {
   "cell_type": "code",
   "execution_count": 2,
   "metadata": {},
   "outputs": [],
   "source": []
  },
  {
   "cell_type": "markdown",
   "metadata": {},
   "source": [
    "# 1.\n",
    "Consider the situation in which the following regression model has been fit to a set of data\n",
    "\n",
    "$Y = b_0 + b_1 x_1 + b_2 x_2 + b_3 x_3 + e$\n",
    "\n",
    "Suppose that the hypothesis test based on Analysis of Variance leads to a strong rejection of the joint hypothesis that regression coefficients are all zero (p-value < 0.0001).  \n",
    "\n",
    "Furthermore, suppose that each individual t-test of the form H0:  bi = 0 fails to reject the null for each value of i, where i=1,…,3.\n",
    "\n",
    "Describe why this is likely to have occurred and what plots and which statistics you would look at to diagnose the problem. \n",
    "\n"
   ]
  },
  {
   "cell_type": "markdown",
   "metadata": {},
   "source": [
    "$x_1$, $x_2$, and $x_3$ are correlated with each other. While there is at least one coefficient that is not zero, non of the three are significantly different from zero in the presence of each other. We can confirm this with a scatterplot matrix and correlation coefficients. "
   ]
  },
  {
   "cell_type": "markdown",
   "metadata": {},
   "source": [
    "# 2.\n",
    "Data taken from Howell (2002). \n",
    "“A number of years ago, the student association of a large university published an evaluation of several hundred courses taught during the preceding semester.  Students in each course had completed a questionnaire in which they rated a number of different aspects of the course on a 5-point scale (1 = very bad to 5 = excellent)”.\n",
    "\n",
    "Five variables obtained were:\n",
    "* overall – overall rating of the course.\n",
    "* teach – rating of teaching skills of the instructor.\n",
    "* exams – quality of tests and exams\n",
    "* knowledge – rating of the instructor’s knowledge of the material \n",
    "* grade - student’s anticipated grade for the course (1=F to 5=A) \n",
    "* enroll – enrollment for the course"
   ]
  },
  {
   "cell_type": "markdown",
   "metadata": {},
   "source": [
    "|overall|teach|exams|knowledge|grade|enroll|\n",
    "|-----|------|------|---------|-----|------|\n",
    "|3.4|3.8|3.8|4.5|3.5|21|\n",
    "|2.9|2.8|3.2|3.8|3.2|50|\n",
    "|2.6|2.2|1.9|3.9|2.8|800|\n",
    "|3.8|3.5|3.5|4.1|3.3|221|\n",
    "|3.0|3.2|2.8|3.5|3.2|7|\n",
    "|2.5|2.7|3.8|4.2|3.2|108|\n",
    "|3.9|4.1|3.8|4.5|3.6|54|\n",
    "|4.3|4.2|4.1|4.7|4.0|99|\n",
    "|3.8|3.7|3.6|4.1|3.0|51|\n",
    "|3.4|3.7|3.6|4.1|3.1|47|\n",
    "|3.4|3.8|3.8|4.5|3.5|21|\n",
    "|2.8|3.3|3.5|3.9|3.0|73|\n",
    "|2.9|2.2|3.3|3.9|3.3|25|\n",
    "|4.1|4.1|3.6|4.0|3.2|37|\n",
    "|2.7|3.1|3.8|4.1|3.4|83|\n",
    "|3.9|2.9|3.8|4.5|3.7|70|"
   ]
  },
  {
   "cell_type": "code",
   "execution_count": 3,
   "metadata": {},
   "outputs": [],
   "source": [
    "library(data.table)\n",
    "data2 <- fread('https://raw.githubusercontent.com/wilsonify/AppliedRegression/master/data/howell.csv')"
   ]
  },
  {
   "cell_type": "markdown",
   "metadata": {},
   "source": [
    "## a \n",
    "Enter the variables teach, exams, knowledge, grade, and enroll into a multiple regression model predicting scores for overall. Display the regression output. "
   ]
  },
  {
   "cell_type": "code",
   "execution_count": 5,
   "metadata": {},
   "outputs": [],
   "source": [
    "fit <- lm(data=data2, formula = overall~.)\n",
    "\n",
    "summary_of_fit <- summary(fit)\n",
    "summary_of_fit"
   ]
  },
  {
   "cell_type": "markdown",
   "metadata": {},
   "source": [
    "## b\n",
    "Create a table of R^2 adjusted, AIC, AICC, and BIC for the best subset of each size.\n",
    "\n",
    "Identify the optimal model or models from the approach based on all possible subsets."
   ]
  },
  {
   "cell_type": "code",
   "execution_count": 63,
   "metadata": {},
   "outputs": [],
   "source": [
    "Xs <- c('teach','exams','knowledge','grade','enroll')\n",
    "models <- c( interaction(Xs,            sep='+') %>% levels() %>% paste(\"overall ~\",.)\n",
    "            ,interaction(Xs,Xs,         sep='+') %>% levels() %>% paste(\"overall ~\",.)\n",
    "            ,interaction(Xs,Xs,Xs,      sep='+') %>% levels() %>% paste(\"overall ~\",.)\n",
    "            ,interaction(Xs,Xs,Xs,Xs,   sep='+') %>% levels() %>% paste(\"overall ~\",.)\n",
    "            ,interaction(Xs,Xs,Xs,Xs,Xs,sep='+') %>% levels() %>% paste(\"overall ~\",.)   \n",
    "           )"
   ]
  },
  {
   "cell_type": "code",
   "execution_count": 78,
   "metadata": {},
   "outputs": [],
   "source": [
    "AICc_from_AIC <- function(AIC,fit) {    \n",
    "    n <- length(fit$residuals)  \n",
    "    k <- length(fit$coefficients) - 1    \n",
    "    correction <- (2*k^2 + 2*k) / (n - k - 1)\n",
    "    return ( AIC + correction )\n",
    "}\n",
    "\n",
    "result <- data_frame()\n",
    "for (form in models) {\n",
    "    #print(form)\n",
    "    fit <- lm(data=data2, formula = as.formula(form))        \n",
    "    glance_of_fit <- glance(fit) %>%\n",
    "                     mutate( model=form\n",
    "                            ,k = length(fit$coefficients) - 1   \n",
    "                            ,AICc = AICc_from_AIC(AIC,fit)) %>% \n",
    "                     dplyr::select(c( 'model' \n",
    "                                     ,'k'\n",
    "                                     ,'adj.r.squared'\n",
    "                                     ,'AIC'\n",
    "                                     ,'AICc'\n",
    "                                     ,'BIC')\n",
    "                                  )\n",
    "    result <- rbind(result,glance_of_fit)\n",
    "}"
   ]
  },
  {
   "cell_type": "code",
   "execution_count": 93,
   "metadata": {},
   "outputs": [
    {
     "data": {
      "text/html": [
       "<table>\n",
       "<thead><tr><th scope=col>k</th><th scope=col>max(adj.r.squared)</th><th scope=col>min(AIC)</th><th scope=col>min(AICc)</th><th scope=col>min(BIC)</th></tr></thead>\n",
       "<tbody>\n",
       "\t<tr><td>1        </td><td>0.5640442</td><td>18.56408 </td><td>18.87178 </td><td>20.68823 </td></tr>\n",
       "\t<tr><td>2        </td><td>0.6181954</td><td>17.37396 </td><td>18.37396 </td><td>20.20616 </td></tr>\n",
       "\t<tr><td>3        </td><td>0.6068139</td><td>18.50940 </td><td>20.69122 </td><td>22.04965 </td></tr>\n",
       "\t<tr><td>4        </td><td>0.5838749</td><td>19.93029 </td><td>23.93029 </td><td>24.17859 </td></tr>\n",
       "\t<tr><td>5        </td><td>0.5405103</td><td>21.83684 </td><td>28.50351 </td><td>26.79320 </td></tr>\n",
       "</tbody>\n",
       "</table>\n"
      ],
      "text/latex": [
       "\\begin{tabular}{r|lllll}\n",
       " k & max(adj.r.squared) & min(AIC) & min(AICc) & min(BIC)\\\\\n",
       "\\hline\n",
       "\t 1         & 0.5640442 & 18.56408  & 18.87178  & 20.68823 \\\\\n",
       "\t 2         & 0.6181954 & 17.37396  & 18.37396  & 20.20616 \\\\\n",
       "\t 3         & 0.6068139 & 18.50940  & 20.69122  & 22.04965 \\\\\n",
       "\t 4         & 0.5838749 & 19.93029  & 23.93029  & 24.17859 \\\\\n",
       "\t 5         & 0.5405103 & 21.83684  & 28.50351  & 26.79320 \\\\\n",
       "\\end{tabular}\n"
      ],
      "text/markdown": [
       "\n",
       "k | max(adj.r.squared) | min(AIC) | min(AICc) | min(BIC) | \n",
       "|---|---|---|---|---|\n",
       "| 1         | 0.5640442 | 18.56408  | 18.87178  | 20.68823  | \n",
       "| 2         | 0.6181954 | 17.37396  | 18.37396  | 20.20616  | \n",
       "| 3         | 0.6068139 | 18.50940  | 20.69122  | 22.04965  | \n",
       "| 4         | 0.5838749 | 19.93029  | 23.93029  | 24.17859  | \n",
       "| 5         | 0.5405103 | 21.83684  | 28.50351  | 26.79320  | \n",
       "\n",
       "\n"
      ],
      "text/plain": [
       "  k max(adj.r.squared) min(AIC) min(AICc) min(BIC)\n",
       "1 1 0.5640442          18.56408 18.87178  20.68823\n",
       "2 2 0.6181954          17.37396 18.37396  20.20616\n",
       "3 3 0.6068139          18.50940 20.69122  22.04965\n",
       "4 4 0.5838749          19.93029 23.93029  24.17859\n",
       "5 5 0.5405103          21.83684 28.50351  26.79320"
      ]
     },
     "metadata": {},
     "output_type": "display_data"
    }
   ],
   "source": [
    "result %>% group_by(k) %>% summarise( max(adj.r.squared)\n",
    "                                     ,min(AIC)\n",
    "                                     ,min(AICc)\n",
    "                                     ,min(BIC)\n",
    "                                    )"
   ]
  },
  {
   "cell_type": "code",
   "execution_count": 86,
   "metadata": {},
   "outputs": [
    {
     "data": {
      "text/html": [
       "<table>\n",
       "<thead><tr><th scope=col>model</th><th scope=col>k</th><th scope=col>adj.r.squared</th><th scope=col>AIC</th><th scope=col>AICc</th><th scope=col>BIC</th></tr></thead>\n",
       "<tbody>\n",
       "\t<tr><td>overall ~ teach+grade</td><td>2                    </td><td>0.6181954            </td><td>17.37396             </td><td>18.37396             </td><td>20.20616             </td></tr>\n",
       "</tbody>\n",
       "</table>\n"
      ],
      "text/latex": [
       "\\begin{tabular}{r|llllll}\n",
       " model & k & adj.r.squared & AIC & AICc & BIC\\\\\n",
       "\\hline\n",
       "\t overall \\textasciitilde{} teach+grade & 2                                      & 0.6181954                              & 17.37396                               & 18.37396                               & 20.20616                              \\\\\n",
       "\\end{tabular}\n"
      ],
      "text/markdown": [
       "\n",
       "model | k | adj.r.squared | AIC | AICc | BIC | \n",
       "|---|\n",
       "| overall ~ teach+grade | 2                     | 0.6181954             | 17.37396              | 18.37396              | 20.20616              | \n",
       "\n",
       "\n"
      ],
      "text/plain": [
       "  model                 k adj.r.squared AIC      AICc     BIC     \n",
       "1 overall ~ teach+grade 2 0.6181954     17.37396 18.37396 20.20616"
      ]
     },
     "metadata": {},
     "output_type": "display_data"
    },
    {
     "data": {
      "text/html": [
       "<table>\n",
       "<thead><tr><th scope=col>model</th><th scope=col>k</th><th scope=col>adj.r.squared</th><th scope=col>AIC</th><th scope=col>AICc</th><th scope=col>BIC</th></tr></thead>\n",
       "<tbody>\n",
       "\t<tr><td>overall ~ grade+teach</td><td>2                    </td><td>0.6181954            </td><td>17.37396             </td><td>18.37396             </td><td>20.20616             </td></tr>\n",
       "</tbody>\n",
       "</table>\n"
      ],
      "text/latex": [
       "\\begin{tabular}{r|llllll}\n",
       " model & k & adj.r.squared & AIC & AICc & BIC\\\\\n",
       "\\hline\n",
       "\t overall \\textasciitilde{} grade+teach & 2                                      & 0.6181954                              & 17.37396                               & 18.37396                               & 20.20616                              \\\\\n",
       "\\end{tabular}\n"
      ],
      "text/markdown": [
       "\n",
       "model | k | adj.r.squared | AIC | AICc | BIC | \n",
       "|---|\n",
       "| overall ~ grade+teach | 2                     | 0.6181954             | 17.37396              | 18.37396              | 20.20616              | \n",
       "\n",
       "\n"
      ],
      "text/plain": [
       "  model                 k adj.r.squared AIC      AICc     BIC     \n",
       "1 overall ~ grade+teach 2 0.6181954     17.37396 18.37396 20.20616"
      ]
     },
     "metadata": {},
     "output_type": "display_data"
    },
    {
     "data": {
      "text/html": [
       "<table>\n",
       "<thead><tr><th scope=col>model</th><th scope=col>k</th><th scope=col>adj.r.squared</th><th scope=col>AIC</th><th scope=col>AICc</th><th scope=col>BIC</th></tr></thead>\n",
       "<tbody>\n",
       "\t<tr><td>overall ~ grade+teach</td><td>2                    </td><td>0.6181954            </td><td>17.37396             </td><td>18.37396             </td><td>20.20616             </td></tr>\n",
       "</tbody>\n",
       "</table>\n"
      ],
      "text/latex": [
       "\\begin{tabular}{r|llllll}\n",
       " model & k & adj.r.squared & AIC & AICc & BIC\\\\\n",
       "\\hline\n",
       "\t overall \\textasciitilde{} grade+teach & 2                                      & 0.6181954                              & 17.37396                               & 18.37396                               & 20.20616                              \\\\\n",
       "\\end{tabular}\n"
      ],
      "text/markdown": [
       "\n",
       "model | k | adj.r.squared | AIC | AICc | BIC | \n",
       "|---|\n",
       "| overall ~ grade+teach | 2                     | 0.6181954             | 17.37396              | 18.37396              | 20.20616              | \n",
       "\n",
       "\n"
      ],
      "text/plain": [
       "  model                 k adj.r.squared AIC      AICc     BIC     \n",
       "1 overall ~ grade+teach 2 0.6181954     17.37396 18.37396 20.20616"
      ]
     },
     "metadata": {},
     "output_type": "display_data"
    },
    {
     "data": {
      "text/html": [
       "<table>\n",
       "<thead><tr><th scope=col>model</th><th scope=col>k</th><th scope=col>adj.r.squared</th><th scope=col>AIC</th><th scope=col>AICc</th><th scope=col>BIC</th></tr></thead>\n",
       "<tbody>\n",
       "\t<tr><td>overall ~ teach+grade</td><td>2                    </td><td>0.6181954            </td><td>17.37396             </td><td>18.37396             </td><td>20.20616             </td></tr>\n",
       "</tbody>\n",
       "</table>\n"
      ],
      "text/latex": [
       "\\begin{tabular}{r|llllll}\n",
       " model & k & adj.r.squared & AIC & AICc & BIC\\\\\n",
       "\\hline\n",
       "\t overall \\textasciitilde{} teach+grade & 2                                      & 0.6181954                              & 17.37396                               & 18.37396                               & 20.20616                              \\\\\n",
       "\\end{tabular}\n"
      ],
      "text/markdown": [
       "\n",
       "model | k | adj.r.squared | AIC | AICc | BIC | \n",
       "|---|\n",
       "| overall ~ teach+grade | 2                     | 0.6181954             | 17.37396              | 18.37396              | 20.20616              | \n",
       "\n",
       "\n"
      ],
      "text/plain": [
       "  model                 k adj.r.squared AIC      AICc     BIC     \n",
       "1 overall ~ teach+grade 2 0.6181954     17.37396 18.37396 20.20616"
      ]
     },
     "metadata": {},
     "output_type": "display_data"
    }
   ],
   "source": [
    "result[which.max(result$adj.r.squared),]\n",
    "result[which.min(result$AIC),]\n",
    "result[which.min(result$AICc),]\n",
    "result[which.min(result$BIC),]"
   ]
  },
  {
   "cell_type": "markdown",
   "metadata": {},
   "source": [
    "## c\n",
    "Use the Forward method to determine the regression equation when starting with the same predictor variables listed in a. Please describe the steps R went through in generating its regression equation.\n",
    "\n",
    "At each stage of the process list the variable that was entered or removed from the equation and the R Square for the regression equation up to that point.\n",
    "\n",
    "Report the final version of the regression equation."
   ]
  },
  {
   "cell_type": "code",
   "execution_count": 87,
   "metadata": {},
   "outputs": [
    {
     "name": "stdout",
     "output_type": "stream",
     "text": [
      "Start:  AIC=-14.44\n",
      "overall ~ 1\n",
      "\n",
      "            Df Sum of Sq    RSS     AIC\n",
      "+ teach      1   2.98386 2.0295 -26.004\n",
      "+ knowledge  1   1.73097 3.2824 -18.792\n",
      "+ grade      1   1.68492 3.3284 -18.583\n",
      "+ exams      1   1.26642 3.7469 -16.807\n",
      "<none>                   5.0133 -14.439\n",
      "+ enroll     1   0.42414 4.5892 -13.765\n",
      "\n",
      "Step:  AIC=-26\n",
      "overall ~ teach\n",
      "\n",
      "            Df Sum of Sq    RSS     AIC\n",
      "+ grade      1   0.38881 1.6407 -27.194\n",
      "+ knowledge  1   0.29895 1.7305 -26.394\n",
      "<none>                   2.0295 -26.004\n",
      "+ enroll     1   0.01496 2.0145 -24.115\n",
      "+ exams      1   0.01217 2.0173 -24.094\n",
      "\n",
      "Step:  AIC=-27.19\n",
      "overall ~ teach + grade\n",
      "\n",
      "            Df Sum of Sq    RSS     AIC\n",
      "<none>                   1.6407 -27.194\n",
      "+ enroll     1  0.091890 1.5488 -26.059\n",
      "+ exams      1  0.091096 1.5496 -26.051\n",
      "+ knowledge  1  0.024660 1.6160 -25.421\n"
     ]
    },
    {
     "data": {
      "text/plain": [
       "\n",
       "Call:\n",
       "lm(formula = overall ~ teach + grade, data = data2)\n",
       "\n",
       "Residuals:\n",
       "     Min       1Q   Median       3Q      Max \n",
       "-0.57599 -0.28129 -0.04803  0.28262  0.56055 \n",
       "\n",
       "Coefficients:\n",
       "            Estimate Std. Error t value Pr(>|t|)   \n",
       "(Intercept)  -0.6029     1.0757  -0.561  0.58543   \n",
       "teach         0.5888     0.1676   3.513  0.00427 **\n",
       "grade         0.6041     0.3582   1.686  0.11753   \n",
       "---\n",
       "Signif. codes:  0 ‘***’ 0.001 ‘**’ 0.01 ‘*’ 0.05 ‘.’ 0.1 ‘ ’ 1\n",
       "\n",
       "Residual standard error: 0.3698 on 12 degrees of freedom\n",
       "Multiple R-squared:  0.6727,\tAdjusted R-squared:  0.6182 \n",
       "F-statistic: 12.33 on 2 and 12 DF,  p-value: 0.001228\n"
      ]
     },
     "metadata": {},
     "output_type": "display_data"
    }
   ],
   "source": [
    "minimal.model <- lm(overall ~ 1, data = data2)\n",
    "forward.step.model <- stepAIC( minimal.model\n",
    "                      ,direction = \"forward\"\n",
    "                      ,scope = list(upper = ~ teach+exams+knowledge+grade+enroll\n",
    "                                   ,lower = ~ 1)\n",
    "                      ,trace = TRUE)\n",
    "summary(forward.step.model )"
   ]
  },
  {
   "cell_type": "markdown",
   "metadata": {},
   "source": [
    "Forward selection process:\n",
    "1. starting with the null model.\n",
    "2. fit a separate model adding each potential new feature.\n",
    "3. select the model which minimizes AIC.\n",
    "4. repeat 2-3 until AIC cannot be lowered."
   ]
  },
  {
   "cell_type": "markdown",
   "metadata": {},
   "source": [
    "## d\n",
    "Repeat Part c, except use the Backward method (i.e., describe each step R went through).\n",
    "\n",
    "Is the solution different from the one you got using the Forward method? "
   ]
  },
  {
   "cell_type": "code",
   "execution_count": 88,
   "metadata": {},
   "outputs": [
    {
     "name": "stdout",
     "output_type": "stream",
     "text": [
      "Start:  AIC=-22.73\n",
      "overall ~ teach + exams + knowledge + grade + enroll\n",
      "\n",
      "            Df Sum of Sq    RSS     AIC\n",
      "- enroll     1   0.00925 1.4901 -24.638\n",
      "- knowledge  1   0.04830 1.5292 -24.250\n",
      "- exams      1   0.06717 1.5480 -24.066\n",
      "- grade      1   0.11473 1.5956 -23.612\n",
      "<none>                   1.4809 -22.731\n",
      "- teach      1   1.44946 2.9303 -14.494\n",
      "\n",
      "Step:  AIC=-24.64\n",
      "overall ~ teach + exams + knowledge + grade\n",
      "\n",
      "            Df Sum of Sq    RSS     AIC\n",
      "- knowledge  1   0.05945 1.5496 -26.051\n",
      "- exams      1   0.12588 1.6160 -25.421\n",
      "- grade      1   0.18768 1.6778 -24.858\n",
      "<none>                   1.4901 -24.638\n",
      "- teach      1   1.54723 3.0374 -15.956\n",
      "\n",
      "Step:  AIC=-26.05\n",
      "overall ~ teach + exams + grade\n",
      "\n",
      "        Df Sum of Sq    RSS     AIC\n",
      "- exams  1   0.09110 1.6407 -27.194\n",
      "<none>               1.5496 -26.051\n",
      "- grade  1   0.46773 2.0173 -24.094\n",
      "- teach  1   1.66039 3.2100 -17.127\n",
      "\n",
      "Step:  AIC=-27.19\n",
      "overall ~ teach + grade\n",
      "\n",
      "        Df Sum of Sq    RSS     AIC\n",
      "<none>               1.6407 -27.194\n",
      "- grade  1   0.38881 2.0295 -26.004\n",
      "- teach  1   1.68774 3.3284 -18.583\n"
     ]
    },
    {
     "data": {
      "text/plain": [
       "\n",
       "Call:\n",
       "lm(formula = overall ~ teach + grade, data = data2)\n",
       "\n",
       "Residuals:\n",
       "     Min       1Q   Median       3Q      Max \n",
       "-0.57599 -0.28129 -0.04803  0.28262  0.56055 \n",
       "\n",
       "Coefficients:\n",
       "            Estimate Std. Error t value Pr(>|t|)   \n",
       "(Intercept)  -0.6029     1.0757  -0.561  0.58543   \n",
       "teach         0.5888     0.1676   3.513  0.00427 **\n",
       "grade         0.6041     0.3582   1.686  0.11753   \n",
       "---\n",
       "Signif. codes:  0 ‘***’ 0.001 ‘**’ 0.01 ‘*’ 0.05 ‘.’ 0.1 ‘ ’ 1\n",
       "\n",
       "Residual standard error: 0.3698 on 12 degrees of freedom\n",
       "Multiple R-squared:  0.6727,\tAdjusted R-squared:  0.6182 \n",
       "F-statistic: 12.33 on 2 and 12 DF,  p-value: 0.001228\n"
      ]
     },
     "metadata": {},
     "output_type": "display_data"
    }
   ],
   "source": [
    "maximal.model <- lm(overall ~ ., data = data2)\n",
    "backward.step.model <- stepAIC( maximal.model\n",
    "                              ,direction = \"backward\"\n",
    "                              ,scope = list(upper = ~ teach+exams+knowledge+grade+enroll\n",
    "                                            ,lower = ~ 1)\n",
    "                              ,trace = TRUE)\n",
    "summary(backward.step.model )"
   ]
  },
  {
   "cell_type": "markdown",
   "metadata": {},
   "source": [
    "Backward selection process:\n",
    "1. starting with the full model.\n",
    "2. fit a separate model removing each potential feature.\n",
    "3. select the model which minimizes AIC.\n",
    "4. repeat 2-3 until AIC cannot be lowered."
   ]
  },
  {
   "cell_type": "markdown",
   "metadata": {},
   "source": [
    "In this case, forward and backward selection agree on the best model as overal ~ teach+grade"
   ]
  },
  {
   "cell_type": "markdown",
   "metadata": {},
   "source": [
    "## e\n",
    "Decide on the model you would recommend.\n",
    "\n",
    "At this point, describe and examine the assumptions of multiple linear regression.\n",
    "\n",
    "If any assumptions are violated -- discuss what steps would/should be performed."
   ]
  },
  {
   "cell_type": "markdown",
   "metadata": {},
   "source": [
    "overall ~ teach + grade\n",
    "is best model because it maximizes R^2 while minimzing AIC, AICc, and BIC."
   ]
  },
  {
   "cell_type": "code",
   "execution_count": 94,
   "metadata": {},
   "outputs": [
    {
     "data": {
      "text/plain": [
       "\n",
       "Call:\n",
       "lm(formula = overall ~ teach + grade, data = data2)\n",
       "\n",
       "Residuals:\n",
       "     Min       1Q   Median       3Q      Max \n",
       "-0.57599 -0.28129 -0.04803  0.28262  0.56055 \n",
       "\n",
       "Coefficients:\n",
       "            Estimate Std. Error t value Pr(>|t|)   \n",
       "(Intercept)  -0.6029     1.0757  -0.561  0.58543   \n",
       "teach         0.5888     0.1676   3.513  0.00427 **\n",
       "grade         0.6041     0.3582   1.686  0.11753   \n",
       "---\n",
       "Signif. codes:  0 ‘***’ 0.001 ‘**’ 0.01 ‘*’ 0.05 ‘.’ 0.1 ‘ ’ 1\n",
       "\n",
       "Residual standard error: 0.3698 on 12 degrees of freedom\n",
       "Multiple R-squared:  0.6727,\tAdjusted R-squared:  0.6182 \n",
       "F-statistic: 12.33 on 2 and 12 DF,  p-value: 0.001228\n"
      ]
     },
     "metadata": {},
     "output_type": "display_data"
    }
   ],
   "source": [
    "fit <- lm(data=data2, formula = overall~teach + grade)\n",
    "summary_of_fit <- summary(fit)\n",
    "summary_of_fit"
   ]
  },
  {
   "cell_type": "code",
   "execution_count": 97,
   "metadata": {},
   "outputs": [
    {
     "data": {
      "image/png": "[encoded data removed]",
      "text/plain": [
       "plot without title"
      ]
     },
     "metadata": {},
     "output_type": "display_data"
    }
   ],
   "source": [
    "plot(fit$fitted.values,data2$overall)"
   ]
  },
  {
   "cell_type": "code",
   "execution_count": 96,
   "metadata": {},
   "outputs": [
    {
     "data": {
      "image/png": "[encoded data removed]",
      "text/plain": [
       "plot without title"
      ]
     },
     "metadata": {},
     "output_type": "display_data"
    }
   ],
   "source": [
    "plot(y=fit$residuals,x=fit$fitted.values)"
   ]
  },
  {
   "cell_type": "code",
   "execution_count": 98,
   "metadata": {},
   "outputs": [],
   "source": [
    "studentized_residuals <- studres(fit)"
   ]
  },
  {
   "cell_type": "code",
   "execution_count": 99,
   "metadata": {},
   "outputs": [
    {
     "data": {
      "image/png": "[encoded data removed]",
      "text/plain": [
       "plot without title"
      ]
     },
     "metadata": {},
     "output_type": "display_data"
    }
   ],
   "source": [
    "plot(y=studentized_residuals,x=fit$fitted.values)"
   ]
  },
  {
   "cell_type": "markdown",
   "metadata": {},
   "source": [
    "We consider modeling Credit Card Balances.\n",
    "\n",
    "Data are available on Balances and the following potential predictor variables:\n",
    "1. Income\n",
    "2. Limit\n",
    "3. Rating\n",
    "4. Cards (Number of Credit Cards)\n",
    "5. Age (Years)\n",
    "6. Education (Years)\n",
    "7. Student (1=Student and 0=Non-student)\n",
    "\n",
    "Use R to do the following tasks.\n",
    "\n",
    "Copy the data in excel and run the following syntax\n",
    "my_data <- read.table(file = \"clipboard\", sep = \"\\t\", header=TRUE)\n",
    "\n",
    "Paste the numerical output and plots into a Word document."
   ]
  },
  {
   "cell_type": "code",
   "execution_count": 110,
   "metadata": {},
   "outputs": [],
   "source": [
    "data3 <- fread('https://raw.githubusercontent.com/wilsonify/AppliedRegression/master/data/CreditCardsTraining.csv')"
   ]
  },
  {
   "cell_type": "code",
   "execution_count": 111,
   "metadata": {},
   "outputs": [
    {
     "data": {
      "text/html": [
       "<table>\n",
       "<thead><tr><th scope=col>Title</th><th scope=col>MajorStudio</th><th scope=col>Runtime</th><th scope=col>Rating</th><th scope=col>Production Budget (in millions)</th><th scope=col>In Release</th><th scope=col>Widest Release</th><th scope=col>Opening Weekend Gross</th><th scope=col>Total Gross</th><th scope=col>Critic Rating</th><th scope=col>Audience Rating</th><th scope=col>Year</th><th scope=col>MonthOfRelease</th><th scope=col>LogOpeningWeekendGross</th><th scope=col>LogProductionBudget</th><th scope=col>LogWidestRelease</th><th scope=col>LogTotalGross</th></tr></thead>\n",
       "<tbody>\n",
       "\t<tr><td>Toy Story 3                                             </td><td>1                                                       </td><td>103                                                     </td><td>G                                                       </td><td>200                                                     </td><td>168                                                     </td><td>4028                                                    </td><td>110307189                                               </td><td>415004880                                               </td><td>99                                                      </td><td>89                                                      </td><td>2010                                                    </td><td> 6                                                      </td><td>18.51878                                                </td><td>19.11383                                                </td><td>8.301025                                                </td><td>19.84380                                                </td></tr>\n",
       "\t<tr><td>Alice in Wonderland (2010)                              </td><td>1                                                       </td><td>109                                                     </td><td>PG                                                      </td><td>200                                                     </td><td>126                                                     </td><td>3739                                                    </td><td>116101023                                               </td><td>334191110                                               </td><td>51                                                      </td><td>55                                                      </td><td>2010                                                    </td><td> 3                                                      </td><td>18.56997                                                </td><td>19.11383                                                </td><td>8.226573                                                </td><td>19.62722                                                </td></tr>\n",
       "\t<tr><td>Iron Man 2                                              </td><td>1                                                       </td><td>125                                                     </td><td>PG-13                                                   </td><td>200                                                     </td><td>104                                                     </td><td>4390                                                    </td><td>128122480                                               </td><td>312433331                                               </td><td>73                                                      </td><td>73                                                      </td><td>2010                                                    </td><td> 5                                                      </td><td>18.66850                                                </td><td>19.11383                                                </td><td>8.387085                                                </td><td>19.55990                                                </td></tr>\n",
       "\t<tr><td>The Twilight Saga: Eclipse                              </td><td>0                                                       </td><td>124                                                     </td><td>PG-13                                                   </td><td> 68                                                     </td><td>114                                                     </td><td>4468                                                    </td><td> 64832191                                               </td><td>300531751                                               </td><td>49                                                      </td><td>60                                                      </td><td>2010                                                    </td><td> 6                                                      </td><td>17.98731                                                </td><td>18.03502                                                </td><td>8.404696                                                </td><td>19.52106                                                </td></tr>\n",
       "\t<tr><td>Harry Potter and the Deathly Hallows Part 1             </td><td>1                                                       </td><td>150                                                     </td><td>PG-13                                                   </td><td>125                                                     </td><td>139                                                     </td><td>4125                                                    </td><td>125017372                                               </td><td>295983305                                               </td><td>78                                                      </td><td>84                                                      </td><td>2010                                                    </td><td>11                                                      </td><td>18.64396                                                </td><td>18.64382                                                </td><td>8.324821                                                </td><td>19.50581                                                </td></tr>\n",
       "\t<tr><td>Inception                                               </td><td>1                                                       </td><td>148                                                     </td><td>PG-13                                                   </td><td>160                                                     </td><td>175                                                     </td><td>3792                                                    </td><td> 62785337                                               </td><td>292576195                                               </td><td>86                                                      </td><td>91                                                      </td><td>2010                                                    </td><td> 7                                                      </td><td>17.95523                                                </td><td>18.89068                                                </td><td>8.240649                                                </td><td>19.49424                                                </td></tr>\n",
       "\t<tr><td>Despicable Me                                           </td><td>1                                                       </td><td> 95                                                     </td><td>PG                                                      </td><td> 69                                                     </td><td>196                                                     </td><td>3602                                                    </td><td> 56397125                                               </td><td>251513985                                               </td><td>81                                                      </td><td>82                                                      </td><td>2010                                                    </td><td> 7                                                      </td><td>17.84793                                                </td><td>18.04962                                                </td><td>8.189245                                                </td><td>19.34301                                                </td></tr>\n",
       "\t<tr><td>Shrek Forever After                                     </td><td>1                                                       </td><td> 93                                                     </td><td>PG                                                      </td><td>165                                                     </td><td>112                                                     </td><td>4386                                                    </td><td> 70838207                                               </td><td>238736787                                               </td><td>58                                                      </td><td>54                                                      </td><td>2010                                                    </td><td> 5                                                      </td><td>18.07591                                                </td><td>18.92146                                                </td><td>8.386173                                                </td><td>19.29087                                                </td></tr>\n",
       "\t<tr><td>How to Train Your Dragon                                </td><td>1                                                       </td><td> 98                                                     </td><td>PG                                                      </td><td>165                                                     </td><td>119                                                     </td><td>4060                                                    </td><td> 43732319                                               </td><td>217581231                                               </td><td>98                                                      </td><td>91                                                      </td><td>2010                                                    </td><td> 3                                                      </td><td>17.59360                                                </td><td>18.92146                                                </td><td>8.308938                                                </td><td>19.19808                                                </td></tr>\n",
       "\t<tr><td>Tangled                                                 </td><td>1                                                       </td><td>100                                                     </td><td>PG                                                      </td><td>260                                                     </td><td>191                                                     </td><td>3603                                                    </td><td> 48767052                                               </td><td>200821936                                               </td><td>89                                                      </td><td>87                                                      </td><td>2010                                                    </td><td>11                                                      </td><td>17.70257                                                </td><td>19.37619                                                </td><td>8.189522                                                </td><td>19.11793                                                </td></tr>\n",
       "\t<tr><td>The Karate Kid                                          </td><td>1                                                       </td><td>140                                                     </td><td>PG                                                      </td><td> 40                                                     </td><td>105                                                     </td><td>3740                                                    </td><td> 55665805                                               </td><td>176591618                                               </td><td>66                                                      </td><td>67                                                      </td><td>2010                                                    </td><td> 6                                                      </td><td>17.83488                                                </td><td>17.50439                                                </td><td>8.226841                                                </td><td>18.98935                                                </td></tr>\n",
       "\t<tr><td>Tron Legacy                                             </td><td>1                                                       </td><td>125                                                     </td><td>PG                                                      </td><td>170                                                     </td><td>119                                                     </td><td>3451                                                    </td><td> 44026211                                               </td><td>172062763                                               </td><td>51                                                      </td><td>63                                                      </td><td>2010                                                    </td><td>12                                                      </td><td>17.60030                                                </td><td>18.95131                                                </td><td>8.146419                                                </td><td>18.96337                                                </td></tr>\n",
       "\t<tr><td>True Grit                                               </td><td>1                                                       </td><td>110                                                     </td><td>PG-13                                                   </td><td> 38                                                     </td><td>127                                                     </td><td>3464                                                    </td><td> 24830443                                               </td><td>171243005                                               </td><td>96                                                      </td><td>85                                                      </td><td>2010                                                    </td><td>12                                                      </td><td>17.02758                                                </td><td>17.45310                                                </td><td>8.150179                                                </td><td>18.95859                                                </td></tr>\n",
       "\t<tr><td>Clash of the Titans (2010)                              </td><td>1                                                       </td><td>118                                                     </td><td>PG-13                                                   </td><td>125                                                     </td><td>112                                                     </td><td>3802                                                    </td><td> 61235105                                               </td><td>163214888                                               </td><td>28                                                      </td><td>40                                                      </td><td>2010                                                    </td><td> 4                                                      </td><td>17.93023                                                </td><td>18.64382                                                </td><td>8.243283                                                </td><td>18.91058                                                </td></tr>\n",
       "\t<tr><td>Grown Ups                                               </td><td>1                                                       </td><td>102                                                     </td><td>PG-13                                                   </td><td> 80                                                     </td><td>126                                                     </td><td>3534                                                    </td><td> 40506562                                               </td><td>162001186                                               </td><td>10                                                      </td><td>63                                                      </td><td>2010                                                    </td><td> 6                                                      </td><td>17.51697                                                </td><td>18.19754                                                </td><td>8.170186                                                </td><td>18.90311                                                </td></tr>\n",
       "\t<tr><td>Little Fockers                                          </td><td>1                                                       </td><td> 98                                                     </td><td>PG-13                                                   </td><td>100                                                     </td><td> 86                                                     </td><td>3675                                                    </td><td> 30833665                                               </td><td>148438600                                               </td><td>10                                                      </td><td>35                                                      </td><td>2010                                                    </td><td>12                                                      </td><td>17.24412                                                </td><td>18.42068                                                </td><td>8.209308                                                </td><td>18.81568                                                </td></tr>\n",
       "\t<tr><td>Megamind                                                </td><td>1                                                       </td><td> 96                                                     </td><td>PG                                                      </td><td>130                                                     </td><td>112                                                     </td><td>3949                                                    </td><td> 46016833                                               </td><td>148415853                                               </td><td>72                                                      </td><td>71                                                      </td><td>2010                                                    </td><td>11                                                      </td><td>17.64452                                                </td><td>18.68305                                                </td><td>8.281218                                                </td><td>18.81553                                                </td></tr>\n",
       "\t<tr><td>The Last Airbender                                      </td><td>1                                                       </td><td>103                                                     </td><td>PG                                                      </td><td>150                                                     </td><td> 84                                                     </td><td>3203                                                    </td><td> 40325019                                               </td><td>131772187                                               </td><td> 6                                                      </td><td>31                                                      </td><td>2010                                                    </td><td> 7                                                      </td><td>17.51248                                                </td><td>18.82615                                                </td><td>8.071843                                                </td><td>18.69659                                                </td></tr>\n",
       "\t<tr><td>Shutter Island                                          </td><td>1                                                       </td><td>138                                                     </td><td>R                                                       </td><td> 80                                                     </td><td>112                                                     </td><td>3356                                                    </td><td> 41062440                                               </td><td>128012934                                               </td><td>69                                                      </td><td>76                                                      </td><td>2010                                                    </td><td> 2                                                      </td><td>17.53060                                                </td><td>18.19754                                                </td><td>8.118505                                                </td><td>18.66764                                                </td></tr>\n",
       "\t<tr><td>The Other Guys                                          </td><td>1                                                       </td><td>107                                                     </td><td>PG-13                                                   </td><td>100                                                     </td><td>105                                                     </td><td>3651                                                    </td><td> 35543162                                               </td><td>119219978                                               </td><td>79                                                      </td><td>59                                                      </td><td>2010                                                    </td><td> 8                                                      </td><td>17.38626                                                </td><td>18.42068                                                </td><td>8.202756                                                </td><td>18.59648                                                </td></tr>\n",
       "\t<tr><td>Salt                                                    </td><td>1                                                       </td><td> 99                                                     </td><td>PG-13                                                   </td><td>110                                                     </td><td> 98                                                     </td><td>3612                                                    </td><td> 36011243                                               </td><td>118311368                                               </td><td>62                                                      </td><td>59                                                      </td><td>2010                                                    </td><td> 7                                                      </td><td>17.39934                                                </td><td>18.51599                                                </td><td>8.192017                                                </td><td>18.58883                                                </td></tr>\n",
       "\t<tr><td>Jackass 3-D                                             </td><td>1                                                       </td><td> 94                                                     </td><td>R                                                       </td><td> 20                                                     </td><td> 98                                                     </td><td>3139                                                    </td><td> 50353641                                               </td><td>117229692                                               </td><td>64                                                      </td><td>70                                                      </td><td>2010                                                    </td><td>10                                                      </td><td>17.73458                                                </td><td>16.81124                                                </td><td>8.051660                                                </td><td>18.57965                                                </td></tr>\n",
       "\t<tr><td>Valentine's Day                                         </td><td>1                                                       </td><td>117                                                     </td><td>PG-13                                                   </td><td> 52                                                     </td><td> 84                                                     </td><td>3665                                                    </td><td> 56260707                                               </td><td>110485654                                               </td><td>18                                                      </td><td>48                                                      </td><td>2010                                                    </td><td> 2                                                      </td><td>17.84551                                                </td><td>17.76675                                                </td><td>8.206584                                                </td><td>18.52040                                                </td></tr>\n",
       "\t<tr><td>Robin Hood                                              </td><td>1                                                       </td><td>148                                                     </td><td>PG-13                                                   </td><td>200                                                     </td><td> 84                                                     </td><td>3505                                                    </td><td> 36063385                                               </td><td>105269730                                               </td><td>43                                                      </td><td>58                                                      </td><td>2010                                                    </td><td> 5                                                      </td><td>17.40079                                                </td><td>19.11383                                                </td><td>8.161946                                                </td><td>18.47204                                                </td></tr>\n",
       "\t<tr><td>The Chronicles of Narnia: The Voyage of the Dawn Treader</td><td>1                                                       </td><td>112                                                     </td><td>PG                                                      </td><td>155                                                     </td><td>126                                                     </td><td>3555                                                    </td><td> 24005069                                               </td><td>104386950                                               </td><td>49                                                      </td><td>58                                                      </td><td>2010                                                    </td><td>12                                                      </td><td>16.99378                                                </td><td>18.85894                                                </td><td>8.176110                                                </td><td>18.46362                                                </td></tr>\n",
       "\t<tr><td>The Expendables                                         </td><td>1                                                       </td><td>103                                                     </td><td>R                                                       </td><td> 80                                                     </td><td> 70                                                     </td><td>3398                                                    </td><td> 34825135                                               </td><td>103068524                                               </td><td>41                                                      </td><td>64                                                      </td><td>2010                                                    </td><td> 8                                                      </td><td>17.36585                                                </td><td>18.19754                                                </td><td>8.130942                                                </td><td>18.45090                                                </td></tr>\n",
       "\t<tr><td>Due Date                                                </td><td>1                                                       </td><td> 95                                                     </td><td>R                                                       </td><td> 65                                                     </td><td> 84                                                     </td><td>3365                                                    </td><td> 32689406                                               </td><td>100539043                                               </td><td>40                                                      </td><td>52                                                      </td><td>2010                                                    </td><td>11                                                      </td><td>17.30256                                                </td><td>17.98990                                                </td><td>8.121183                                                </td><td>18.42606                                                </td></tr>\n",
       "\t<tr><td>Yogi Bear                                               </td><td>1                                                       </td><td> 82                                                     </td><td>PG                                                      </td><td> 80                                                     </td><td>112                                                     </td><td>3515                                                    </td><td> 16411322                                               </td><td>100246011                                               </td><td>13                                                      </td><td>34                                                      </td><td>2010                                                    </td><td>12                                                      </td><td>16.61348                                                </td><td>18.19754                                                </td><td>8.164795                                                </td><td>18.42314                                                </td></tr>\n",
       "\t<tr><td>Date Night                                              </td><td>1                                                       </td><td> 88                                                     </td><td>PG-13                                                   </td><td> 55                                                     </td><td>154                                                     </td><td>3380                                                    </td><td> 25207599                                               </td><td> 98711404                                               </td><td>67                                                      </td><td>55                                                      </td><td>2010                                                    </td><td> 4                                                      </td><td>17.04266                                                </td><td>17.82284                                                </td><td>8.125631                                                </td><td>18.40771                                                </td></tr>\n",
       "\t<tr><td>The Social Network                                      </td><td>1                                                       </td><td>120                                                     </td><td>PG-13                                                   </td><td> 40                                                     </td><td>154                                                     </td><td>2921                                                    </td><td> 22445653                                               </td><td> 96962694                                               </td><td>96                                                      </td><td>86                                                      </td><td>2010                                                    </td><td>10                                                      </td><td>16.92661                                                </td><td>17.50439                                                </td><td>7.979681                                                </td><td>18.38984                                                </td></tr>\n",
       "\t<tr><td>⋮</td><td>⋮</td><td>⋮</td><td>⋮</td><td>⋮</td><td>⋮</td><td>⋮</td><td>⋮</td><td>⋮</td><td>⋮</td><td>⋮</td><td>⋮</td><td>⋮</td><td>⋮</td><td>⋮</td><td>⋮</td><td>⋮</td></tr>\n",
       "\t<tr><td>Austenland                              </td><td>1                                       </td><td> 97                                     </td><td>PG-13                                   </td><td> 7.6                                    </td><td>140                                     </td><td> 274                                    </td><td> 40662                                  </td><td>2159041                                 </td><td>30                                      </td><td>56                                      </td><td>2013                                    </td><td> 8                                      </td><td>10.613049                               </td><td>15.84366                                </td><td>5.613128                                </td><td>14.58517                                </td></tr>\n",
       "\t<tr><td>The Saratov Approach                    </td><td>0                                       </td><td>101                                     </td><td>PG-13                                   </td><td>  NA                                    </td><td>152                                     </td><td>  84                                    </td><td>137226                                  </td><td>2146999                                 </td><td>NA                                      </td><td>88                                      </td><td>2013                                    </td><td>10                                      </td><td>11.829384                               </td><td>      NA                                </td><td>4.430817                                </td><td>14.57958                                </td></tr>\n",
       "\t<tr><td>The Iceman (2013)                       </td><td>0                                       </td><td>105                                     </td><td>R                                       </td><td>10.0                                    </td><td> 91                                     </td><td> 258                                    </td><td> 87946                                  </td><td>1969193                                 </td><td>66                                      </td><td>63                                      </td><td>2013                                    </td><td> 5                                      </td><td>11.384478                               </td><td>16.11810                                </td><td>5.552960                                </td><td>14.49313                                </td></tr>\n",
       "\t<tr><td>Stoker                                  </td><td>1                                       </td><td> 99                                     </td><td>R                                       </td><td>12.0                                    </td><td> 69                                     </td><td> 275                                    </td><td>160547                                  </td><td>1714221                                 </td><td>69                                      </td><td>61                                      </td><td>2013                                    </td><td> 3                                      </td><td>11.986342                               </td><td>16.30042                                </td><td>5.616771                                </td><td>14.35447                                </td></tr>\n",
       "\t<tr><td>Unfinished Song                         </td><td>1                                       </td><td> 93                                     </td><td>PG-13                                   </td><td>  NA                                    </td><td>105                                     </td><td>  91                                    </td><td> 25728                                  </td><td>1702668                                 </td><td>64                                      </td><td>70                                      </td><td>2013                                    </td><td> 6                                      </td><td>10.155335                               </td><td>      NA                                </td><td>4.510860                                </td><td>14.34771                                </td></tr>\n",
       "\t<tr><td>Bless Me Ultima                         </td><td>0                                       </td><td>106                                     </td><td>PG-13                                   </td><td>  NA                                    </td><td> 48                                     </td><td> 263                                    </td><td>470109                                  </td><td>1553826                                 </td><td>71                                      </td><td>74                                      </td><td>2013                                    </td><td> 2                                      </td><td>13.060720                               </td><td>      NA                                </td><td>5.572154                                </td><td>14.25623                                </td></tr>\n",
       "\t<tr><td>Disconnect                              </td><td>0                                       </td><td>115                                     </td><td>R                                       </td><td>20.0                                    </td><td> 42                                     </td><td> 180                                    </td><td>124000                                  </td><td>1436900                                 </td><td>68                                      </td><td>76                                      </td><td>2013                                    </td><td> 4                                      </td><td>11.728037                               </td><td>16.81124                                </td><td>5.192957                                </td><td>14.17800                                </td></tr>\n",
       "\t<tr><td>Girl Most Likely                        </td><td>0                                       </td><td>103                                     </td><td>PG-13                                   </td><td>  NA                                    </td><td> 56                                     </td><td> 351                                    </td><td>694447                                  </td><td>1378591                                 </td><td>21                                      </td><td>33                                      </td><td>2013                                    </td><td> 7                                      </td><td>13.450871                               </td><td>      NA                                </td><td>5.860786                                </td><td>14.13657                                </td></tr>\n",
       "\t<tr><td>The Kings of Summer                     </td><td>0                                       </td><td> 93                                     </td><td>R                                       </td><td> 1.5                                    </td><td> 56                                     </td><td>  65                                    </td><td> 58962                                  </td><td>1315590                                 </td><td>75                                      </td><td>78                                      </td><td>2013                                    </td><td> 5                                      </td><td>10.984648                               </td><td>14.22098                                </td><td>4.174387                                </td><td>14.08980                                </td></tr>\n",
       "\t<tr><td>The Invisible Woman                     </td><td>1                                       </td><td>111                                     </td><td>R                                       </td><td>19.2                                    </td><td>142                                     </td><td> 153                                    </td><td> 31948                                  </td><td>1234254                                 </td><td>76                                      </td><td>46                                      </td><td>2013                                    </td><td>12                                      </td><td>10.371865                               </td><td>16.77042                                </td><td>5.030438                                </td><td>14.02598                                </td></tr>\n",
       "\t<tr><td>The Lords of Salem                      </td><td>0                                       </td><td>100                                     </td><td>R                                       </td><td> 1.5                                    </td><td> 28                                     </td><td> 354                                    </td><td>642942                                  </td><td>1165882                                 </td><td>45                                      </td><td>30                                      </td><td>2013                                    </td><td> 4                                      </td><td>13.373810                               </td><td>14.22098                                </td><td>5.869297                                </td><td>13.96899                                </td></tr>\n",
       "\t<tr><td>Romeo and Juliet (2013)                 </td><td>0                                       </td><td>102                                     </td><td>PG-13                                   </td><td>24.0                                    </td><td> 56                                     </td><td> 461                                    </td><td>520116                                  </td><td>1162635                                 </td><td>22                                      </td><td>49                                      </td><td>2013                                    </td><td>10                                      </td><td>13.161807                               </td><td>16.99356                                </td><td>6.133398                                </td><td>13.96620                                </td></tr>\n",
       "\t<tr><td>What Maisie Knew                        </td><td>0                                       </td><td> 99                                     </td><td>R                                       </td><td> 6.0                                    </td><td> 91                                     </td><td> 122                                    </td><td> 21480                                  </td><td>1066471                                 </td><td>87                                      </td><td>80                                      </td><td>2013                                    </td><td> 5                                      </td><td> 9.974878                               </td><td>15.60727                                </td><td>4.804021                                </td><td>13.87987                                </td></tr>\n",
       "\t<tr><td>Thanks for Sharing                      </td><td>0                                       </td><td>110                                     </td><td>R                                       </td><td>  NA                                    </td><td> 42                                     </td><td> 269                                    </td><td>536591                                  </td><td>1065881                                 </td><td>49                                      </td><td>43                                      </td><td>2013                                    </td><td> 9                                      </td><td>13.192991                               </td><td>      NA                                </td><td>5.594711                                </td><td>13.87931                                </td></tr>\n",
       "\t<tr><td>Phantom (2013)                          </td><td>0                                       </td><td> 97                                     </td><td>R                                       </td><td>18.0                                    </td><td> 17                                     </td><td>1118                                    </td><td>508000                                  </td><td>1034589                                 </td><td>25                                      </td><td>34                                      </td><td>2013                                    </td><td> 3                                      </td><td>13.138237                               </td><td>16.70588                                </td><td>7.019297                                </td><td>13.84951                                </td></tr>\n",
       "\t<tr><td>Kill Your Darlings                      </td><td>1                                       </td><td>104                                     </td><td>R                                       </td><td>  NA                                    </td><td>135                                     </td><td>  78                                    </td><td> 53452                                  </td><td>1030064                                 </td><td>76                                      </td><td>61                                      </td><td>2013                                    </td><td>10                                      </td><td>10.886539                               </td><td>      NA                                </td><td>4.356709                                </td><td>13.84513                                </td></tr>\n",
       "\t<tr><td>Short Term 12                           </td><td>0                                       </td><td> 96                                     </td><td>R                                       </td><td> 1.0                                    </td><td>182                                     </td><td>  75                                    </td><td> 56206                                  </td><td>1013100                                 </td><td>99                                      </td><td>92                                      </td><td>2013                                    </td><td> 8                                      </td><td>10.936779                               </td><td>13.81551                                </td><td>4.317488                                </td><td>13.82853                                </td></tr>\n",
       "\t<tr><td><span style=white-space:pre-wrap>Ginger &amp; Rosa                           </span></td><td>0                                                                                   </td><td> 90                                                                                 </td><td><span style=white-space:pre-wrap>PG-13  </span>                                     </td><td>20.0                                                                                </td><td> 84                                                                                 </td><td><span style=white-space:pre-wrap>  99</span>                                        </td><td> 42838                                                                              </td><td>1012973                                                                             </td><td>80                                                                                  </td><td>50                                                                                  </td><td>2013                                                                                </td><td> 3                                                                                  </td><td>10.665181                                                                           </td><td>16.81124                                                                            </td><td>4.595120                                                                            </td><td>13.82840                                                                            </td></tr>\n",
       "\t<tr><td>Only God Forgives                       </td><td>0                                       </td><td> 89                                     </td><td>R                                       </td><td> 4.8                                    </td><td> 49                                     </td><td>  81                                    </td><td>313958                                  </td><td> 779188                                 </td><td>40                                      </td><td>37                                      </td><td>2013                                    </td><td> 7                                      </td><td>12.657015                               </td><td>15.38413                                </td><td>4.394449                                </td><td>13.56601                                </td></tr>\n",
       "\t<tr><td>Parkland                                </td><td>0                                       </td><td> 93                                     </td><td>PG-13                                   </td><td>10.0                                    </td><td> 35                                     </td><td> 257                                    </td><td>310246                                  </td><td> 653651                                 </td><td>48                                      </td><td>47                                      </td><td>2013                                    </td><td>10                                      </td><td>12.645121                               </td><td>16.11810                                </td><td>5.549076                                </td><td>13.39033                                </td></tr>\n",
       "\t<tr><td>To The Wonder                           </td><td>0                                       </td><td>113                                     </td><td>R                                       </td><td>  NA                                    </td><td> 91                                     </td><td>  60                                    </td><td>116551                                  </td><td> 587615                                 </td><td>45                                      </td><td>38                                      </td><td>2013                                    </td><td> 4                                      </td><td>11.666084                               </td><td>      NA                                </td><td>4.094345                                </td><td>13.28383                                </td></tr>\n",
       "\t<tr><td>The Reluctant Fundamentalist            </td><td>0                                       </td><td>128                                     </td><td>R                                       </td><td>15.0                                    </td><td> 48                                     </td><td>  58                                    </td><td> 30920                                  </td><td> 552959                                 </td><td>54                                      </td><td>63                                      </td><td>2013                                    </td><td> 4                                      </td><td>10.339158                               </td><td>16.52356                                </td><td>4.060443                                </td><td>13.22304                                </td></tr>\n",
       "\t<tr><td>The Lost Medallion                      </td><td>0                                       </td><td> 97                                     </td><td>PG                                      </td><td> 2.5                                    </td><td> 76                                     </td><td>  68                                    </td><td>143532                                  </td><td> 549632                                 </td><td>NA                                      </td><td>53                                      </td><td>2013                                    </td><td> 3                                      </td><td>11.874313                               </td><td>14.73180                                </td><td>4.219508                                </td><td>13.21700                                </td></tr>\n",
       "\t<tr><td>The Inevitable Defeat of Mister and Pete</td><td>1                                       </td><td>108                                     </td><td>R                                       </td><td> 3.0                                    </td><td> 21                                     </td><td> 147                                    </td><td>254279                                  </td><td> 494608                                 </td><td>90                                      </td><td>88                                      </td><td>2013                                    </td><td>10                                      </td><td>12.446187                               </td><td>14.91412                                </td><td>4.990433                                </td><td>13.11152                                </td></tr>\n",
       "\t<tr><td>Upstream Color                          </td><td>0                                       </td><td> 96                                     </td><td>Unrated                                 </td><td>  NA                                    </td><td> 84                                     </td><td>  43                                    </td><td> 28649                                  </td><td> 444098                                 </td><td>84                                      </td><td>70                                      </td><td>2013                                    </td><td> 4                                      </td><td>10.262874                               </td><td>      NA                                </td><td>3.761200                                </td><td>13.00380                                </td></tr>\n",
       "\t<tr><td>Ain't Them Bodies Saints                </td><td>0                                       </td><td> 90                                     </td><td>R                                       </td><td> 4.0                                    </td><td> 48                                     </td><td>  44                                    </td><td> 26419                                  </td><td> 396519                                 </td><td>79                                      </td><td>62                                      </td><td>2013                                    </td><td> 8                                      </td><td>10.181839                               </td><td>15.20180                                </td><td>3.784190                                </td><td>12.89048                                </td></tr>\n",
       "\t<tr><td>At Any Price                            </td><td>1                                       </td><td>105                                     </td><td>R                                       </td><td> 4.5                                    </td><td>100                                     </td><td>  81                                    </td><td> 16095                                  </td><td> 380594                                 </td><td>50                                      </td><td>33                                      </td><td>2013                                    </td><td> 4                                      </td><td> 9.686264                               </td><td>15.31959                                </td><td>4.394449                                </td><td>12.84949                                </td></tr>\n",
       "\t<tr><td>Lovelace                                </td><td>0                                       </td><td> 92                                     </td><td>R                                       </td><td>10.0                                    </td><td> 28                                     </td><td> 118                                    </td><td>184536                                  </td><td> 356582                                 </td><td>54                                      </td><td>37                                      </td><td>2013                                    </td><td> 8                                      </td><td>12.125600                               </td><td>16.11810                                </td><td>4.770685                                </td><td>12.78432                                </td></tr>\n",
       "\t<tr><td>Drinking Buddies                        </td><td>0                                       </td><td> 90                                     </td><td>R                                       </td><td> 0.5                                    </td><td> 91                                     </td><td>  33                                    </td><td> 19505                                  </td><td> 343341                                 </td><td>83                                      </td><td>49                                      </td><td>2013                                    </td><td> 8                                      </td><td> 9.878426                               </td><td>13.12236                                </td><td>3.496508                                </td><td>12.74648                                </td></tr>\n",
       "\t<tr><td>Diana                                   </td><td>0                                       </td><td>113                                     </td><td>PG-13                                   </td><td>15.0                                    </td><td> 28                                     </td><td> 100                                    </td><td> 67754                                  </td><td> 335359                                 </td><td> 8                                      </td><td>26                                      </td><td>2013                                    </td><td>11                                      </td><td>11.123639                               </td><td>16.52356                                </td><td>4.605170                                </td><td>12.72296                                </td></tr>\n",
       "</tbody>\n",
       "</table>\n"
      ],
      "text/latex": [
       "\\begin{tabular}{r|lllllllllllllllll}\n",
       " Title & MajorStudio & Runtime & Rating & Production Budget (in millions) & In Release & Widest Release & Opening Weekend Gross & Total Gross & Critic Rating & Audience Rating & Year & MonthOfRelease & LogOpeningWeekendGross & LogProductionBudget & LogWidestRelease & LogTotalGross\\\\\n",
       "\\hline\n",
       "\t Toy Story 3                                              & 1                                                        & 103                                                      & G                                                        & 200                                                      & 168                                                      & 4028                                                     & 110307189                                                & 415004880                                                & 99                                                       & 89                                                       & 2010                                                     &  6                                                       & 18.51878                                                 & 19.11383                                                 & 8.301025                                                 & 19.84380                                                \\\\\n",
       "\t Alice in Wonderland (2010)                               & 1                                                        & 109                                                      & PG                                                       & 200                                                      & 126                                                      & 3739                                                     & 116101023                                                & 334191110                                                & 51                                                       & 55                                                       & 2010                                                     &  3                                                       & 18.56997                                                 & 19.11383                                                 & 8.226573                                                 & 19.62722                                                \\\\\n",
       "\t Iron Man 2                                               & 1                                                        & 125                                                      & PG-13                                                    & 200                                                      & 104                                                      & 4390                                                     & 128122480                                                & 312433331                                                & 73                                                       & 73                                                       & 2010                                                     &  5                                                       & 18.66850                                                 & 19.11383                                                 & 8.387085                                                 & 19.55990                                                \\\\\n",
       "\t The Twilight Saga: Eclipse                               & 0                                                        & 124                                                      & PG-13                                                    &  68                                                      & 114                                                      & 4468                                                     &  64832191                                                & 300531751                                                & 49                                                       & 60                                                       & 2010                                                     &  6                                                       & 17.98731                                                 & 18.03502                                                 & 8.404696                                                 & 19.52106                                                \\\\\n",
       "\t Harry Potter and the Deathly Hallows Part 1              & 1                                                        & 150                                                      & PG-13                                                    & 125                                                      & 139                                                      & 4125                                                     & 125017372                                                & 295983305                                                & 78                                                       & 84                                                       & 2010                                                     & 11                                                       & 18.64396                                                 & 18.64382                                                 & 8.324821                                                 & 19.50581                                                \\\\\n",
       "\t Inception                                                & 1                                                        & 148                                                      & PG-13                                                    & 160                                                      & 175                                                      & 3792                                                     &  62785337                                                & 292576195                                                & 86                                                       & 91                                                       & 2010                                                     &  7                                                       & 17.95523                                                 & 18.89068                                                 & 8.240649                                                 & 19.49424                                                \\\\\n",
       "\t Despicable Me                                            & 1                                                        &  95                                                      & PG                                                       &  69                                                      & 196                                                      & 3602                                                     &  56397125                                                & 251513985                                                & 81                                                       & 82                                                       & 2010                                                     &  7                                                       & 17.84793                                                 & 18.04962                                                 & 8.189245                                                 & 19.34301                                                \\\\\n",
       "\t Shrek Forever After                                      & 1                                                        &  93                                                      & PG                                                       & 165                                                      & 112                                                      & 4386                                                     &  70838207                                                & 238736787                                                & 58                                                       & 54                                                       & 2010                                                     &  5                                                       & 18.07591                                                 & 18.92146                                                 & 8.386173                                                 & 19.29087                                                \\\\\n",
       "\t How to Train Your Dragon                                 & 1                                                        &  98                                                      & PG                                                       & 165                                                      & 119                                                      & 4060                                                     &  43732319                                                & 217581231                                                & 98                                                       & 91                                                       & 2010                                                     &  3                                                       & 17.59360                                                 & 18.92146                                                 & 8.308938                                                 & 19.19808                                                \\\\\n",
       "\t Tangled                                                  & 1                                                        & 100                                                      & PG                                                       & 260                                                      & 191                                                      & 3603                                                     &  48767052                                                & 200821936                                                & 89                                                       & 87                                                       & 2010                                                     & 11                                                       & 17.70257                                                 & 19.37619                                                 & 8.189522                                                 & 19.11793                                                \\\\\n",
       "\t The Karate Kid                                           & 1                                                        & 140                                                      & PG                                                       &  40                                                      & 105                                                      & 3740                                                     &  55665805                                                & 176591618                                                & 66                                                       & 67                                                       & 2010                                                     &  6                                                       & 17.83488                                                 & 17.50439                                                 & 8.226841                                                 & 18.98935                                                \\\\\n",
       "\t Tron Legacy                                              & 1                                                        & 125                                                      & PG                                                       & 170                                                      & 119                                                      & 3451                                                     &  44026211                                                & 172062763                                                & 51                                                       & 63                                                       & 2010                                                     & 12                                                       & 17.60030                                                 & 18.95131                                                 & 8.146419                                                 & 18.96337                                                \\\\\n",
       "\t True Grit                                                & 1                                                        & 110                                                      & PG-13                                                    &  38                                                      & 127                                                      & 3464                                                     &  24830443                                                & 171243005                                                & 96                                                       & 85                                                       & 2010                                                     & 12                                                       & 17.02758                                                 & 17.45310                                                 & 8.150179                                                 & 18.95859                                                \\\\\n",
       "\t Clash of the Titans (2010)                               & 1                                                        & 118                                                      & PG-13                                                    & 125                                                      & 112                                                      & 3802                                                     &  61235105                                                & 163214888                                                & 28                                                       & 40                                                       & 2010                                                     &  4                                                       & 17.93023                                                 & 18.64382                                                 & 8.243283                                                 & 18.91058                                                \\\\\n",
       "\t Grown Ups                                                & 1                                                        & 102                                                      & PG-13                                                    &  80                                                      & 126                                                      & 3534                                                     &  40506562                                                & 162001186                                                & 10                                                       & 63                                                       & 2010                                                     &  6                                                       & 17.51697                                                 & 18.19754                                                 & 8.170186                                                 & 18.90311                                                \\\\\n",
       "\t Little Fockers                                           & 1                                                        &  98                                                      & PG-13                                                    & 100                                                      &  86                                                      & 3675                                                     &  30833665                                                & 148438600                                                & 10                                                       & 35                                                       & 2010                                                     & 12                                                       & 17.24412                                                 & 18.42068                                                 & 8.209308                                                 & 18.81568                                                \\\\\n",
       "\t Megamind                                                 & 1                                                        &  96                                                      & PG                                                       & 130                                                      & 112                                                      & 3949                                                     &  46016833                                                & 148415853                                                & 72                                                       & 71                                                       & 2010                                                     & 11                                                       & 17.64452                                                 & 18.68305                                                 & 8.281218                                                 & 18.81553                                                \\\\\n",
       "\t The Last Airbender                                       & 1                                                        & 103                                                      & PG                                                       & 150                                                      &  84                                                      & 3203                                                     &  40325019                                                & 131772187                                                &  6                                                       & 31                                                       & 2010                                                     &  7                                                       & 17.51248                                                 & 18.82615                                                 & 8.071843                                                 & 18.69659                                                \\\\\n",
       "\t Shutter Island                                           & 1                                                        & 138                                                      & R                                                        &  80                                                      & 112                                                      & 3356                                                     &  41062440                                                & 128012934                                                & 69                                                       & 76                                                       & 2010                                                     &  2                                                       & 17.53060                                                 & 18.19754                                                 & 8.118505                                                 & 18.66764                                                \\\\\n",
       "\t The Other Guys                                           & 1                                                        & 107                                                      & PG-13                                                    & 100                                                      & 105                                                      & 3651                                                     &  35543162                                                & 119219978                                                & 79                                                       & 59                                                       & 2010                                                     &  8                                                       & 17.38626                                                 & 18.42068                                                 & 8.202756                                                 & 18.59648                                                \\\\\n",
       "\t Salt                                                     & 1                                                        &  99                                                      & PG-13                                                    & 110                                                      &  98                                                      & 3612                                                     &  36011243                                                & 118311368                                                & 62                                                       & 59                                                       & 2010                                                     &  7                                                       & 17.39934                                                 & 18.51599                                                 & 8.192017                                                 & 18.58883                                                \\\\\n",
       "\t Jackass 3-D                                              & 1                                                        &  94                                                      & R                                                        &  20                                                      &  98                                                      & 3139                                                     &  50353641                                                & 117229692                                                & 64                                                       & 70                                                       & 2010                                                     & 10                                                       & 17.73458                                                 & 16.81124                                                 & 8.051660                                                 & 18.57965                                                \\\\\n",
       "\t Valentine's Day                                          & 1                                                        & 117                                                      & PG-13                                                    &  52                                                      &  84                                                      & 3665                                                     &  56260707                                                & 110485654                                                & 18                                                       & 48                                                       & 2010                                                     &  2                                                       & 17.84551                                                 & 17.76675                                                 & 8.206584                                                 & 18.52040                                                \\\\\n",
       "\t Robin Hood                                               & 1                                                        & 148                                                      & PG-13                                                    & 200                                                      &  84                                                      & 3505                                                     &  36063385                                                & 105269730                                                & 43                                                       & 58                                                       & 2010                                                     &  5                                                       & 17.40079                                                 & 19.11383                                                 & 8.161946                                                 & 18.47204                                                \\\\\n",
       "\t The Chronicles of Narnia: The Voyage of the Dawn Treader & 1                                                        & 112                                                      & PG                                                       & 155                                                      & 126                                                      & 3555                                                     &  24005069                                                & 104386950                                                & 49                                                       & 58                                                       & 2010                                                     & 12                                                       & 16.99378                                                 & 18.85894                                                 & 8.176110                                                 & 18.46362                                                \\\\\n",
       "\t The Expendables                                          & 1                                                        & 103                                                      & R                                                        &  80                                                      &  70                                                      & 3398                                                     &  34825135                                                & 103068524                                                & 41                                                       & 64                                                       & 2010                                                     &  8                                                       & 17.36585                                                 & 18.19754                                                 & 8.130942                                                 & 18.45090                                                \\\\\n",
       "\t Due Date                                                 & 1                                                        &  95                                                      & R                                                        &  65                                                      &  84                                                      & 3365                                                     &  32689406                                                & 100539043                                                & 40                                                       & 52                                                       & 2010                                                     & 11                                                       & 17.30256                                                 & 17.98990                                                 & 8.121183                                                 & 18.42606                                                \\\\\n",
       "\t Yogi Bear                                                & 1                                                        &  82                                                      & PG                                                       &  80                                                      & 112                                                      & 3515                                                     &  16411322                                                & 100246011                                                & 13                                                       & 34                                                       & 2010                                                     & 12                                                       & 16.61348                                                 & 18.19754                                                 & 8.164795                                                 & 18.42314                                                \\\\\n",
       "\t Date Night                                               & 1                                                        &  88                                                      & PG-13                                                    &  55                                                      & 154                                                      & 3380                                                     &  25207599                                                &  98711404                                                & 67                                                       & 55                                                       & 2010                                                     &  4                                                       & 17.04266                                                 & 17.82284                                                 & 8.125631                                                 & 18.40771                                                \\\\\n",
       "\t The Social Network                                       & 1                                                        & 120                                                      & PG-13                                                    &  40                                                      & 154                                                      & 2921                                                     &  22445653                                                &  96962694                                                & 96                                                       & 86                                                       & 2010                                                     & 10                                                       & 16.92661                                                 & 17.50439                                                 & 7.979681                                                 & 18.38984                                                \\\\\n",
       "\t ⋮ & ⋮ & ⋮ & ⋮ & ⋮ & ⋮ & ⋮ & ⋮ & ⋮ & ⋮ & ⋮ & ⋮ & ⋮ & ⋮ & ⋮ & ⋮ & ⋮\\\\\n",
       "\t Austenland                               & 1                                        &  97                                      & PG-13                                    &  7.6                                     & 140                                      &  274                                     &  40662                                   & 2159041                                  & 30                                       & 56                                       & 2013                                     &  8                                       & 10.613049                                & 15.84366                                 & 5.613128                                 & 14.58517                                \\\\\n",
       "\t The Saratov Approach                     & 0                                        & 101                                      & PG-13                                    &   NA                                     & 152                                      &   84                                     & 137226                                   & 2146999                                  & NA                                       & 88                                       & 2013                                     & 10                                       & 11.829384                                &       NA                                 & 4.430817                                 & 14.57958                                \\\\\n",
       "\t The Iceman (2013)                        & 0                                        & 105                                      & R                                        & 10.0                                     &  91                                      &  258                                     &  87946                                   & 1969193                                  & 66                                       & 63                                       & 2013                                     &  5                                       & 11.384478                                & 16.11810                                 & 5.552960                                 & 14.49313                                \\\\\n",
       "\t Stoker                                   & 1                                        &  99                                      & R                                        & 12.0                                     &  69                                      &  275                                     & 160547                                   & 1714221                                  & 69                                       & 61                                       & 2013                                     &  3                                       & 11.986342                                & 16.30042                                 & 5.616771                                 & 14.35447                                \\\\\n",
       "\t Unfinished Song                          & 1                                        &  93                                      & PG-13                                    &   NA                                     & 105                                      &   91                                     &  25728                                   & 1702668                                  & 64                                       & 70                                       & 2013                                     &  6                                       & 10.155335                                &       NA                                 & 4.510860                                 & 14.34771                                \\\\\n",
       "\t Bless Me Ultima                          & 0                                        & 106                                      & PG-13                                    &   NA                                     &  48                                      &  263                                     & 470109                                   & 1553826                                  & 71                                       & 74                                       & 2013                                     &  2                                       & 13.060720                                &       NA                                 & 5.572154                                 & 14.25623                                \\\\\n",
       "\t Disconnect                               & 0                                        & 115                                      & R                                        & 20.0                                     &  42                                      &  180                                     & 124000                                   & 1436900                                  & 68                                       & 76                                       & 2013                                     &  4                                       & 11.728037                                & 16.81124                                 & 5.192957                                 & 14.17800                                \\\\\n",
       "\t Girl Most Likely                         & 0                                        & 103                                      & PG-13                                    &   NA                                     &  56                                      &  351                                     & 694447                                   & 1378591                                  & 21                                       & 33                                       & 2013                                     &  7                                       & 13.450871                                &       NA                                 & 5.860786                                 & 14.13657                                \\\\\n",
       "\t The Kings of Summer                      & 0                                        &  93                                      & R                                        &  1.5                                     &  56                                      &   65                                     &  58962                                   & 1315590                                  & 75                                       & 78                                       & 2013                                     &  5                                       & 10.984648                                & 14.22098                                 & 4.174387                                 & 14.08980                                \\\\\n",
       "\t The Invisible Woman                      & 1                                        & 111                                      & R                                        & 19.2                                     & 142                                      &  153                                     &  31948                                   & 1234254                                  & 76                                       & 46                                       & 2013                                     & 12                                       & 10.371865                                & 16.77042                                 & 5.030438                                 & 14.02598                                \\\\\n",
       "\t The Lords of Salem                       & 0                                        & 100                                      & R                                        &  1.5                                     &  28                                      &  354                                     & 642942                                   & 1165882                                  & 45                                       & 30                                       & 2013                                     &  4                                       & 13.373810                                & 14.22098                                 & 5.869297                                 & 13.96899                                \\\\\n",
       "\t Romeo and Juliet (2013)                  & 0                                        & 102                                      & PG-13                                    & 24.0                                     &  56                                      &  461                                     & 520116                                   & 1162635                                  & 22                                       & 49                                       & 2013                                     & 10                                       & 13.161807                                & 16.99356                                 & 6.133398                                 & 13.96620                                \\\\\n",
       "\t What Maisie Knew                         & 0                                        &  99                                      & R                                        &  6.0                                     &  91                                      &  122                                     &  21480                                   & 1066471                                  & 87                                       & 80                                       & 2013                                     &  5                                       &  9.974878                                & 15.60727                                 & 4.804021                                 & 13.87987                                \\\\\n",
       "\t Thanks for Sharing                       & 0                                        & 110                                      & R                                        &   NA                                     &  42                                      &  269                                     & 536591                                   & 1065881                                  & 49                                       & 43                                       & 2013                                     &  9                                       & 13.192991                                &       NA                                 & 5.594711                                 & 13.87931                                \\\\\n",
       "\t Phantom (2013)                           & 0                                        &  97                                      & R                                        & 18.0                                     &  17                                      & 1118                                     & 508000                                   & 1034589                                  & 25                                       & 34                                       & 2013                                     &  3                                       & 13.138237                                & 16.70588                                 & 7.019297                                 & 13.84951                                \\\\\n",
       "\t Kill Your Darlings                       & 1                                        & 104                                      & R                                        &   NA                                     & 135                                      &   78                                     &  53452                                   & 1030064                                  & 76                                       & 61                                       & 2013                                     & 10                                       & 10.886539                                &       NA                                 & 4.356709                                 & 13.84513                                \\\\\n",
       "\t Short Term 12                            & 0                                        &  96                                      & R                                        &  1.0                                     & 182                                      &   75                                     &  56206                                   & 1013100                                  & 99                                       & 92                                       & 2013                                     &  8                                       & 10.936779                                & 13.81551                                 & 4.317488                                 & 13.82853                                \\\\\n",
       "\t Ginger \\& Rosa                            & 0                                          &  90                                        & PG-13                                      & 20.0                                       &  84                                        &   99                                       &  42838                                     & 1012973                                    & 80                                         & 50                                         & 2013                                       &  3                                         & 10.665181                                  & 16.81124                                   & 4.595120                                   & 13.82840                                  \\\\\n",
       "\t Only God Forgives                        & 0                                        &  89                                      & R                                        &  4.8                                     &  49                                      &   81                                     & 313958                                   &  779188                                  & 40                                       & 37                                       & 2013                                     &  7                                       & 12.657015                                & 15.38413                                 & 4.394449                                 & 13.56601                                \\\\\n",
       "\t Parkland                                 & 0                                        &  93                                      & PG-13                                    & 10.0                                     &  35                                      &  257                                     & 310246                                   &  653651                                  & 48                                       & 47                                       & 2013                                     & 10                                       & 12.645121                                & 16.11810                                 & 5.549076                                 & 13.39033                                \\\\\n",
       "\t To The Wonder                            & 0                                        & 113                                      & R                                        &   NA                                     &  91                                      &   60                                     & 116551                                   &  587615                                  & 45                                       & 38                                       & 2013                                     &  4                                       & 11.666084                                &       NA                                 & 4.094345                                 & 13.28383                                \\\\\n",
       "\t The Reluctant Fundamentalist             & 0                                        & 128                                      & R                                        & 15.0                                     &  48                                      &   58                                     &  30920                                   &  552959                                  & 54                                       & 63                                       & 2013                                     &  4                                       & 10.339158                                & 16.52356                                 & 4.060443                                 & 13.22304                                \\\\\n",
       "\t The Lost Medallion                       & 0                                        &  97                                      & PG                                       &  2.5                                     &  76                                      &   68                                     & 143532                                   &  549632                                  & NA                                       & 53                                       & 2013                                     &  3                                       & 11.874313                                & 14.73180                                 & 4.219508                                 & 13.21700                                \\\\\n",
       "\t The Inevitable Defeat of Mister and Pete & 1                                        & 108                                      & R                                        &  3.0                                     &  21                                      &  147                                     & 254279                                   &  494608                                  & 90                                       & 88                                       & 2013                                     & 10                                       & 12.446187                                & 14.91412                                 & 4.990433                                 & 13.11152                                \\\\\n",
       "\t Upstream Color                           & 0                                        &  96                                      & Unrated                                  &   NA                                     &  84                                      &   43                                     &  28649                                   &  444098                                  & 84                                       & 70                                       & 2013                                     &  4                                       & 10.262874                                &       NA                                 & 3.761200                                 & 13.00380                                \\\\\n",
       "\t Ain't Them Bodies Saints                 & 0                                        &  90                                      & R                                        &  4.0                                     &  48                                      &   44                                     &  26419                                   &  396519                                  & 79                                       & 62                                       & 2013                                     &  8                                       & 10.181839                                & 15.20180                                 & 3.784190                                 & 12.89048                                \\\\\n",
       "\t At Any Price                             & 1                                        & 105                                      & R                                        &  4.5                                     & 100                                      &   81                                     &  16095                                   &  380594                                  & 50                                       & 33                                       & 2013                                     &  4                                       &  9.686264                                & 15.31959                                 & 4.394449                                 & 12.84949                                \\\\\n",
       "\t Lovelace                                 & 0                                        &  92                                      & R                                        & 10.0                                     &  28                                      &  118                                     & 184536                                   &  356582                                  & 54                                       & 37                                       & 2013                                     &  8                                       & 12.125600                                & 16.11810                                 & 4.770685                                 & 12.78432                                \\\\\n",
       "\t Drinking Buddies                         & 0                                        &  90                                      & R                                        &  0.5                                     &  91                                      &   33                                     &  19505                                   &  343341                                  & 83                                       & 49                                       & 2013                                     &  8                                       &  9.878426                                & 13.12236                                 & 3.496508                                 & 12.74648                                \\\\\n",
       "\t Diana                                    & 0                                        & 113                                      & PG-13                                    & 15.0                                     &  28                                      &  100                                     &  67754                                   &  335359                                  &  8                                       & 26                                       & 2013                                     & 11                                       & 11.123639                                & 16.52356                                 & 4.605170                                 & 12.72296                                \\\\\n",
       "\\end{tabular}\n"
      ],
      "text/markdown": [
       "\n",
       "Title | MajorStudio | Runtime | Rating | Production Budget (in millions) | In Release | Widest Release | Opening Weekend Gross | Total Gross | Critic Rating | Audience Rating | Year | MonthOfRelease | LogOpeningWeekendGross | LogProductionBudget | LogWidestRelease | LogTotalGross | \n",
       "|---|---|---|---|---|---|---|---|---|---|---|---|---|---|---|---|---|---|---|---|---|---|---|---|---|---|---|---|---|---|---|---|---|---|---|---|---|---|---|---|---|---|---|---|---|---|---|---|---|---|---|---|---|---|---|---|---|---|---|---|---|\n",
       "| Toy Story 3                                              | 1                                                        | 103                                                      | G                                                        | 200                                                      | 168                                                      | 4028                                                     | 110307189                                                | 415004880                                                | 99                                                       | 89                                                       | 2010                                                     |  6                                                       | 18.51878                                                 | 19.11383                                                 | 8.301025                                                 | 19.84380                                                 | \n",
       "| Alice in Wonderland (2010)                               | 1                                                        | 109                                                      | PG                                                       | 200                                                      | 126                                                      | 3739                                                     | 116101023                                                | 334191110                                                | 51                                                       | 55                                                       | 2010                                                     |  3                                                       | 18.56997                                                 | 19.11383                                                 | 8.226573                                                 | 19.62722                                                 | \n",
       "| Iron Man 2                                               | 1                                                        | 125                                                      | PG-13                                                    | 200                                                      | 104                                                      | 4390                                                     | 128122480                                                | 312433331                                                | 73                                                       | 73                                                       | 2010                                                     |  5                                                       | 18.66850                                                 | 19.11383                                                 | 8.387085                                                 | 19.55990                                                 | \n",
       "| The Twilight Saga: Eclipse                               | 0                                                        | 124                                                      | PG-13                                                    |  68                                                      | 114                                                      | 4468                                                     |  64832191                                                | 300531751                                                | 49                                                       | 60                                                       | 2010                                                     |  6                                                       | 17.98731                                                 | 18.03502                                                 | 8.404696                                                 | 19.52106                                                 | \n",
       "| Harry Potter and the Deathly Hallows Part 1              | 1                                                        | 150                                                      | PG-13                                                    | 125                                                      | 139                                                      | 4125                                                     | 125017372                                                | 295983305                                                | 78                                                       | 84                                                       | 2010                                                     | 11                                                       | 18.64396                                                 | 18.64382                                                 | 8.324821                                                 | 19.50581                                                 | \n",
       "| Inception                                                | 1                                                        | 148                                                      | PG-13                                                    | 160                                                      | 175                                                      | 3792                                                     |  62785337                                                | 292576195                                                | 86                                                       | 91                                                       | 2010                                                     |  7                                                       | 17.95523                                                 | 18.89068                                                 | 8.240649                                                 | 19.49424                                                 | \n",
       "| Despicable Me                                            | 1                                                        |  95                                                      | PG                                                       |  69                                                      | 196                                                      | 3602                                                     |  56397125                                                | 251513985                                                | 81                                                       | 82                                                       | 2010                                                     |  7                                                       | 17.84793                                                 | 18.04962                                                 | 8.189245                                                 | 19.34301                                                 | \n",
       "| Shrek Forever After                                      | 1                                                        |  93                                                      | PG                                                       | 165                                                      | 112                                                      | 4386                                                     |  70838207                                                | 238736787                                                | 58                                                       | 54                                                       | 2010                                                     |  5                                                       | 18.07591                                                 | 18.92146                                                 | 8.386173                                                 | 19.29087                                                 | \n",
       "| How to Train Your Dragon                                 | 1                                                        |  98                                                      | PG                                                       | 165                                                      | 119                                                      | 4060                                                     |  43732319                                                | 217581231                                                | 98                                                       | 91                                                       | 2010                                                     |  3                                                       | 17.59360                                                 | 18.92146                                                 | 8.308938                                                 | 19.19808                                                 | \n",
       "| Tangled                                                  | 1                                                        | 100                                                      | PG                                                       | 260                                                      | 191                                                      | 3603                                                     |  48767052                                                | 200821936                                                | 89                                                       | 87                                                       | 2010                                                     | 11                                                       | 17.70257                                                 | 19.37619                                                 | 8.189522                                                 | 19.11793                                                 | \n",
       "| The Karate Kid                                           | 1                                                        | 140                                                      | PG                                                       |  40                                                      | 105                                                      | 3740                                                     |  55665805                                                | 176591618                                                | 66                                                       | 67                                                       | 2010                                                     |  6                                                       | 17.83488                                                 | 17.50439                                                 | 8.226841                                                 | 18.98935                                                 | \n",
       "| Tron Legacy                                              | 1                                                        | 125                                                      | PG                                                       | 170                                                      | 119                                                      | 3451                                                     |  44026211                                                | 172062763                                                | 51                                                       | 63                                                       | 2010                                                     | 12                                                       | 17.60030                                                 | 18.95131                                                 | 8.146419                                                 | 18.96337                                                 | \n",
       "| True Grit                                                | 1                                                        | 110                                                      | PG-13                                                    |  38                                                      | 127                                                      | 3464                                                     |  24830443                                                | 171243005                                                | 96                                                       | 85                                                       | 2010                                                     | 12                                                       | 17.02758                                                 | 17.45310                                                 | 8.150179                                                 | 18.95859                                                 | \n",
       "| Clash of the Titans (2010)                               | 1                                                        | 118                                                      | PG-13                                                    | 125                                                      | 112                                                      | 3802                                                     |  61235105                                                | 163214888                                                | 28                                                       | 40                                                       | 2010                                                     |  4                                                       | 17.93023                                                 | 18.64382                                                 | 8.243283                                                 | 18.91058                                                 | \n",
       "| Grown Ups                                                | 1                                                        | 102                                                      | PG-13                                                    |  80                                                      | 126                                                      | 3534                                                     |  40506562                                                | 162001186                                                | 10                                                       | 63                                                       | 2010                                                     |  6                                                       | 17.51697                                                 | 18.19754                                                 | 8.170186                                                 | 18.90311                                                 | \n",
       "| Little Fockers                                           | 1                                                        |  98                                                      | PG-13                                                    | 100                                                      |  86                                                      | 3675                                                     |  30833665                                                | 148438600                                                | 10                                                       | 35                                                       | 2010                                                     | 12                                                       | 17.24412                                                 | 18.42068                                                 | 8.209308                                                 | 18.81568                                                 | \n",
       "| Megamind                                                 | 1                                                        |  96                                                      | PG                                                       | 130                                                      | 112                                                      | 3949                                                     |  46016833                                                | 148415853                                                | 72                                                       | 71                                                       | 2010                                                     | 11                                                       | 17.64452                                                 | 18.68305                                                 | 8.281218                                                 | 18.81553                                                 | \n",
       "| The Last Airbender                                       | 1                                                        | 103                                                      | PG                                                       | 150                                                      |  84                                                      | 3203                                                     |  40325019                                                | 131772187                                                |  6                                                       | 31                                                       | 2010                                                     |  7                                                       | 17.51248                                                 | 18.82615                                                 | 8.071843                                                 | 18.69659                                                 | \n",
       "| Shutter Island                                           | 1                                                        | 138                                                      | R                                                        |  80                                                      | 112                                                      | 3356                                                     |  41062440                                                | 128012934                                                | 69                                                       | 76                                                       | 2010                                                     |  2                                                       | 17.53060                                                 | 18.19754                                                 | 8.118505                                                 | 18.66764                                                 | \n",
       "| The Other Guys                                           | 1                                                        | 107                                                      | PG-13                                                    | 100                                                      | 105                                                      | 3651                                                     |  35543162                                                | 119219978                                                | 79                                                       | 59                                                       | 2010                                                     |  8                                                       | 17.38626                                                 | 18.42068                                                 | 8.202756                                                 | 18.59648                                                 | \n",
       "| Salt                                                     | 1                                                        |  99                                                      | PG-13                                                    | 110                                                      |  98                                                      | 3612                                                     |  36011243                                                | 118311368                                                | 62                                                       | 59                                                       | 2010                                                     |  7                                                       | 17.39934                                                 | 18.51599                                                 | 8.192017                                                 | 18.58883                                                 | \n",
       "| Jackass 3-D                                              | 1                                                        |  94                                                      | R                                                        |  20                                                      |  98                                                      | 3139                                                     |  50353641                                                | 117229692                                                | 64                                                       | 70                                                       | 2010                                                     | 10                                                       | 17.73458                                                 | 16.81124                                                 | 8.051660                                                 | 18.57965                                                 | \n",
       "| Valentine's Day                                          | 1                                                        | 117                                                      | PG-13                                                    |  52                                                      |  84                                                      | 3665                                                     |  56260707                                                | 110485654                                                | 18                                                       | 48                                                       | 2010                                                     |  2                                                       | 17.84551                                                 | 17.76675                                                 | 8.206584                                                 | 18.52040                                                 | \n",
       "| Robin Hood                                               | 1                                                        | 148                                                      | PG-13                                                    | 200                                                      |  84                                                      | 3505                                                     |  36063385                                                | 105269730                                                | 43                                                       | 58                                                       | 2010                                                     |  5                                                       | 17.40079                                                 | 19.11383                                                 | 8.161946                                                 | 18.47204                                                 | \n",
       "| The Chronicles of Narnia: The Voyage of the Dawn Treader | 1                                                        | 112                                                      | PG                                                       | 155                                                      | 126                                                      | 3555                                                     |  24005069                                                | 104386950                                                | 49                                                       | 58                                                       | 2010                                                     | 12                                                       | 16.99378                                                 | 18.85894                                                 | 8.176110                                                 | 18.46362                                                 | \n",
       "| The Expendables                                          | 1                                                        | 103                                                      | R                                                        |  80                                                      |  70                                                      | 3398                                                     |  34825135                                                | 103068524                                                | 41                                                       | 64                                                       | 2010                                                     |  8                                                       | 17.36585                                                 | 18.19754                                                 | 8.130942                                                 | 18.45090                                                 | \n",
       "| Due Date                                                 | 1                                                        |  95                                                      | R                                                        |  65                                                      |  84                                                      | 3365                                                     |  32689406                                                | 100539043                                                | 40                                                       | 52                                                       | 2010                                                     | 11                                                       | 17.30256                                                 | 17.98990                                                 | 8.121183                                                 | 18.42606                                                 | \n",
       "| Yogi Bear                                                | 1                                                        |  82                                                      | PG                                                       |  80                                                      | 112                                                      | 3515                                                     |  16411322                                                | 100246011                                                | 13                                                       | 34                                                       | 2010                                                     | 12                                                       | 16.61348                                                 | 18.19754                                                 | 8.164795                                                 | 18.42314                                                 | \n",
       "| Date Night                                               | 1                                                        |  88                                                      | PG-13                                                    |  55                                                      | 154                                                      | 3380                                                     |  25207599                                                |  98711404                                                | 67                                                       | 55                                                       | 2010                                                     |  4                                                       | 17.04266                                                 | 17.82284                                                 | 8.125631                                                 | 18.40771                                                 | \n",
       "| The Social Network                                       | 1                                                        | 120                                                      | PG-13                                                    |  40                                                      | 154                                                      | 2921                                                     |  22445653                                                |  96962694                                                | 96                                                       | 86                                                       | 2010                                                     | 10                                                       | 16.92661                                                 | 17.50439                                                 | 7.979681                                                 | 18.38984                                                 | \n",
       "| ⋮ | ⋮ | ⋮ | ⋮ | ⋮ | ⋮ | ⋮ | ⋮ | ⋮ | ⋮ | ⋮ | ⋮ | ⋮ | ⋮ | ⋮ | ⋮ | ⋮ | \n",
       "| Austenland                               | 1                                        |  97                                      | PG-13                                    |  7.6                                     | 140                                      |  274                                     |  40662                                   | 2159041                                  | 30                                       | 56                                       | 2013                                     |  8                                       | 10.613049                                | 15.84366                                 | 5.613128                                 | 14.58517                                 | \n",
       "| The Saratov Approach                     | 0                                        | 101                                      | PG-13                                    |   NA                                     | 152                                      |   84                                     | 137226                                   | 2146999                                  | NA                                       | 88                                       | 2013                                     | 10                                       | 11.829384                                |       NA                                 | 4.430817                                 | 14.57958                                 | \n",
       "| The Iceman (2013)                        | 0                                        | 105                                      | R                                        | 10.0                                     |  91                                      |  258                                     |  87946                                   | 1969193                                  | 66                                       | 63                                       | 2013                                     |  5                                       | 11.384478                                | 16.11810                                 | 5.552960                                 | 14.49313                                 | \n",
       "| Stoker                                   | 1                                        |  99                                      | R                                        | 12.0                                     |  69                                      |  275                                     | 160547                                   | 1714221                                  | 69                                       | 61                                       | 2013                                     |  3                                       | 11.986342                                | 16.30042                                 | 5.616771                                 | 14.35447                                 | \n",
       "| Unfinished Song                          | 1                                        |  93                                      | PG-13                                    |   NA                                     | 105                                      |   91                                     |  25728                                   | 1702668                                  | 64                                       | 70                                       | 2013                                     |  6                                       | 10.155335                                |       NA                                 | 4.510860                                 | 14.34771                                 | \n",
       "| Bless Me Ultima                          | 0                                        | 106                                      | PG-13                                    |   NA                                     |  48                                      |  263                                     | 470109                                   | 1553826                                  | 71                                       | 74                                       | 2013                                     |  2                                       | 13.060720                                |       NA                                 | 5.572154                                 | 14.25623                                 | \n",
       "| Disconnect                               | 0                                        | 115                                      | R                                        | 20.0                                     |  42                                      |  180                                     | 124000                                   | 1436900                                  | 68                                       | 76                                       | 2013                                     |  4                                       | 11.728037                                | 16.81124                                 | 5.192957                                 | 14.17800                                 | \n",
       "| Girl Most Likely                         | 0                                        | 103                                      | PG-13                                    |   NA                                     |  56                                      |  351                                     | 694447                                   | 1378591                                  | 21                                       | 33                                       | 2013                                     |  7                                       | 13.450871                                |       NA                                 | 5.860786                                 | 14.13657                                 | \n",
       "| The Kings of Summer                      | 0                                        |  93                                      | R                                        |  1.5                                     |  56                                      |   65                                     |  58962                                   | 1315590                                  | 75                                       | 78                                       | 2013                                     |  5                                       | 10.984648                                | 14.22098                                 | 4.174387                                 | 14.08980                                 | \n",
       "| The Invisible Woman                      | 1                                        | 111                                      | R                                        | 19.2                                     | 142                                      |  153                                     |  31948                                   | 1234254                                  | 76                                       | 46                                       | 2013                                     | 12                                       | 10.371865                                | 16.77042                                 | 5.030438                                 | 14.02598                                 | \n",
       "| The Lords of Salem                       | 0                                        | 100                                      | R                                        |  1.5                                     |  28                                      |  354                                     | 642942                                   | 1165882                                  | 45                                       | 30                                       | 2013                                     |  4                                       | 13.373810                                | 14.22098                                 | 5.869297                                 | 13.96899                                 | \n",
       "| Romeo and Juliet (2013)                  | 0                                        | 102                                      | PG-13                                    | 24.0                                     |  56                                      |  461                                     | 520116                                   | 1162635                                  | 22                                       | 49                                       | 2013                                     | 10                                       | 13.161807                                | 16.99356                                 | 6.133398                                 | 13.96620                                 | \n",
       "| What Maisie Knew                         | 0                                        |  99                                      | R                                        |  6.0                                     |  91                                      |  122                                     |  21480                                   | 1066471                                  | 87                                       | 80                                       | 2013                                     |  5                                       |  9.974878                                | 15.60727                                 | 4.804021                                 | 13.87987                                 | \n",
       "| Thanks for Sharing                       | 0                                        | 110                                      | R                                        |   NA                                     |  42                                      |  269                                     | 536591                                   | 1065881                                  | 49                                       | 43                                       | 2013                                     |  9                                       | 13.192991                                |       NA                                 | 5.594711                                 | 13.87931                                 | \n",
       "| Phantom (2013)                           | 0                                        |  97                                      | R                                        | 18.0                                     |  17                                      | 1118                                     | 508000                                   | 1034589                                  | 25                                       | 34                                       | 2013                                     |  3                                       | 13.138237                                | 16.70588                                 | 7.019297                                 | 13.84951                                 | \n",
       "| Kill Your Darlings                       | 1                                        | 104                                      | R                                        |   NA                                     | 135                                      |   78                                     |  53452                                   | 1030064                                  | 76                                       | 61                                       | 2013                                     | 10                                       | 10.886539                                |       NA                                 | 4.356709                                 | 13.84513                                 | \n",
       "| Short Term 12                            | 0                                        |  96                                      | R                                        |  1.0                                     | 182                                      |   75                                     |  56206                                   | 1013100                                  | 99                                       | 92                                       | 2013                                     |  8                                       | 10.936779                                | 13.81551                                 | 4.317488                                 | 13.82853                                 | \n",
       "| Ginger & Rosa                            | 0                                        |  90                                      | PG-13                                    | 20.0                                     |  84                                      |   99                                     |  42838                                   | 1012973                                  | 80                                       | 50                                       | 2013                                     |  3                                       | 10.665181                                | 16.81124                                 | 4.595120                                 | 13.82840                                 | \n",
       "| Only God Forgives                        | 0                                        |  89                                      | R                                        |  4.8                                     |  49                                      |   81                                     | 313958                                   |  779188                                  | 40                                       | 37                                       | 2013                                     |  7                                       | 12.657015                                | 15.38413                                 | 4.394449                                 | 13.56601                                 | \n",
       "| Parkland                                 | 0                                        |  93                                      | PG-13                                    | 10.0                                     |  35                                      |  257                                     | 310246                                   |  653651                                  | 48                                       | 47                                       | 2013                                     | 10                                       | 12.645121                                | 16.11810                                 | 5.549076                                 | 13.39033                                 | \n",
       "| To The Wonder                            | 0                                        | 113                                      | R                                        |   NA                                     |  91                                      |   60                                     | 116551                                   |  587615                                  | 45                                       | 38                                       | 2013                                     |  4                                       | 11.666084                                |       NA                                 | 4.094345                                 | 13.28383                                 | \n",
       "| The Reluctant Fundamentalist             | 0                                        | 128                                      | R                                        | 15.0                                     |  48                                      |   58                                     |  30920                                   |  552959                                  | 54                                       | 63                                       | 2013                                     |  4                                       | 10.339158                                | 16.52356                                 | 4.060443                                 | 13.22304                                 | \n",
       "| The Lost Medallion                       | 0                                        |  97                                      | PG                                       |  2.5                                     |  76                                      |   68                                     | 143532                                   |  549632                                  | NA                                       | 53                                       | 2013                                     |  3                                       | 11.874313                                | 14.73180                                 | 4.219508                                 | 13.21700                                 | \n",
       "| The Inevitable Defeat of Mister and Pete | 1                                        | 108                                      | R                                        |  3.0                                     |  21                                      |  147                                     | 254279                                   |  494608                                  | 90                                       | 88                                       | 2013                                     | 10                                       | 12.446187                                | 14.91412                                 | 4.990433                                 | 13.11152                                 | \n",
       "| Upstream Color                           | 0                                        |  96                                      | Unrated                                  |   NA                                     |  84                                      |   43                                     |  28649                                   |  444098                                  | 84                                       | 70                                       | 2013                                     |  4                                       | 10.262874                                |       NA                                 | 3.761200                                 | 13.00380                                 | \n",
       "| Ain't Them Bodies Saints                 | 0                                        |  90                                      | R                                        |  4.0                                     |  48                                      |   44                                     |  26419                                   |  396519                                  | 79                                       | 62                                       | 2013                                     |  8                                       | 10.181839                                | 15.20180                                 | 3.784190                                 | 12.89048                                 | \n",
       "| At Any Price                             | 1                                        | 105                                      | R                                        |  4.5                                     | 100                                      |   81                                     |  16095                                   |  380594                                  | 50                                       | 33                                       | 2013                                     |  4                                       |  9.686264                                | 15.31959                                 | 4.394449                                 | 12.84949                                 | \n",
       "| Lovelace                                 | 0                                        |  92                                      | R                                        | 10.0                                     |  28                                      |  118                                     | 184536                                   |  356582                                  | 54                                       | 37                                       | 2013                                     |  8                                       | 12.125600                                | 16.11810                                 | 4.770685                                 | 12.78432                                 | \n",
       "| Drinking Buddies                         | 0                                        |  90                                      | R                                        |  0.5                                     |  91                                      |   33                                     |  19505                                   |  343341                                  | 83                                       | 49                                       | 2013                                     |  8                                       |  9.878426                                | 13.12236                                 | 3.496508                                 | 12.74648                                 | \n",
       "| Diana                                    | 0                                        | 113                                      | PG-13                                    | 15.0                                     |  28                                      |  100                                     |  67754                                   |  335359                                  |  8                                       | 26                                       | 2013                                     | 11                                       | 11.123639                                | 16.52356                                 | 4.605170                                 | 12.72296                                 | \n",
       "\n",
       "\n"
      ],
      "text/plain": [
       "    Title                                                    MajorStudio\n",
       "1   Toy Story 3                                              1          \n",
       "2   Alice in Wonderland (2010)                               1          \n",
       "3   Iron Man 2                                               1          \n",
       "4   The Twilight Saga: Eclipse                               0          \n",
       "5   Harry Potter and the Deathly Hallows Part 1              1          \n",
       "6   Inception                                                1          \n",
       "7   Despicable Me                                            1          \n",
       "8   Shrek Forever After                                      1          \n",
       "9   How to Train Your Dragon                                 1          \n",
       "10  Tangled                                                  1          \n",
       "11  The Karate Kid                                           1          \n",
       "12  Tron Legacy                                              1          \n",
       "13  True Grit                                                1          \n",
       "14  Clash of the Titans (2010)                               1          \n",
       "15  Grown Ups                                                1          \n",
       "16  Little Fockers                                           1          \n",
       "17  Megamind                                                 1          \n",
       "18  The Last Airbender                                       1          \n",
       "19  Shutter Island                                           1          \n",
       "20  The Other Guys                                           1          \n",
       "21  Salt                                                     1          \n",
       "22  Jackass 3-D                                              1          \n",
       "23  Valentine's Day                                          1          \n",
       "24  Robin Hood                                               1          \n",
       "25  The Chronicles of Narnia: The Voyage of the Dawn Treader 1          \n",
       "26  The Expendables                                          1          \n",
       "27  Due Date                                                 1          \n",
       "28  Yogi Bear                                                1          \n",
       "29  Date Night                                               1          \n",
       "30  The Social Network                                       1          \n",
       "⋮   ⋮                                                        ⋮          \n",
       "651 Austenland                                               1          \n",
       "652 The Saratov Approach                                     0          \n",
       "653 The Iceman (2013)                                        0          \n",
       "654 Stoker                                                   1          \n",
       "655 Unfinished Song                                          1          \n",
       "656 Bless Me Ultima                                          0          \n",
       "657 Disconnect                                               0          \n",
       "658 Girl Most Likely                                         0          \n",
       "659 The Kings of Summer                                      0          \n",
       "660 The Invisible Woman                                      1          \n",
       "661 The Lords of Salem                                       0          \n",
       "662 Romeo and Juliet (2013)                                  0          \n",
       "663 What Maisie Knew                                         0          \n",
       "664 Thanks for Sharing                                       0          \n",
       "665 Phantom (2013)                                           0          \n",
       "666 Kill Your Darlings                                       1          \n",
       "667 Short Term 12                                            0          \n",
       "668 Ginger & Rosa                                            0          \n",
       "669 Only God Forgives                                        0          \n",
       "670 Parkland                                                 0          \n",
       "671 To The Wonder                                            0          \n",
       "672 The Reluctant Fundamentalist                             0          \n",
       "673 The Lost Medallion                                       0          \n",
       "674 The Inevitable Defeat of Mister and Pete                 1          \n",
       "675 Upstream Color                                           0          \n",
       "676 Ain't Them Bodies Saints                                 0          \n",
       "677 At Any Price                                             1          \n",
       "678 Lovelace                                                 0          \n",
       "679 Drinking Buddies                                         0          \n",
       "680 Diana                                                    0          \n",
       "    Runtime Rating  Production Budget (in millions) In Release Widest Release\n",
       "1   103     G       200                             168        4028          \n",
       "2   109     PG      200                             126        3739          \n",
       "3   125     PG-13   200                             104        4390          \n",
       "4   124     PG-13    68                             114        4468          \n",
       "5   150     PG-13   125                             139        4125          \n",
       "6   148     PG-13   160                             175        3792          \n",
       "7    95     PG       69                             196        3602          \n",
       "8    93     PG      165                             112        4386          \n",
       "9    98     PG      165                             119        4060          \n",
       "10  100     PG      260                             191        3603          \n",
       "11  140     PG       40                             105        3740          \n",
       "12  125     PG      170                             119        3451          \n",
       "13  110     PG-13    38                             127        3464          \n",
       "14  118     PG-13   125                             112        3802          \n",
       "15  102     PG-13    80                             126        3534          \n",
       "16   98     PG-13   100                              86        3675          \n",
       "17   96     PG      130                             112        3949          \n",
       "18  103     PG      150                              84        3203          \n",
       "19  138     R        80                             112        3356          \n",
       "20  107     PG-13   100                             105        3651          \n",
       "21   99     PG-13   110                              98        3612          \n",
       "22   94     R        20                              98        3139          \n",
       "23  117     PG-13    52                              84        3665          \n",
       "24  148     PG-13   200                              84        3505          \n",
       "25  112     PG      155                             126        3555          \n",
       "26  103     R        80                              70        3398          \n",
       "27   95     R        65                              84        3365          \n",
       "28   82     PG       80                             112        3515          \n",
       "29   88     PG-13    55                             154        3380          \n",
       "30  120     PG-13    40                             154        2921          \n",
       "⋮   ⋮       ⋮       ⋮                               ⋮          ⋮             \n",
       "651  97     PG-13    7.6                            140         274          \n",
       "652 101     PG-13     NA                            152          84          \n",
       "653 105     R       10.0                             91         258          \n",
       "654  99     R       12.0                             69         275          \n",
       "655  93     PG-13     NA                            105          91          \n",
       "656 106     PG-13     NA                             48         263          \n",
       "657 115     R       20.0                             42         180          \n",
       "658 103     PG-13     NA                             56         351          \n",
       "659  93     R        1.5                             56          65          \n",
       "660 111     R       19.2                            142         153          \n",
       "661 100     R        1.5                             28         354          \n",
       "662 102     PG-13   24.0                             56         461          \n",
       "663  99     R        6.0                             91         122          \n",
       "664 110     R         NA                             42         269          \n",
       "665  97     R       18.0                             17        1118          \n",
       "666 104     R         NA                            135          78          \n",
       "667  96     R        1.0                            182          75          \n",
       "668  90     PG-13   20.0                             84          99          \n",
       "669  89     R        4.8                             49          81          \n",
       "670  93     PG-13   10.0                             35         257          \n",
       "671 113     R         NA                             91          60          \n",
       "672 128     R       15.0                             48          58          \n",
       "673  97     PG       2.5                             76          68          \n",
       "674 108     R        3.0                             21         147          \n",
       "675  96     Unrated   NA                             84          43          \n",
       "676  90     R        4.0                             48          44          \n",
       "677 105     R        4.5                            100          81          \n",
       "678  92     R       10.0                             28         118          \n",
       "679  90     R        0.5                             91          33          \n",
       "680 113     PG-13   15.0                             28         100          \n",
       "    Opening Weekend Gross Total Gross Critic Rating Audience Rating Year\n",
       "1   110307189             415004880   99            89              2010\n",
       "2   116101023             334191110   51            55              2010\n",
       "3   128122480             312433331   73            73              2010\n",
       "4    64832191             300531751   49            60              2010\n",
       "5   125017372             295983305   78            84              2010\n",
       "6    62785337             292576195   86            91              2010\n",
       "7    56397125             251513985   81            82              2010\n",
       "8    70838207             238736787   58            54              2010\n",
       "9    43732319             217581231   98            91              2010\n",
       "10   48767052             200821936   89            87              2010\n",
       "11   55665805             176591618   66            67              2010\n",
       "12   44026211             172062763   51            63              2010\n",
       "13   24830443             171243005   96            85              2010\n",
       "14   61235105             163214888   28            40              2010\n",
       "15   40506562             162001186   10            63              2010\n",
       "16   30833665             148438600   10            35              2010\n",
       "17   46016833             148415853   72            71              2010\n",
       "18   40325019             131772187    6            31              2010\n",
       "19   41062440             128012934   69            76              2010\n",
       "20   35543162             119219978   79            59              2010\n",
       "21   36011243             118311368   62            59              2010\n",
       "22   50353641             117229692   64            70              2010\n",
       "23   56260707             110485654   18            48              2010\n",
       "24   36063385             105269730   43            58              2010\n",
       "25   24005069             104386950   49            58              2010\n",
       "26   34825135             103068524   41            64              2010\n",
       "27   32689406             100539043   40            52              2010\n",
       "28   16411322             100246011   13            34              2010\n",
       "29   25207599              98711404   67            55              2010\n",
       "30   22445653              96962694   96            86              2010\n",
       "⋮   ⋮                     ⋮           ⋮             ⋮               ⋮   \n",
       "651  40662                2159041     30            56              2013\n",
       "652 137226                2146999     NA            88              2013\n",
       "653  87946                1969193     66            63              2013\n",
       "654 160547                1714221     69            61              2013\n",
       "655  25728                1702668     64            70              2013\n",
       "656 470109                1553826     71            74              2013\n",
       "657 124000                1436900     68            76              2013\n",
       "658 694447                1378591     21            33              2013\n",
       "659  58962                1315590     75            78              2013\n",
       "660  31948                1234254     76            46              2013\n",
       "661 642942                1165882     45            30              2013\n",
       "662 520116                1162635     22            49              2013\n",
       "663  21480                1066471     87            80              2013\n",
       "664 536591                1065881     49            43              2013\n",
       "665 508000                1034589     25            34              2013\n",
       "666  53452                1030064     76            61              2013\n",
       "667  56206                1013100     99            92              2013\n",
       "668  42838                1012973     80            50              2013\n",
       "669 313958                 779188     40            37              2013\n",
       "670 310246                 653651     48            47              2013\n",
       "671 116551                 587615     45            38              2013\n",
       "672  30920                 552959     54            63              2013\n",
       "673 143532                 549632     NA            53              2013\n",
       "674 254279                 494608     90            88              2013\n",
       "675  28649                 444098     84            70              2013\n",
       "676  26419                 396519     79            62              2013\n",
       "677  16095                 380594     50            33              2013\n",
       "678 184536                 356582     54            37              2013\n",
       "679  19505                 343341     83            49              2013\n",
       "680  67754                 335359      8            26              2013\n",
       "    MonthOfRelease LogOpeningWeekendGross LogProductionBudget LogWidestRelease\n",
       "1    6             18.51878               19.11383            8.301025        \n",
       "2    3             18.56997               19.11383            8.226573        \n",
       "3    5             18.66850               19.11383            8.387085        \n",
       "4    6             17.98731               18.03502            8.404696        \n",
       "5   11             18.64396               18.64382            8.324821        \n",
       "6    7             17.95523               18.89068            8.240649        \n",
       "7    7             17.84793               18.04962            8.189245        \n",
       "8    5             18.07591               18.92146            8.386173        \n",
       "9    3             17.59360               18.92146            8.308938        \n",
       "10  11             17.70257               19.37619            8.189522        \n",
       "11   6             17.83488               17.50439            8.226841        \n",
       "12  12             17.60030               18.95131            8.146419        \n",
       "13  12             17.02758               17.45310            8.150179        \n",
       "14   4             17.93023               18.64382            8.243283        \n",
       "15   6             17.51697               18.19754            8.170186        \n",
       "16  12             17.24412               18.42068            8.209308        \n",
       "17  11             17.64452               18.68305            8.281218        \n",
       "18   7             17.51248               18.82615            8.071843        \n",
       "19   2             17.53060               18.19754            8.118505        \n",
       "20   8             17.38626               18.42068            8.202756        \n",
       "21   7             17.39934               18.51599            8.192017        \n",
       "22  10             17.73458               16.81124            8.051660        \n",
       "23   2             17.84551               17.76675            8.206584        \n",
       "24   5             17.40079               19.11383            8.161946        \n",
       "25  12             16.99378               18.85894            8.176110        \n",
       "26   8             17.36585               18.19754            8.130942        \n",
       "27  11             17.30256               17.98990            8.121183        \n",
       "28  12             16.61348               18.19754            8.164795        \n",
       "29   4             17.04266               17.82284            8.125631        \n",
       "30  10             16.92661               17.50439            7.979681        \n",
       "⋮   ⋮              ⋮                      ⋮                   ⋮               \n",
       "651  8             10.613049              15.84366            5.613128        \n",
       "652 10             11.829384                    NA            4.430817        \n",
       "653  5             11.384478              16.11810            5.552960        \n",
       "654  3             11.986342              16.30042            5.616771        \n",
       "655  6             10.155335                    NA            4.510860        \n",
       "656  2             13.060720                    NA            5.572154        \n",
       "657  4             11.728037              16.81124            5.192957        \n",
       "658  7             13.450871                    NA            5.860786        \n",
       "659  5             10.984648              14.22098            4.174387        \n",
       "660 12             10.371865              16.77042            5.030438        \n",
       "661  4             13.373810              14.22098            5.869297        \n",
       "662 10             13.161807              16.99356            6.133398        \n",
       "663  5              9.974878              15.60727            4.804021        \n",
       "664  9             13.192991                    NA            5.594711        \n",
       "665  3             13.138237              16.70588            7.019297        \n",
       "666 10             10.886539                    NA            4.356709        \n",
       "667  8             10.936779              13.81551            4.317488        \n",
       "668  3             10.665181              16.81124            4.595120        \n",
       "669  7             12.657015              15.38413            4.394449        \n",
       "670 10             12.645121              16.11810            5.549076        \n",
       "671  4             11.666084                    NA            4.094345        \n",
       "672  4             10.339158              16.52356            4.060443        \n",
       "673  3             11.874313              14.73180            4.219508        \n",
       "674 10             12.446187              14.91412            4.990433        \n",
       "675  4             10.262874                    NA            3.761200        \n",
       "676  8             10.181839              15.20180            3.784190        \n",
       "677  4              9.686264              15.31959            4.394449        \n",
       "678  8             12.125600              16.11810            4.770685        \n",
       "679  8              9.878426              13.12236            3.496508        \n",
       "680 11             11.123639              16.52356            4.605170        \n",
       "    LogTotalGross\n",
       "1   19.84380     \n",
       "2   19.62722     \n",
       "3   19.55990     \n",
       "4   19.52106     \n",
       "5   19.50581     \n",
       "6   19.49424     \n",
       "7   19.34301     \n",
       "8   19.29087     \n",
       "9   19.19808     \n",
       "10  19.11793     \n",
       "11  18.98935     \n",
       "12  18.96337     \n",
       "13  18.95859     \n",
       "14  18.91058     \n",
       "15  18.90311     \n",
       "16  18.81568     \n",
       "17  18.81553     \n",
       "18  18.69659     \n",
       "19  18.66764     \n",
       "20  18.59648     \n",
       "21  18.58883     \n",
       "22  18.57965     \n",
       "23  18.52040     \n",
       "24  18.47204     \n",
       "25  18.46362     \n",
       "26  18.45090     \n",
       "27  18.42606     \n",
       "28  18.42314     \n",
       "29  18.40771     \n",
       "30  18.38984     \n",
       "⋮   ⋮            \n",
       "651 14.58517     \n",
       "652 14.57958     \n",
       "653 14.49313     \n",
       "654 14.35447     \n",
       "655 14.34771     \n",
       "656 14.25623     \n",
       "657 14.17800     \n",
       "658 14.13657     \n",
       "659 14.08980     \n",
       "660 14.02598     \n",
       "661 13.96899     \n",
       "662 13.96620     \n",
       "663 13.87987     \n",
       "664 13.87931     \n",
       "665 13.84951     \n",
       "666 13.84513     \n",
       "667 13.82853     \n",
       "668 13.82840     \n",
       "669 13.56601     \n",
       "670 13.39033     \n",
       "671 13.28383     \n",
       "672 13.22304     \n",
       "673 13.21700     \n",
       "674 13.11152     \n",
       "675 13.00380     \n",
       "676 12.89048     \n",
       "677 12.84949     \n",
       "678 12.78432     \n",
       "679 12.74648     \n",
       "680 12.72296     "
      ]
     },
     "metadata": {},
     "output_type": "display_data"
    }
   ],
   "source": [
    "data3"
   ]
  },
  {
   "cell_type": "markdown",
   "metadata": {},
   "source": [
    "## a\n",
    "Fit a model to predict Income from Limit, Rating, Cards, Age, Education, and Student.  Please do not include any quadratic nor any interaction terms.  Ensure that you find the variance inflation factors (VIF)."
   ]
  },
  {
   "cell_type": "code",
   "execution_count": null,
   "metadata": {},
   "outputs": [],
   "source": [
    "data3$\n",
    "fit <- lm(formula = ,data = data3)"
   ]
  },
  {
   "cell_type": "markdown",
   "metadata": {},
   "source": [
    "## b\n",
    "Plot the studentized residuals against the predicted values and each numerical predictor."
   ]
  },
  {
   "cell_type": "markdown",
   "metadata": {},
   "source": [
    "## c\n",
    "Plot the numerical predictors against each other and obtain the correlations amongst these predictors.\n",
    "\n",
    "On the basis of the output you produced in (a), (b), and (c) answer the following questions:"
   ]
  },
  {
   "cell_type": "markdown",
   "metadata": {},
   "source": [
    "\t\n",
    "## I\n",
    "Decide whether the assumption of constant error variance is a reasonable one for the fitted model.  Give reasons to support your answer."
   ]
  },
  {
   "cell_type": "markdown",
   "metadata": {},
   "source": [
    "## II\n",
    "Decide whether multicollinearity is an issue for the fitted model. Give a reason to support your answer."
   ]
  },
  {
   "cell_type": "markdown",
   "metadata": {},
   "source": [
    "## III\n",
    "Interpret the estimated coefficients. Decide whether these coefficients are statistically significant. Give a reason to support your answer."
   ]
  }
 ],
 "metadata": {
  "kernelspec": {
   "display_name": "R",
   "language": "R",
   "name": "ir"
  },
  "language_info": {
   "codemirror_mode": "r",
   "file_extension": ".r",
   "mimetype": "text/x-r-source",
   "name": "R",
   "pygments_lexer": "r",
   "version": "3.4.4"
  }
 },
 "nbformat": 4,
 "nbformat_minor": 2
}
