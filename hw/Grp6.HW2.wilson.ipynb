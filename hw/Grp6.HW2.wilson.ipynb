{
 "cells": [
  {
   "cell_type": "code",
   "execution_count": null,
   "metadata": {},
   "outputs": [],
   "source": [
    "library(MASS)\n",
    "library(data.table)\n",
    "library(dplyr)"
   ]
  },
  {
   "cell_type": "markdown",
   "metadata": {},
   "source": [
    "# STAT 5310 – Regression Analysis\n",
    "# Lab Exercise/Homework 2"
   ]
  },
  {
   "cell_type": "markdown",
   "metadata": {},
   "source": [
    "## 1. \n",
    "Develop a regression model to predict the average number of hits (Y) from the average salary for the 10 highest paid hitters from each MLB team (X) based on data from the 2013 season.\n",
    "\n",
    "The data is in the file Hitters"
   ]
  },
  {
   "cell_type": "code",
   "execution_count": null,
   "metadata": {},
   "outputs": [],
   "source": [
    "hitters <- fread('https://raw.githubusercontent.com/wilsonify/AppliedRegression/master/data/Hitters.csv')"
   ]
  },
  {
   "cell_type": "code",
   "execution_count": null,
   "metadata": {},
   "outputs": [],
   "source": [
    "names(hitters) <- names(hitters) %>% gsub('[ |(|)|$]','',.)"
   ]
  },
  {
   "cell_type": "code",
   "execution_count": null,
   "metadata": {},
   "outputs": [],
   "source": [
    "hitters %>% head()"
   ]
  },
  {
   "cell_type": "markdown",
   "metadata": {},
   "source": [
    "### a) \n",
    "Fit a straight line regression model between Y and X.  \n",
    "\n",
    "Decide whether $\\beta_1$, the coefficient of X, is statistically significantly different from zero or not.  \n",
    "\n",
    "Give a reason to support your answer."
   ]
  },
  {
   "cell_type": "code",
   "execution_count": null,
   "metadata": {},
   "outputs": [],
   "source": [
    "fit <- lm(hitters$AverageNumberofHits ~ hitters$AverageSalary2013M)\n",
    "summary_of_fit <- summary(fit)\n",
    "summary_of_fit$coefficients[\"hitters$AverageSalary2013M\",\"Pr(>|t|)\"]"
   ]
  },
  {
   "cell_type": "markdown",
   "metadata": {},
   "source": [
    "$\\beta_1$ is not significatnly different from zero.\n",
    "\n",
    "Under the null hypothesis that $\\beta_1 = 0$, we would observe a more extreme $\\beta_1$ 13% of the time."
   ]
  },
  {
   "cell_type": "code",
   "execution_count": null,
   "metadata": {},
   "outputs": [],
   "source": [
    "plot( y = hitters$AverageNumberofHits\n",
    "     ,x = hitters$AverageSalary2013M\n",
    "    )"
   ]
  },
  {
   "cell_type": "markdown",
   "metadata": {},
   "source": [
    "### b) \n",
    "Examine the studentized residuals for the fitted model in part a.  \n",
    "\n",
    "Identify any points which are outliers (that is, have studentized residuals values more extreme than 3."
   ]
  },
  {
   "cell_type": "code",
   "execution_count": null,
   "metadata": {},
   "outputs": [],
   "source": [
    "studentized_residuals <- studres(fit)"
   ]
  },
  {
   "cell_type": "code",
   "execution_count": null,
   "metadata": {},
   "outputs": [],
   "source": [
    "qqnorm(studentized_residuals)\n",
    "qqline(studentized_residuals)"
   ]
  },
  {
   "cell_type": "markdown",
   "metadata": {},
   "source": [
    "There is exactly one outlier with studentized residual of -4.36"
   ]
  },
  {
   "cell_type": "markdown",
   "metadata": {},
   "source": [
    "## 2. \n",
    "In order to investigate the feasibility of starting a Sunday edition for a large metropolitan newspaper, information was obtained from a sample of 34 newspapers concerning their daily and Sunday circulations (in thousands) \n",
    "\n",
    "The data is in the file Newspaper.\n",
    "\n",
    " *(Source:  Gale Directory of Publications, 1994).*\n"
   ]
  },
  {
   "cell_type": "code",
   "execution_count": null,
   "metadata": {},
   "outputs": [],
   "source": [
    "newspaper <- fread('https://raw.githubusercontent.com/wilsonify/AppliedRegression/master/data/Newspaper.csv')"
   ]
  },
  {
   "cell_type": "code",
   "execution_count": null,
   "metadata": {},
   "outputs": [],
   "source": [
    "newspaper %>% head()"
   ]
  },
  {
   "cell_type": "markdown",
   "metadata": {},
   "source": [
    "### a)\n",
    "Construct a scatter plot of Sunday circulation versus daily circulation.\n",
    "\n",
    "Does the plot suggest a linear relationship between daily and Sunday circulation?  \n",
    "\n",
    "Do you think this is a plausible relationship?"
   ]
  },
  {
   "cell_type": "code",
   "execution_count": null,
   "metadata": {},
   "outputs": [],
   "source": [
    "plot(y=newspaper$Sunday,x=newspaper$Daily)"
   ]
  },
  {
   "cell_type": "markdown",
   "metadata": {},
   "source": [
    "The plot of sunday circualtion vs daily circulation does suggest a linear relationship.\n",
    "\n",
    "It seems very plausible that, in reality, newspapers with a large circulation on weekdays would also have a large circulation on sunday and vis-versa for newspapers with a small circulation."
   ]
  },
  {
   "cell_type": "markdown",
   "metadata": {},
   "source": [
    "### b)\n",
    "Fit a regression line predicting Sunday circulation from daily circulation."
   ]
  },
  {
   "cell_type": "code",
   "execution_count": null,
   "metadata": {},
   "outputs": [],
   "source": [
    "fit <- lm(data =newspaper, Sunday~Daily)"
   ]
  },
  {
   "cell_type": "code",
   "execution_count": null,
   "metadata": {},
   "outputs": [],
   "source": [
    "plot(y=newspaper$Sunday,x=newspaper$Daily)\n",
    "abline(fit)"
   ]
  },
  {
   "cell_type": "markdown",
   "metadata": {},
   "source": [
    "### c)\n",
    "Obtain the 95% confidence intervals for β0 and β1."
   ]
  },
  {
   "cell_type": "code",
   "execution_count": null,
   "metadata": {},
   "outputs": [],
   "source": [
    "summary_of_fit <- summary(fit)\n",
    "summary_of_fit$coefficients\n",
    "alpha = 1.0 - 0.95\n",
    "half_alpha = alpha / 2.0\n",
    "z = qnorm(1-half_alpha)\n",
    "\n",
    "\n",
    "beta0_center <- summary_of_fit$coefficients[\"(Intercept)\",\"Estimate\"]\n",
    "beta0_SE <- summary_of_fit$coefficients[\"(Intercept)\",\"Std. Error\"]\n",
    "beta0_error_bound <- z * beta0_SE\n",
    "beta0_CI <- c(beta0_center-beta0_error_bound,beta0_center+beta0_error_bound) %>% round(2)\n",
    "print(\"95% confidence interval for the intercept, B0 is \")\n",
    "beta0_CI\n",
    "\n",
    "beta1_center <- summary_of_fit$coefficients[\"Daily\",\"Estimate\"]\n",
    "beta1_SE <- summary_of_fit$coefficients[\"Daily\",\"Std. Error\"]\n",
    "beta1_error_bound <- z * beta1_SE\n",
    "beta1_CI <- c(beta1_center-beta1_error_bound,beta1_center+beta1_error_bound) %>% round(2)\n",
    "print(\"95% confidence interval for the slope, B1 is \")\n",
    "beta1_CI"
   ]
  },
  {
   "cell_type": "markdown",
   "metadata": {},
   "source": [
    "### d) \n",
    "Is there a significant relationship between Sunday circulation and daily circulation?\n",
    "\n",
    "Justify your answer by a statistical test.\n",
    "\n",
    "Indicate what hypothesis you are testing and your conclusion."
   ]
  },
  {
   "cell_type": "markdown",
   "metadata": {},
   "source": [
    "There a significant relationship between Sunday circulation and daily circulation.\n",
    "\n",
    "If there were no relationship (H0: $\\beta_1 = 0$), we would expect a more extreme coefficient only 0.00000000000000006% of the time."
   ]
  },
  {
   "cell_type": "markdown",
   "metadata": {},
   "source": [
    "### e)\n",
    "What proportion of the variability in Sunday circulation is accounted for by daily circulation?"
   ]
  },
  {
   "cell_type": "code",
   "execution_count": null,
   "metadata": {},
   "outputs": [],
   "source": [
    "summary_of_fit$adj.r.squared"
   ]
  },
  {
   "cell_type": "markdown",
   "metadata": {},
   "source": [
    "91.5% of the variablitity in sunday ciculation can be explained by a linear relashionship between daily circulation and sunday circulation."
   ]
  },
  {
   "cell_type": "markdown",
   "metadata": {},
   "source": [
    "### f)\n",
    "Provide an estimate (based on a 95% confidence level) for the average Sunday circulation of newspapers with daily circulation of 500,000."
   ]
  },
  {
   "cell_type": "code",
   "execution_count": null,
   "metadata": {},
   "outputs": [],
   "source": [
    "alpha = 1.0 - 0.95\n",
    "half_alpha = alpha / 2.0\n",
    "z = qnorm(1-half_alpha)\n",
    "newdata <- data.frame(Daily=c(500000))\n",
    "center <- predict(fit, newdata = newdata)\n",
    "sigma <- summary_of_fit$sigma\n",
    "error_bound <- z * sigma\n",
    "CI <- c(center-error_bound,center+error_bound)\n",
    "CI"
   ]
  },
  {
   "cell_type": "markdown",
   "metadata": {},
   "source": [
    "At a 95% confidence level, the average Sunday circulation of all newspapers with daily circulation of 500,000 will be between 669700 and 670100."
   ]
  },
  {
   "cell_type": "markdown",
   "metadata": {},
   "source": [
    "### g)\n",
    "The particular newspaper that is considering a Sunday edition has a daily circulation of 500,000.  \n",
    "\n",
    "Provide an interval estimate (based on a 95% confidence level) for the predicted Sunday circulation of this paper.\n",
    "\n",
    "How does this interval differ from that given in part f?"
   ]
  },
  {
   "cell_type": "code",
   "execution_count": null,
   "metadata": {},
   "outputs": [],
   "source": [
    "predict(fit, newdata = data.frame(Daily=c(500000)), interval=\"predict\",level = 0.95) "
   ]
  },
  {
   "cell_type": "markdown",
   "metadata": {},
   "source": [
    "At a 95% confidence level, the Sunday circulation of a particular newspaper with daily circulation of 500,000 will be between 598000 and 742000.\n",
    "\n",
    "Generally, there is more (tighter) confidence in predicting the average of all newspapers than in predicting the circulation of a particular newspaper."
   ]
  },
  {
   "cell_type": "markdown",
   "metadata": {},
   "source": [
    "### h)\n",
    "Another newspaper considering a Sunday edition has a daily circulation of 2,000,000.\n",
    "\n",
    "Provide an interval estimate for the predicted Sunday circulation for this paper?\n",
    "\n",
    "How does this interval compare with the one given in part g?  \n",
    "\n",
    "Do you think it is likely to be accurate?"
   ]
  },
  {
   "cell_type": "code",
   "execution_count": null,
   "metadata": {},
   "outputs": [],
   "source": [
    "predict(fit, newdata = data.frame(Daily=c(2000000)), interval=\"predict\",level = 0.95) "
   ]
  },
  {
   "cell_type": "markdown",
   "metadata": {},
   "source": [
    "At a 95% confidence level, the Sunday circulation of a particular newspaper with daily circulation of 200,000,000 will be between 2,400,000 and 2,970,000.\n",
    "\n",
    "This is a wider interval than predicting at 500,000 in part g. \n",
    "\n",
    "Generally, the further from the average, less confidence in predicting."
   ]
  },
  {
   "cell_type": "markdown",
   "metadata": {},
   "source": [
    "## 3.\n",
    "Consider the sale price of 1672 residential properties in Ames, Iowa from 2006 to 2010.  \n",
    "\n",
    "The data included information from the Tax Assessor’s Office along with information on various aspects of each property.\n",
    "\n",
    "The first model fit to the data was\n",
    "\n",
    "$ SalePrice = \\beta_0 + \\beta_1 TotalLivingArea + e $\n",
    "\n",
    "Where TotalLivingArea gives the total area in square feet of the above ground living area and basement for each property. \n",
    "\n",
    "The following is some output from fitting the first model as well as some plots.\n",
    "\n",
    "![](https://raw.githubusercontent.com/wilsonify/AppliedRegression/master/images/hw2part3.jpg)\n",
    "\n",
    "![](https://raw.githubusercontent.com/wilsonify/AppliedRegression/master/images/hw2part3-2.png)"
   ]
  },
  {
   "cell_type": "markdown",
   "metadata": {},
   "source": [
    "a. Interpret the estimated coefficient of TotalLivingArea in model (1)."
   ]
  },
  {
   "cell_type": "markdown",
   "metadata": {},
   "source": [
    "The estimated coefficent of is 84.85. Meaning that every unit change in TotalLivingArea is associated with an $84.85 increase in SalePrice."
   ]
  },
  {
   "cell_type": "markdown",
   "metadata": {},
   "source": [
    "b. Carefully describe at least one main shortcomings (apart from outliers) evident in model (1)."
   ]
  },
  {
   "cell_type": "markdown",
   "metadata": {},
   "source": [
    "The residuals are not identically distributed. They tend to get larger as the TotalLivingArea gets larger. It seems that the relationship is more complex than linear. "
   ]
  },
  {
   "cell_type": "markdown",
   "metadata": {},
   "source": [
    "## 4.\n",
    "\n",
    "Consider the situation in which 3 regression models of the following form have been fit to a set of data.\n",
    "\n",
    "Suppose that we are modeling the sale prices of apartments in Austin, TX.\n",
    "\n",
    "Model (A) is such that y = sale price, x = number of bedrooms \n",
    "\n",
    "model (B) is such that y = sale price, x = number of bathrooms \n",
    "\n",
    "model (C) is such that y = log(sale price), x = number of bedrooms\n",
    "\n",
    "Comparing the models, which one of the following statements is true? \n",
    "\n",
    "I. It is reasonable to compare the R2 values for models (A), (B) and (C).\n",
    "\n",
    "II. It is reasonable to compare the R2 values only for models (A) and (B\n",
    "\n",
    "III. It is reasonable to compare the R2 values only for models (A) and (C).\n",
    "\n",
    "IV. It is not reasonable to compare the R2 values for models (A), (B), and (C).\n",
    "\n",
    "Give a reason to support your answer.\n",
    "\n"
   ]
  },
  {
   "cell_type": "markdown",
   "metadata": {},
   "source": [
    "Because log(sales price) is a one-to-one mapping to sales price itsself and $R^2$ is a proportion relative to the total sum of squares, $\\sum_{i=1}^{n} (y_i - \\bar{y})^2$, statement I is true: It is reasonable to compare the $R^2$ values for models (A), (B) and (C)."
   ]
  }
 ],
 "metadata": {
  "kernelspec": {
   "display_name": "R",
   "language": "R",
   "name": "ir"
  },
  "language_info": {
   "codemirror_mode": "r",
   "file_extension": ".r",
   "mimetype": "text/x-r-source",
   "name": "R",
   "pygments_lexer": "r",
   "version": "3.4.4"
  }
 },
 "nbformat": 4,
 "nbformat_minor": 2
}
