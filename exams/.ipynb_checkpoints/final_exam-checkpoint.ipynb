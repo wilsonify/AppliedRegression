{
 "cells": [
  {
   "cell_type": "markdown",
   "metadata": {},
   "source": [
    "# STAT 5310 Test #3 Due December 12, 2018 at 5:30pm\n",
    "### Tom Wilson"
   ]
  },
  {
   "cell_type": "markdown",
   "metadata": {},
   "source": [
    "## 1. Predict the number of applications received using the other variables in the college data set. "
   ]
  },
  {
   "cell_type": "code",
   "execution_count": null,
   "metadata": {},
   "outputs": [],
   "source": [
    "library(tidyverse)\n",
    "library(data.table)\n",
    "library(glmnet)\n",
    "library(glmnetUtils)\n",
    "library(MASS)\n",
    "library(caret)\n",
    "library(leaps)\n",
    "library(boot)"
   ]
  },
  {
   "cell_type": "code",
   "execution_count": null,
   "metadata": {},
   "outputs": [],
   "source": [
    "college <- fread('../data/College.csv')"
   ]
  },
  {
   "cell_type": "markdown",
   "metadata": {},
   "source": [
    "### a.\n",
    "Split the data set into a training set and a test set."
   ]
  },
  {
   "cell_type": "code",
   "execution_count": null,
   "metadata": {},
   "outputs": [],
   "source": [
    "college <- college %>% subset(,-V1)"
   ]
  },
  {
   "cell_type": "code",
   "execution_count": null,
   "metadata": {},
   "outputs": [],
   "source": [
    "n=nrow(college)\n",
    "train_sample <- runif(n,0,1) > 1 - 0.75 #random uniform sample\n",
    "college_train <- college[train_sample,] %>% select_if(is.numeric)\n",
    "college_test  <- college[!train_sample,] %>% select_if(is.numeric)"
   ]
  },
  {
   "cell_type": "code",
   "execution_count": null,
   "metadata": {},
   "outputs": [],
   "source": [
    "x_train <- college_train %>% subset(,-Apps) \n",
    "y_train <- college_train %>% subset(, Apps)\n",
    "x_test  <- college_test  %>% subset(,-Apps) \n",
    "y_test  <- college_test  %>% subset(, Apps)"
   ]
  },
  {
   "cell_type": "markdown",
   "metadata": {},
   "source": [
    "### b.\n",
    "Fit a linear model using least squares on the training set, and report the test error obtained."
   ]
  },
  {
   "cell_type": "code",
   "execution_count": null,
   "metadata": {},
   "outputs": [],
   "source": [
    "linear_model <- lm(data = college_train, formula = Apps~.)"
   ]
  },
  {
   "cell_type": "code",
   "execution_count": null,
   "metadata": {},
   "outputs": [],
   "source": [
    "residual <- predict(linear_model,newdata = college_test) - college_test$Apps\n",
    "RMSE <- sqrt(sum(residual^2))\n",
    "paste('Root Mean Squared Error on test dataset = ',RMSE)"
   ]
  },
  {
   "cell_type": "markdown",
   "metadata": {},
   "source": [
    "### c.\n",
    "Fit a ridge regression model on the training set, with λ chosen by cross-validation.  Report the test error obtained."
   ]
  },
  {
   "cell_type": "code",
   "execution_count": null,
   "metadata": {},
   "outputs": [],
   "source": [
    "k <- 10\n",
    "folds <- sample(1:k,nrow(college_train),replace <- TRUE)\n",
    "cv.errors <- setNames(data.frame(matrix(ncol = 3, nrow = 0)), c(\"fold\", \"lambda\", \"mae\"))"
   ]
  },
  {
   "cell_type": "code",
   "execution_count": null,
   "metadata": {},
   "outputs": [],
   "source": [
    "fit <- cv.glmnet(Apps ~ ., data=college_train)"
   ]
  },
  {
   "cell_type": "code",
   "execution_count": null,
   "metadata": {},
   "outputs": [],
   "source": [
    "plot(fit)"
   ]
  },
  {
   "cell_type": "code",
   "execution_count": null,
   "metadata": {},
   "outputs": [],
   "source": [
    "for(j in 1:k){\n",
    "    for(lambda in seq(0,1,0.1)) {    \n",
    "        fit <- lm.ridge(formula = Apps~.,data=college_train[folds!=j,], lambda=lambda)\n",
    "        pred <- as.vector(as.matrix(cbind(const=1,x_train[folds==j])) %*% coef(fit))\n",
    "        rmse <- sqrt( sum( ( y_train[folds==j] - pred)^2 ))\n",
    "        cv.errors <- rbind(cv.errors,c(j,lambda,rmse))\n",
    "    }\n",
    "}"
   ]
  },
  {
   "cell_type": "code",
   "execution_count": null,
   "metadata": {},
   "outputs": [],
   "source": [
    "colnames(cv.errors) <- c(\"fold\", \"lambda\", \"rmse\")"
   ]
  },
  {
   "cell_type": "code",
   "execution_count": null,
   "metadata": {},
   "outputs": [],
   "source": [
    "summary_of_error <- cv.errors %>% group_by(lambda) %>% summarise(mean_rmse = mean(rmse))"
   ]
  },
  {
   "cell_type": "code",
   "execution_count": null,
   "metadata": {},
   "outputs": [],
   "source": [
    "plot(x = summary_of_error$lambda,y=summary_of_error$mean_rmse)"
   ]
  },
  {
   "cell_type": "markdown",
   "metadata": {},
   "source": [
    "Root mean squared error steadily improves with larger values of lambda. "
   ]
  },
  {
   "cell_type": "markdown",
   "metadata": {},
   "source": [
    "## 2. \n",
    "Consider the Boston housing data set, from the MASS library."
   ]
  },
  {
   "cell_type": "code",
   "execution_count": null,
   "metadata": {},
   "outputs": [],
   "source": [
    "Boston %>% head()"
   ]
  },
  {
   "cell_type": "markdown",
   "metadata": {},
   "source": [
    "### a.\n",
    "Based on this data set, provide an estimate for the population mean of medv.  Call this estimate  ."
   ]
  },
  {
   "cell_type": "code",
   "execution_count": null,
   "metadata": {},
   "outputs": [],
   "source": [
    "estimate <- mean(Boston$medv)\n",
    "paste(\"an estimate for the population mean of medv is \",estimate)"
   ]
  },
  {
   "cell_type": "markdown",
   "metadata": {},
   "source": [
    "### b.\n",
    "Provide an estimate of the standard error of   Interpret this result.\n",
    "Hint:  We can compute the standard error of the sample mean by dividing the sample standard deviation by the square root of the number of observations."
   ]
  },
  {
   "cell_type": "code",
   "execution_count": null,
   "metadata": {},
   "outputs": [],
   "source": [
    "n <- nrow(Boston)\n",
    "SE <- sd(Boston$medv)/sqrt(n)\n",
    "paste(\"an estimate of the standard error of the population mean of medv is\",SE)"
   ]
  },
  {
   "cell_type": "markdown",
   "metadata": {},
   "source": [
    "### c.\n",
    "Now estimate the standard error of  using the bootstrap.  How does this compare to your answer from (b)?"
   ]
  },
  {
   "cell_type": "code",
   "execution_count": null,
   "metadata": {},
   "outputs": [],
   "source": [
    "SE.fn(Boston$medv)"
   ]
  },
  {
   "cell_type": "code",
   "execution_count": null,
   "metadata": {},
   "outputs": [],
   "source": [
    "SE.fn=function(data,index){\n",
    "    n=length(data[index])\n",
    " return(sd(data[index])/sqrt(n))\n",
    " }"
   ]
  },
  {
   "cell_type": "code",
   "execution_count": null,
   "metadata": {},
   "outputs": [],
   "source": [
    "SE_bootstrap <- boot(data = Boston$medv,statistic = SE.fn,R=1000)\n",
    "paste(\"the average bootstrap estimate of SE is \"\n",
    "      ,mean(SE_bootstrap$t)\n",
    "      ,\"which differs from the original estimate by \"\n",
    "      ,100 * (mean(SE_bootstrap$t) - SE)/SE,\n",
    "     \"percent\")"
   ]
  },
  {
   "cell_type": "code",
   "execution_count": null,
   "metadata": {},
   "outputs": [],
   "source": [
    "plot(SE_bootstrap)"
   ]
  },
  {
   "cell_type": "markdown",
   "metadata": {},
   "source": [
    "### d.\n",
    "Based on your bootstrap estimate from (c), provide a 95% confidence interval for the mean of medv. compare it to the results obtained using t.test(Boston$medv)."
   ]
  },
  {
   "cell_type": "code",
   "execution_count": null,
   "metadata": {},
   "outputs": [],
   "source": [
    "n <- nrow(Boston)\n",
    "mu <- mean(Boston$medv)\n",
    "SE <- mean(SE_bootstrap$t)\n",
    "\n",
    "alpha <- 1 - 0.95\n",
    "z <- qnorm(1 - alpha/2)\n",
    "error <- z*SE\n",
    "\n",
    "ttest <- t.test(Boston$medv)$conf.int\n",
    "\n",
    "paste(\"using z=qnorm(1 - 0.05/2), the 95% confidence interval for the mean of medv is between\"\n",
    "      ,mu - error\n",
    "      ,\"and\"\n",
    "      ,mu + error)\n",
    "\n",
    "paste(\"using 2*SE, the 95% confidence interval for the mean of medv is between\"\n",
    "      ,mu - 2*SE\n",
    "      ,\"and\"\n",
    "      ,mu + 2*SE)\n",
    "\n",
    "paste(\"using t.test, the 95% confidence interval for the mean of medv is between\"\n",
    "      ,ttest[[1]]\n",
    "      ,\"and\"\n",
    "      ,ttest[[2]])"
   ]
  }
 ],
 "metadata": {
  "kernelspec": {
   "display_name": "R",
   "language": "R",
   "name": "ir"
  },
  "language_info": {
   "codemirror_mode": "r",
   "file_extension": ".r",
   "mimetype": "text/x-r-source",
   "name": "R",
   "pygments_lexer": "r",
   "version": "3.4.4"
  }
 },
 "nbformat": 4,
 "nbformat_minor": 2
}
