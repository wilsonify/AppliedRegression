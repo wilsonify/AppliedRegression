{
 "cells": [
  {
   "cell_type": "markdown",
   "metadata": {},
   "source": [
    "# STAT 5310\n",
    "## Homework Assignment  #1"
   ]
  },
  {
   "cell_type": "markdown",
   "metadata": {},
   "source": [
    "### MARR Section 2.8 Exercises #1\n",
    " 1. The web site www.playbill.com provides weekly reports on the box office\n",
    "ticket sales for plays on Broadway in New York. We shall consider the data\n",
    "for the week October 11–17, 2004 (referred to below as the current week).\n",
    "The data are in the form of the gross box office results for the current week\n",
    "and the gross box office results for the previous week (i.e., October 3–10,\n",
    "2004). The data, plotted in Figure 2.6 , are available on the book web site in\n",
    "the file playbill.csv.\n",
    " Fit the following model to the data: Y x 0 1 =+ + b b e where Y is the gross box\n",
    "office results for the current week (in $) and x is the gross box office results for the\n",
    "previous week (in $). Complete the following tasks:\n",
    " (a) Find a 95% confidence interval for the slope of the regression model, b1\n",
    " . Is\n",
    "1 a plausible value for b1\n",
    " ? Give a reason to support your answer.\n",
    " (b) Test the null hypothesis 0 0 H : 10000 b = against a two-sided alternative.\n",
    "Interpret your result.\n",
    " (c) Use the fitted regression model to estimate the gross box office results for\n",
    "the current week (in $) for a production with $400,000 in gross box office\n",
    "the previous week. Find a 95% prediction interval for the gross box office\n",
    "results for the current week (in $) for a production with $400,000 in gross\n",
    "box office the previous week. Is $450,000 a feasible value for the gross box\n",
    "office results in the current week, for a production with $400,000 in gross\n",
    "box office the previous week? Give a reason to support your answer.\n",
    " (d) Some promoters of Broadway plays use the prediction rule that next week’s\n",
    "gross box office results will be equal to this week’s gross box office results.\n",
    "Comment on the appropriateness of this rule. "
   ]
  },
  {
   "cell_type": "markdown",
   "metadata": {},
   "source": [
    "### MARR Section 2.8 Exercises #3\n",
    "\n",
    "3. The manager of the purchasing department of a large company would like to\n",
    "develop a regression model to predict the average amount of time it takes to\n",
    "process a given number of invoices. Over a 30-day period, data are collected on\n",
    "the number of invoices processed and the total time taken (in hours). The data\n",
    "are available on the book web site in the file invoices.txt. The following model\n",
    "was fit to the data: Y x 0 1 =+ + b b e where Y is the processing time and x is the\n",
    "number of invoices. A plot of the data and the fitted model can be found in\n",
    "Figure 2.7 . Utilizing the output from the fit of this model provided below, complete\n",
    "the following tasks.\n",
    " (a) Find a 95% confidence interval for the start-up time, i.e., b0\n",
    " .\n",
    " (b) Suppose that a best practice benchmark for the average processing time for\n",
    "an additional invoice is 0.01 hours (or 0.6 minutes). Test the null hypothesis\n",
    "0 1 H : 0.01 b = against a two-sided alternative. Interpret your result.\n",
    " (c) Find a point estimate and a 95% prediction interval for the time taken to process\n",
    "130 invoices. "
   ]
  },
  {
   "cell_type": "markdown",
   "metadata": {},
   "source": [
    "http://www.stat.tamu.edu/~sheather/book/docs/datasets/airfares.txt"
   ]
  },
  {
   "cell_type": "markdown",
   "metadata": {},
   "source": [
    "The data contains information on one-way airfare (in US$) and distance (in miles) from city A to 17 other cities in the US."
   ]
  },
  {
   "cell_type": "markdown",
   "metadata": {},
   "source": [
    "a) Fit the regression model given by:\n",
    "\n",
    "$Fare = \\beta_0+\\beta_1 Distance + \\epsilon$"
   ]
  },
  {
   "cell_type": "markdown",
   "metadata": {},
   "source": [
    "b) Critique the following statement:\n",
    "\n",
    "The regression coefficient of the predictor variable (Distance) is highly statistically significant and the model explains 99.4% of the variability in the Y-variable (Fare).\n",
    "\n",
    "Thus this model is highly effective for both understanding the effects of Distance on Fare and for predicting future values of Fare given the value of the predictor variable."
   ]
  },
  {
   "cell_type": "markdown",
   "metadata": {},
   "source": [
    "c) Does the regression model above seem to fit the data well?  If not, describe how the model can be improved."
   ]
  },
  {
   "cell_type": "markdown",
   "metadata": {},
   "source": [
    "### Extra Credit MARR Section 2.8 #4"
   ]
  },
  {
   "cell_type": "code",
   "execution_count": null,
   "metadata": {},
   "outputs": [],
   "source": []
  }
 ],
 "metadata": {
  "kernelspec": {
   "display_name": "Python 3",
   "language": "python",
   "name": "python3"
  },
  "language_info": {
   "codemirror_mode": {
    "name": "ipython",
    "version": 3
   },
   "file_extension": ".py",
   "mimetype": "text/x-python",
   "name": "python",
   "nbconvert_exporter": "python",
   "pygments_lexer": "ipython3",
   "version": "3.6.5"
  }
 },
 "nbformat": 4,
 "nbformat_minor": 2
}
