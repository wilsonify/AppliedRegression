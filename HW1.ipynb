{
 "cells": [
  {
   "cell_type": "markdown",
   "metadata": {},
   "source": [
    "# STAT 5310\n",
    "## Homework Assignment  #1"
   ]
  },
  {
   "cell_type": "code",
   "execution_count": 57,
   "metadata": {},
   "outputs": [
    {
     "name": "stdout",
     "output_type": "stream",
     "text": [
      "Requirement already satisfied: scipy in /srv/conda/lib/python3.6/site-packages\n",
      "Requirement already satisfied: numpy in /srv/conda/lib/python3.6/site-packages\n",
      "Requirement already satisfied: pandas in /srv/conda/lib/python3.6/site-packages\n",
      "Requirement already satisfied: sklearn in /srv/conda/lib/python3.6/site-packages\n",
      "Collecting matplotlib\n",
      "  Downloading https://files.pythonhosted.org/packages/9e/59/f235ab21bbe7b7c6570c4abf17ffb893071f4fa3b9cf557b09b60359ad9a/matplotlib-2.2.3-cp36-cp36m-manylinux1_x86_64.whl (12.6MB)\n",
      "Requirement already satisfied: python-dateutil>=2.5.0 in /srv/conda/lib/python3.6/site-packages (from pandas)\n",
      "Requirement already satisfied: pytz>=2011k in /srv/conda/lib/python3.6/site-packages (from pandas)\n",
      "Requirement already satisfied: scikit-learn in /srv/conda/lib/python3.6/site-packages (from sklearn)\n",
      "Collecting cycler>=0.10 (from matplotlib)\n",
      "  Downloading https://files.pythonhosted.org/packages/f7/d2/e07d3ebb2bd7af696440ce7e754c59dd546ffe1bbe732c8ab68b9c834e61/cycler-0.10.0-py2.py3-none-any.whl\n",
      "Requirement already satisfied: six>=1.10 in /srv/conda/lib/python3.6/site-packages (from matplotlib)\n",
      "Collecting kiwisolver>=1.0.1 (from matplotlib)\n",
      "  Downloading https://files.pythonhosted.org/packages/69/a7/88719d132b18300b4369fbffa741841cfd36d1e637e1990f27929945b538/kiwisolver-1.0.1-cp36-cp36m-manylinux1_x86_64.whl (949kB)\n",
      "Collecting pyparsing!=2.0.4,!=2.1.2,!=2.1.6,>=2.0.1 (from matplotlib)\n",
      "  Downloading https://files.pythonhosted.org/packages/6a/8a/718fd7d3458f9fab8e67186b00abdd345b639976bc7fb3ae722e1b026a50/pyparsing-2.2.0-py2.py3-none-any.whl (56kB)\n",
      "Requirement already satisfied: setuptools in /srv/conda/lib/python3.6/site-packages (from kiwisolver>=1.0.1->matplotlib)\n",
      "Installing collected packages: cycler, kiwisolver, pyparsing, matplotlib\n",
      "Successfully installed cycler-0.10.0 kiwisolver-1.0.1 matplotlib-2.2.3 pyparsing-2.2.0\n"
     ]
    },
    {
     "name": "stderr",
     "output_type": "stream",
     "text": [
      "You are using pip version 9.0.3, however version 18.0 is available.\n",
      "You should consider upgrading via the 'pip install --upgrade pip' command.\n"
     ]
    },
    {
     "data": {
      "text/plain": [
       "0"
      ]
     },
     "execution_count": 57,
     "metadata": {},
     "output_type": "execute_result"
    }
   ],
   "source": [
    "import pip\n",
    "pip.main(['install','scipy','numpy','pandas','sklearn','matplotlib'])"
   ]
  },
  {
   "cell_type": "code",
   "execution_count": 58,
   "metadata": {},
   "outputs": [
    {
     "name": "stdout",
     "output_type": "stream",
     "text": [
      "font search path ['/srv/conda/lib/python3.6/site-packages/matplotlib/mpl-data/fonts/ttf', '/srv/conda/lib/python3.6/site-packages/matplotlib/mpl-data/fonts/afm', '/srv/conda/lib/python3.6/site-packages/matplotlib/mpl-data/fonts/pdfcorefonts']\n",
      "generated new fontManager\n"
     ]
    }
   ],
   "source": [
    "import numpy as np\n",
    "import pandas as pd\n",
    "import sklearn\n",
    "from sklearn.linear_model import LinearRegression\n",
    "from matplotlib import pyplot as plt"
   ]
  },
  {
   "cell_type": "markdown",
   "metadata": {},
   "source": [
    "### MARR Section 2.8 Exercises #1\n",
    " 1. The web site www.playbill.com provides weekly reports on the box office\n",
    "ticket sales for plays on Broadway in New York. We shall consider the data\n",
    "for the week October 11–17, 2004 (referred to below as the current week).\n",
    "The data are in the form of the gross box office results for the current week\n",
    "and the gross box office results for the previous week (i.e., October 3–10,\n",
    "2004). The data, plotted in Figure 2.6 , are available on the book web site in\n",
    "the file playbill.csv."
   ]
  },
  {
   "cell_type": "code",
   "execution_count": 14,
   "metadata": {},
   "outputs": [],
   "source": [
    "data = pd.read_csv('https://raw.githubusercontent.com/wilsonify/AppliedRegression/master/data/playbill.csv')"
   ]
  },
  {
   "cell_type": "markdown",
   "metadata": {},
   "source": [
    "![Figure 2.7](https://raw.githubusercontent.com/wilsonify/AppliedRegression/master/images/MARRfigure2.6.PNG \"\")"
   ]
  },
  {
   "cell_type": "markdown",
   "metadata": {},
   "source": [
    " Fit the following model to the data: \n",
    " \n",
    " $Y = \\beta_0 + \\beta_1 x + \\epsilon$ \n",
    " \n",
    "where Y is the gross box office results for the current week (in dollars) and x is the gross box office results for the previous week (in dollars). Complete the following tasks "
   ]
  },
  {
   "cell_type": "code",
   "execution_count": 43,
   "metadata": {},
   "outputs": [
    {
     "data": {
      "text/plain": [
       "LinearRegression(copy_X=True, fit_intercept=True, n_jobs=1, normalize=False)"
      ]
     },
     "execution_count": 43,
     "metadata": {},
     "output_type": "execute_result"
    }
   ],
   "source": [
    "x = data['LastWeek'].values.reshape(-1, 1)\n",
    "y = data['CurrentWeek'].values.reshape(-1, 1)\n",
    "reg = LinearRegression()\n",
    "reg.fit(x,y)"
   ]
  },
  {
   "cell_type": "code",
   "execution_count": 51,
   "metadata": {},
   "outputs": [
    {
     "data": {
      "text/plain": [
       "'Beta0 = 6804.886035 and Beta1 = 0.982081'"
      ]
     },
     "execution_count": 51,
     "metadata": {},
     "output_type": "execute_result"
    }
   ],
   "source": [
    "\"Beta0 = %2f and Beta1 = %2f\"%(reg.intercept_,reg.coef_)"
   ]
  },
  {
   "cell_type": "code",
   "execution_count": 53,
   "metadata": {},
   "outputs": [],
   "source": [
    "predicted = reg.predict(x)"
   ]
  },
  {
   "cell_type": "code",
   "execution_count": 54,
   "metadata": {},
   "outputs": [],
   "source": [
    "residual = predicted - y"
   ]
  },
  {
   "cell_type": "code",
   "execution_count": 56,
   "metadata": {},
   "outputs": [
    {
     "data": {
      "text/plain": [
       "16977.68765789942"
      ]
     },
     "execution_count": 56,
     "metadata": {},
     "output_type": "execute_result"
    }
   ],
   "source": [
    "residual.std()"
   ]
  },
  {
   "cell_type": "code",
   "execution_count": 72,
   "metadata": {},
   "outputs": [
    {
     "data": {
      "text/plain": [
       "[<matplotlib.lines.Line2D at 0x7f84dbccf2b0>,\n",
       " <matplotlib.lines.Line2D at 0x7f84dbccf438>]"
      ]
     },
     "execution_count": 72,
     "metadata": {},
     "output_type": "execute_result"
    },
    {
     "data": {
      "image/png": "[encoded data removed]",
      "text/plain": [
       "<Figure size 432x288 with 1 Axes>"
      ]
     },
     "metadata": {},
     "output_type": "display_data"
    }
   ],
   "source": [
    "plt.plot( x,y,'o'\n",
    "         ,x,reg.predict(x),'-k')"
   ]
  },
  {
   "cell_type": "markdown",
   "metadata": {},
   "source": [
    "(a) Find a 95% confidence interval for the slope of the regression model, $\\beta_1$. Is 1 a plausible value for $\\beta_1$? Give a reason to support your answer."
   ]
  },
  {
   "cell_type": "markdown",
   "metadata": {},
   "source": [
    "(b) Test the null hypothesis $H_0$: $\\beta_0 = 10000$ against a two-sided alternative. Interpret your result."
   ]
  },
  {
   "cell_type": "markdown",
   "metadata": {},
   "source": [
    "(c) Use the fitted regression model to estimate the gross box office results for the current week (in dollars) for a production with \\\\$400,000 in gross box office the previous week. "
   ]
  },
  {
   "cell_type": "markdown",
   "metadata": {},
   "source": [
    "Find a 95\\% prediction interval for the gross box office\n",
    "results for the current week (in \\\\$) for a production with \\\\$400,000 in gross box office the previous week. \n",
    "\n",
    "Is \\\\$450,000 a feasible value for the gross box office results in the current week, for a production with \\\\$400,000 in gross box office the previous week? Give a reason to support your answer. "
   ]
  },
  {
   "cell_type": "markdown",
   "metadata": {},
   "source": [
    "(d) Some promoters of Broadway plays use the prediction rule that next week’s\n",
    "gross box office results will be equal to this week’s gross box office results.\n",
    "Comment on the appropriateness of this rule. "
   ]
  },
  {
   "cell_type": "markdown",
   "metadata": {},
   "source": [
    "### MARR Section 2.8 Exercises #3\n",
    "\n",
    "#### 3. \n",
    "The manager of the purchasing department of a large company would like to develop a regression model to predict the average amount of time it takes to process a given number of invoices. Over a 30-day period, data are collected on the number of invoices processed and the total time taken (in hours). The data are available on the book web site in the file invoices.txt. The following model\n",
    "was fit to the data: \n",
    "\n",
    "$Y = \\beta_0 + \\beta_1 x +\\epsilon $\n",
    "\n",
    "where Y is the processing time and x is the number of invoices. A plot of the data and the fitted model can be found in Figure 2.7.\n",
    "\n",
    "Utilizing the output from the fit of this model provided below, complete the following tasks.\n",
    "\n",
    "![](https://raw.githubusercontent.com/wilsonify/AppliedRegression/master/images/MARRfigure2.7.PNG)"
   ]
  },
  {
   "cell_type": "markdown",
   "metadata": {},
   "source": [
    "(a) Find a 95\\% confidence interval for the start-up time, $\\beta_0$ "
   ]
  },
  {
   "cell_type": "markdown",
   "metadata": {},
   "source": [
    "(b) Suppose that a best practice benchmark for the average processing time for an additional invoice is 0.01 hours (or 0.6 minutes). \n",
    "\n",
    "Test the null hypothesis $H_0$ : $\\beta_1 = 0.01$ against a two-sided alternative. Interpret your result."
   ]
  },
  {
   "cell_type": "markdown",
   "metadata": {},
   "source": [
    "(c) Find a point estimate and a 95\\% prediction interval for the time taken to process 130 invoices. "
   ]
  },
  {
   "cell_type": "markdown",
   "metadata": {},
   "source": [
    "http://www.stat.tamu.edu/~sheather/book/docs/datasets/airfares.txt"
   ]
  },
  {
   "cell_type": "markdown",
   "metadata": {},
   "source": [
    "The data contains information on one-way airfare (in US$) and distance (in miles) from city A to 17 other cities in the US."
   ]
  },
  {
   "cell_type": "markdown",
   "metadata": {},
   "source": [
    "a) Fit the regression model given by:\n",
    "\n",
    "$Fare = \\beta_0+\\beta_1 Distance + \\epsilon$"
   ]
  },
  {
   "cell_type": "markdown",
   "metadata": {},
   "source": [
    "b) Critique the following statement:\n",
    "\n",
    "The regression coefficient of the predictor variable (Distance) is highly statistically significant and the model explains 99.4% of the variability in the Y-variable (Fare).\n",
    "\n",
    "Thus this model is highly effective for both understanding the effects of Distance on Fare and for predicting future values of Fare given the value of the predictor variable."
   ]
  },
  {
   "cell_type": "markdown",
   "metadata": {},
   "source": [
    "c) Does the regression model above seem to fit the data well?  If not, describe how the model can be improved."
   ]
  },
  {
   "cell_type": "markdown",
   "metadata": {},
   "source": [
    "### Extra Credit \n",
    "### MARR Section 2.8 # 4\n"
   ]
  },
  {
   "cell_type": "markdown",
   "metadata": {},
   "source": [
    "##### 4.\n",
    "Straight-line regression through the origin:\n",
    "\n",
    "In this question we shall make the following assumptions:\n",
    "\n",
    "(1) Y is related to x by the simple linear regression model \n",
    "\n",
    "$Y_i = \\beta x_i + \\epsilon $ ($i = 1,2,...,n$)\n",
    "\n",
    "i.e. $E(Y|X=x_i)=\\beta x_i$"
   ]
  },
  {
   "cell_type": "markdown",
   "metadata": {},
   "source": [
    "(2) The errors $e_1,e_2,...,e_n$ are independent of each other."
   ]
  },
  {
   "cell_type": "markdown",
   "metadata": {},
   "source": [
    "(3) The errors $e_1,e_2,...,e_n$ have a common variance $\\sigma^2$"
   ]
  },
  {
   "cell_type": "markdown",
   "metadata": {},
   "source": [
    "(4) The errors are normally distributed with a mean of 0 and variance $\\sigma^2$ (especially when the sample size is  small), i.e. $ e|X \\sim N(0,\\sigma^2)$"
   ]
  },
  {
   "cell_type": "markdown",
   "metadata": {},
   "source": [
    "In addition, since the regression model is conditional on $X$ we can assume that the values of the predictor variable, $x_1,x_2,...,x_n$ are known fixed constants."
   ]
  },
  {
   "cell_type": "markdown",
   "metadata": {},
   "source": [
    "(a) Show that the least squares estimate of $\\beta$ is given by \n",
    "\n",
    "$$\n",
    "\\hat{\\beta} = \\frac{\\sum_{i=1}^{n} x_i y_i }{\\sum{x_i^2}}\n",
    "$$"
   ]
  },
  {
   "cell_type": "markdown",
   "metadata": {},
   "source": [
    "(b) Under the above assumptions show that\n",
    "\n",
    "(i) $E(\\hat{\\beta}) = \\beta $\n",
    "\n",
    "(ii) \n",
    "$ Var(\\hat{\\beta}|X) = \\frac{\\sigma^2}{\\sum_i=1^n{x_i^2}} $\n",
    "\n",
    "(iii) $\\hat{\\beta}|X \\sim N\\left( \\beta, \\frac{\\sigma^2}{\\sum_i=1^n{x_i^2}} \\right)$"
   ]
  },
  {
   "cell_type": "code",
   "execution_count": null,
   "metadata": {},
   "outputs": [],
   "source": []
  }
 ],
 "metadata": {
  "kernelspec": {
   "display_name": "Python 3",
   "language": "python",
   "name": "python3"
  },
  "language_info": {
   "codemirror_mode": {
    "name": "ipython",
    "version": 3
   },
   "file_extension": ".py",
   "mimetype": "text/x-python",
   "name": "python",
   "nbconvert_exporter": "python",
   "pygments_lexer": "ipython3",
   "version": "3.6.5"
  }
 },
 "nbformat": 4,
 "nbformat_minor": 2
}
