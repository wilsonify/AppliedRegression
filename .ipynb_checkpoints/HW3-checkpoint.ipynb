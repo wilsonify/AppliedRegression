{
 "cells": [
  {
   "cell_type": "code",
   "execution_count": 1,
   "metadata": {},
   "outputs": [
    {
     "name": "stderr",
     "output_type": "stream",
     "text": [
      "── Attaching packages ─────────────────────────────────────── tidyverse 1.2.1 ──\n",
      "✔ ggplot2 3.0.0     ✔ purrr   0.2.5\n",
      "✔ tibble  1.4.2     ✔ dplyr   0.7.6\n",
      "✔ tidyr   0.8.1     ✔ stringr 1.3.1\n",
      "✔ readr   1.1.1     ✔ forcats 0.3.0\n",
      "── Conflicts ────────────────────────────────────────── tidyverse_conflicts() ──\n",
      "✖ dplyr::filter() masks stats::filter()\n",
      "✖ dplyr::lag()    masks stats::lag()\n",
      "\n",
      "Attaching package: ‘MASS’\n",
      "\n",
      "The following object is masked from ‘package:dplyr’:\n",
      "\n",
      "    select\n",
      "\n",
      "Loading required package: carData\n",
      "\n",
      "Attaching package: ‘car’\n",
      "\n",
      "The following object is masked from ‘package:dplyr’:\n",
      "\n",
      "    recode\n",
      "\n",
      "The following object is masked from ‘package:purrr’:\n",
      "\n",
      "    some\n",
      "\n"
     ]
    }
   ],
   "source": [
    "library(tidyverse)\n",
    "library(MuMIn) #AICc\n",
    "library(MASS) #stepAIC\n",
    "library(broom) # glance\n",
    "library(car) #vif"
   ]
  },
  {
   "cell_type": "markdown",
   "metadata": {},
   "source": [
    "# 1.\n",
    "Consider the situation in which the following regression model has been fit to a set of data\n",
    "\n",
    "$Y = b_0 + b_1 x_1 + b_2 x_2 + b_3 x_3 + e$\n",
    "\n",
    "Suppose that the hypothesis test based on Analysis of Variance leads to a strong rejection of the joint hypothesis that regression coefficients are all zero (p-value < 0.0001).  \n",
    "\n",
    "Furthermore, suppose that each individual t-test of the form H0:  bi = 0 fails to reject the null for each value of i, where i=1,…,3.\n",
    "\n",
    "Describe why this is likely to have occurred and what plots and which statistics you would look at to diagnose the problem. \n",
    "\n"
   ]
  },
  {
   "cell_type": "markdown",
   "metadata": {},
   "source": [
    "$x_1$, $x_2$, and $x_3$ are correlated with each other. While there is at least one coefficient that is not zero, non of the three are significantly different from zero in the presence of each other. We can confirm this with a scatterplot matrix and correlation coefficients. "
   ]
  },
  {
   "cell_type": "markdown",
   "metadata": {},
   "source": [
    "# 2.\n",
    "Data taken from Howell (2002). \n",
    "“A number of years ago, the student association of a large university published an evaluation of several hundred courses taught during the preceding semester.  Students in each course had completed a questionnaire in which they rated a number of different aspects of the course on a 5-point scale (1 = very bad to 5 = excellent)”.\n",
    "\n",
    "Five variables obtained were:\n",
    "* overall – overall rating of the course.\n",
    "* teach – rating of teaching skills of the instructor.\n",
    "* exams – quality of tests and exams\n",
    "* knowledge – rating of the instructor’s knowledge of the material \n",
    "* grade - student’s anticipated grade for the course (1=F to 5=A) \n",
    "* enroll – enrollment for the course"
   ]
  },
  {
   "cell_type": "markdown",
   "metadata": {},
   "source": [
    "|overall|teach|exams|knowledge|grade|enroll|\n",
    "|-----|------|------|---------|-----|------|\n",
    "|3.4|3.8|3.8|4.5|3.5|21|\n",
    "|2.9|2.8|3.2|3.8|3.2|50|\n",
    "|2.6|2.2|1.9|3.9|2.8|800|\n",
    "|3.8|3.5|3.5|4.1|3.3|221|\n",
    "|3.0|3.2|2.8|3.5|3.2|7|\n",
    "|2.5|2.7|3.8|4.2|3.2|108|\n",
    "|3.9|4.1|3.8|4.5|3.6|54|\n",
    "|4.3|4.2|4.1|4.7|4.0|99|\n",
    "|3.8|3.7|3.6|4.1|3.0|51|\n",
    "|3.4|3.7|3.6|4.1|3.1|47|\n",
    "|3.4|3.8|3.8|4.5|3.5|21|\n",
    "|2.8|3.3|3.5|3.9|3.0|73|\n",
    "|2.9|2.2|3.3|3.9|3.3|25|\n",
    "|4.1|4.1|3.6|4.0|3.2|37|\n",
    "|2.7|3.1|3.8|4.1|3.4|83|\n",
    "|3.9|2.9|3.8|4.5|3.7|70|"
   ]
  },
  {
   "cell_type": "code",
   "execution_count": null,
   "metadata": {},
   "outputs": [],
   "source": [
    "library(data.table)\n",
    "data2 <- fread('https://raw.githubusercontent.com/wilsonify/AppliedRegression/master/data/howell.csv')"
   ]
  },
  {
   "cell_type": "markdown",
   "metadata": {},
   "source": [
    "## a \n",
    "Enter the variables teach, exams, knowledge, grade, and enroll into a multiple regression model predicting scores for overall. Display the regression output. "
   ]
  },
  {
   "cell_type": "code",
   "execution_count": null,
   "metadata": {},
   "outputs": [],
   "source": [
    "fit <- lm(data=data2, formula = overall~.)\n",
    "\n",
    "summary_of_fit <- summary(fit)\n",
    "summary_of_fit"
   ]
  },
  {
   "cell_type": "markdown",
   "metadata": {},
   "source": [
    "## b\n",
    "Create a table of R^2 adjusted, AIC, AICC, and BIC for the best subset of each size.\n",
    "\n",
    "Identify the optimal model or models from the approach based on all possible subsets."
   ]
  },
  {
   "cell_type": "code",
   "execution_count": null,
   "metadata": {},
   "outputs": [],
   "source": [
    "Xs <- c('teach','exams','knowledge','grade','enroll')\n",
    "models <- c( interaction(Xs,            sep='+') %>% levels() %>% paste(\"overall ~\",.)\n",
    "            ,interaction(Xs,Xs,         sep='+') %>% levels() %>% paste(\"overall ~\",.)\n",
    "            ,interaction(Xs,Xs,Xs,      sep='+') %>% levels() %>% paste(\"overall ~\",.)\n",
    "            ,interaction(Xs,Xs,Xs,Xs,   sep='+') %>% levels() %>% paste(\"overall ~\",.)\n",
    "            ,interaction(Xs,Xs,Xs,Xs,Xs,sep='+') %>% levels() %>% paste(\"overall ~\",.)   \n",
    "           )"
   ]
  },
  {
   "cell_type": "code",
   "execution_count": null,
   "metadata": {},
   "outputs": [],
   "source": [
    "AICc_from_AIC <- function(AIC,fit) {    \n",
    "    n <- length(fit$residuals)  \n",
    "    k <- length(fit$coefficients) - 1    \n",
    "    correction <- (2*k^2 + 2*k) / (n - k - 1)\n",
    "    return ( AIC + correction )\n",
    "}\n",
    "\n",
    "result <- data_frame()\n",
    "for (form in models) {\n",
    "    #print(form)\n",
    "    fit <- lm(data=data2, formula = as.formula(form))        \n",
    "    glance_of_fit <- glance(fit) %>%\n",
    "                     mutate( model=form\n",
    "                            ,k = length(fit$coefficients) - 1   \n",
    "                            ,AICc = AICc_from_AIC(AIC,fit)) %>% \n",
    "                     dplyr::select(c( 'model' \n",
    "                                     ,'k'\n",
    "                                     ,'adj.r.squared'\n",
    "                                     ,'AIC'\n",
    "                                     ,'AICc'\n",
    "                                     ,'BIC')\n",
    "                                  )\n",
    "    result <- rbind(result,glance_of_fit)\n",
    "}"
   ]
  },
  {
   "cell_type": "code",
   "execution_count": null,
   "metadata": {},
   "outputs": [],
   "source": [
    "result %>% group_by(k) %>% summarise( max(adj.r.squared)\n",
    "                                     ,min(AIC)\n",
    "                                     ,min(AICc)\n",
    "                                     ,min(BIC)\n",
    "                                    )"
   ]
  },
  {
   "cell_type": "code",
   "execution_count": null,
   "metadata": {},
   "outputs": [],
   "source": [
    "result[which.max(result$adj.r.squared),]\n",
    "result[which.min(result$AIC),]\n",
    "result[which.min(result$AICc),]\n",
    "result[which.min(result$BIC),]"
   ]
  },
  {
   "cell_type": "markdown",
   "metadata": {},
   "source": [
    "## c\n",
    "Use the Forward method to determine the regression equation when starting with the same predictor variables listed in a. Please describe the steps R went through in generating its regression equation.\n",
    "\n",
    "At each stage of the process list the variable that was entered or removed from the equation and the R Square for the regression equation up to that point.\n",
    "\n",
    "Report the final version of the regression equation."
   ]
  },
  {
   "cell_type": "code",
   "execution_count": null,
   "metadata": {},
   "outputs": [],
   "source": [
    "minimal.model <- lm(overall ~ 1, data = data2)\n",
    "forward.step.model <- stepAIC( minimal.model\n",
    "                      ,direction = \"forward\"\n",
    "                      ,scope = list(upper = ~ teach+exams+knowledge+grade+enroll\n",
    "                                   ,lower = ~ 1)\n",
    "                      ,trace = TRUE)\n",
    "summary(forward.step.model )"
   ]
  },
  {
   "cell_type": "markdown",
   "metadata": {},
   "source": [
    "Forward selection process:\n",
    "1. starting with the null model.\n",
    "2. fit a separate model adding each potential new feature.\n",
    "3. select the model which minimizes AIC.\n",
    "4. repeat 2-3 until AIC cannot be lowered."
   ]
  },
  {
   "cell_type": "markdown",
   "metadata": {},
   "source": [
    "## d\n",
    "Repeat Part c, except use the Backward method (i.e., describe each step R went through).\n",
    "\n",
    "Is the solution different from the one you got using the Forward method? "
   ]
  },
  {
   "cell_type": "code",
   "execution_count": null,
   "metadata": {},
   "outputs": [],
   "source": [
    "maximal.model <- lm(overall ~ ., data = data2)\n",
    "backward.step.model <- stepAIC( maximal.model\n",
    "                              ,direction = \"backward\"\n",
    "                              ,scope = list(upper = ~ teach+exams+knowledge+grade+enroll\n",
    "                                            ,lower = ~ 1)\n",
    "                              ,trace = TRUE)\n",
    "summary(backward.step.model )"
   ]
  },
  {
   "cell_type": "markdown",
   "metadata": {},
   "source": [
    "Backward selection process:\n",
    "1. starting with the full model.\n",
    "2. fit a separate model removing each potential feature.\n",
    "3. select the model which minimizes AIC.\n",
    "4. repeat 2-3 until AIC cannot be lowered."
   ]
  },
  {
   "cell_type": "markdown",
   "metadata": {},
   "source": [
    "In this case, forward and backward selection agree on the best model as overal ~ teach+grade"
   ]
  },
  {
   "cell_type": "markdown",
   "metadata": {},
   "source": [
    "## e\n",
    "Decide on the model you would recommend.\n",
    "\n",
    "At this point, describe and examine the assumptions of multiple linear regression.\n",
    "\n",
    "If any assumptions are violated -- discuss what steps would/should be performed."
   ]
  },
  {
   "cell_type": "markdown",
   "metadata": {},
   "source": [
    "overall ~ teach + grade\n",
    "is best model because it maximizes R^2 while minimzing AIC, AICc, and BIC."
   ]
  },
  {
   "cell_type": "code",
   "execution_count": null,
   "metadata": {},
   "outputs": [],
   "source": [
    "fit <- lm(data=data2, formula = overall~teach + grade)\n",
    "summary_of_fit <- summary(fit)\n",
    "summary_of_fit"
   ]
  },
  {
   "cell_type": "code",
   "execution_count": null,
   "metadata": {},
   "outputs": [],
   "source": [
    "plot(fit$fitted.values,data2$overall)"
   ]
  },
  {
   "cell_type": "code",
   "execution_count": null,
   "metadata": {},
   "outputs": [],
   "source": [
    "plot(y=fit$residuals,x=fit$fitted.values)"
   ]
  },
  {
   "cell_type": "code",
   "execution_count": null,
   "metadata": {},
   "outputs": [],
   "source": [
    "studentized_residuals <- studres(fit)\n",
    "\n",
    "plot(y=studentized_residuals,x=fit$fitted.values)"
   ]
  },
  {
   "cell_type": "code",
   "execution_count": null,
   "metadata": {},
   "outputs": [],
   "source": [
    "qqnorm(studentized_residuals)\n",
    "qqline(studentized_residuals)"
   ]
  },
  {
   "cell_type": "markdown",
   "metadata": {},
   "source": [
    "Visually, there is a linear relationship between the actual and predicted values.\n",
    "The residuals are normally distributed with a mean of 0 and a constant variance."
   ]
  },
  {
   "cell_type": "markdown",
   "metadata": {},
   "source": [
    "We consider modeling Credit Card Balances.\n",
    "\n",
    "Data are available on Balances and the following potential predictor variables:\n",
    "1. Income\n",
    "2. Limit\n",
    "3. Rating\n",
    "4. Cards (Number of Credit Cards)\n",
    "5. Age (Years)\n",
    "6. Education (Years)\n",
    "7. Student (1=Student and 0=Non-student)\n",
    "\n",
    "Use R to do the following tasks.\n",
    "\n",
    "Copy the data in excel and run the following syntax\n",
    "my_data <- read.table(file = \"clipboard\", sep = \"\\t\", header=TRUE)\n",
    "\n",
    "Paste the numerical output and plots into a Word document."
   ]
  },
  {
   "cell_type": "code",
   "execution_count": null,
   "metadata": {},
   "outputs": [],
   "source": [
    "data3 <- fread('https://raw.githubusercontent.com/wilsonify/AppliedRegression/master/data/CreditCardsTraining.csv')"
   ]
  },
  {
   "cell_type": "markdown",
   "metadata": {},
   "source": [
    "## a\n",
    "Fit a model to predict Income from Limit, Rating, Cards, Age, Education, and Student.  Please do not include any quadratic nor any interaction terms.  Ensure that you find the variance inflation factors (VIF)."
   ]
  },
  {
   "cell_type": "code",
   "execution_count": null,
   "metadata": {},
   "outputs": [],
   "source": [
    "fit <- lm(formula = Income ~ Limit+Rating+Cards+Age+Education+Student,data = data3)\n"
   ]
  },
  {
   "cell_type": "code",
   "execution_count": null,
   "metadata": {},
   "outputs": [],
   "source": [
    "vif(fit)"
   ]
  },
  {
   "cell_type": "markdown",
   "metadata": {},
   "source": [
    "## b\n",
    "Plot the studentized residuals against the predicted values and each numerical predictor."
   ]
  },
  {
   "cell_type": "code",
   "execution_count": null,
   "metadata": {},
   "outputs": [],
   "source": [
    "studentized_residuals <- studres(fit)\n",
    "\n",
    "plot(y=studentized_residuals,x=fit$fitted.values)"
   ]
  },
  {
   "cell_type": "code",
   "execution_count": null,
   "metadata": {},
   "outputs": [],
   "source": [
    "par(mfrow=c(3,3))\n",
    "plot(y=studentized_residuals,data3$Limit)\n",
    "plot(y=studentized_residuals,data3$Rating)\n",
    "plot(y=studentized_residuals,data3$Cards)\n",
    "plot(y=studentized_residuals,data3$Age)\n",
    "plot(y=studentized_residuals,data3$Education)\n",
    "plot(y=studentized_residuals,data3$Student)"
   ]
  },
  {
   "cell_type": "markdown",
   "metadata": {},
   "source": [
    "## c\n",
    "Plot the numerical predictors against each other and obtain the correlations amongst these predictors.\n",
    "\n",
    "On the basis of the output you produced in (a), (b), and (c) answer the following questions:"
   ]
  },
  {
   "cell_type": "code",
   "execution_count": null,
   "metadata": {},
   "outputs": [],
   "source": [
    "pairs(data3[,c('Limit', 'Rating', 'Cards', 'Age', 'Education', 'Student')])"
   ]
  },
  {
   "cell_type": "markdown",
   "metadata": {},
   "source": [
    "\t\n",
    "## I\n",
    "Decide whether the assumption of constant error variance is a reasonable one for the fitted model.  Give reasons to support your answer."
   ]
  },
  {
   "cell_type": "markdown",
   "metadata": {},
   "source": [
    "Based \"megaphone\" pattern in scatterplots of residual vs limit and residual vs rating, variance in the residual is increasing with both rating and limit.  "
   ]
  },
  {
   "cell_type": "markdown",
   "metadata": {},
   "source": [
    "## II\n",
    "Decide whether multicollinearity is an issue for the fitted model. Give a reason to support your answer."
   ]
  },
  {
   "cell_type": "markdown",
   "metadata": {},
   "source": [
    "based on scatter plot of limit vs rating, there is a strong linear relationship between limit and rating."
   ]
  },
  {
   "cell_type": "markdown",
   "metadata": {},
   "source": [
    "## III\n",
    "Interpret the estimated coefficients. Decide whether these coefficients are statistically significant. Give a reason to support your answer."
   ]
  },
  {
   "cell_type": "code",
   "execution_count": null,
   "metadata": {},
   "outputs": [],
   "source": [
    "summary(fit)"
   ]
  },
  {
   "cell_type": "markdown",
   "metadata": {},
   "source": [
    "Based on the p-value of the F-statistic, under the null hypothesis that all coefficients are truely zero, we would expect and f-stat this extreme only 2.2e-14 % of the time. This is strong evidence that there is at lease one non-zero coefficient. Removing the lease significant factors reveals a significant coefficient between income and Rating.\n",
    "A unit change in rating is associated with an increase of 8.212 in Income."
   ]
  },
  {
   "cell_type": "code",
   "execution_count": null,
   "metadata": {},
   "outputs": [],
   "source": [
    "fit <- lm(formula = Income ~ Rating+Cards+Age,data = data3)"
   ]
  },
  {
   "cell_type": "code",
   "execution_count": null,
   "metadata": {},
   "outputs": [],
   "source": [
    "summary(fit)"
   ]
  }
 ],
 "metadata": {
  "kernelspec": {
   "display_name": "R",
   "language": "R",
   "name": "ir"
  },
  "language_info": {
   "codemirror_mode": "r",
   "file_extension": ".r",
   "mimetype": "text/x-r-source",
   "name": "R",
   "pygments_lexer": "r",
   "version": "3.4.4"
  }
 },
 "nbformat": 4,
 "nbformat_minor": 2
}
