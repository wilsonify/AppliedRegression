{
 "cells": [
  {
   "cell_type": "code",
   "execution_count": 74,
   "metadata": {},
   "outputs": [],
   "source": [
    "library(data.table)\n",
    "library(dplyr)"
   ]
  },
  {
   "cell_type": "markdown",
   "metadata": {},
   "source": [
    "# STAT 5310 – Regression Analysis\n",
    "# Lab Exercise/Homework 2"
   ]
  },
  {
   "cell_type": "markdown",
   "metadata": {},
   "source": [
    "## 1. \n",
    "Develop a regression model to predict the average number of hits (Y) from the average salary for the 10 highest paid hitters from each MLB team (X) based on data from the 2013 season.\n",
    "\n",
    "The data is in the file Hitters"
   ]
  },
  {
   "cell_type": "code",
   "execution_count": 75,
   "metadata": {},
   "outputs": [],
   "source": [
    "hitters <- fread('https://raw.githubusercontent.com/wilsonify/AppliedRegression/master/data/Hitters.csv')"
   ]
  },
  {
   "cell_type": "code",
   "execution_count": 76,
   "metadata": {},
   "outputs": [],
   "source": [
    "names(hitters) <- names(hitters) %>% gsub(' +)','_',.)"
   ]
  },
  {
   "cell_type": "code",
   "execution_count": 77,
   "metadata": {},
   "outputs": [
    {
     "data": {
      "text/html": [
       "<table>\n",
       "<thead><tr><th scope=col>Team</th><th scope=col>Average Number of Hits</th><th scope=col>Average Salary 2013 ($M)</th><th scope=col>New York Yankees</th></tr></thead>\n",
       "<tbody>\n",
       "\t<tr><td>Marlins </td><td>41      </td><td>1.340   </td><td>0       </td></tr>\n",
       "\t<tr><td>Mariners</td><td>51      </td><td>3.290   </td><td>0       </td></tr>\n",
       "\t<tr><td>Astros  </td><td>57      </td><td>0.759   </td><td>0       </td></tr>\n",
       "\t<tr><td>Mets    </td><td>61      </td><td>2.680   </td><td>0       </td></tr>\n",
       "\t<tr><td>Pirates </td><td>61      </td><td>3.090   </td><td>0       </td></tr>\n",
       "\t<tr><td>Padres  </td><td>59      </td><td>3.370   </td><td>0       </td></tr>\n",
       "</tbody>\n",
       "</table>\n"
      ],
      "text/latex": [
       "\\begin{tabular}{r|llll}\n",
       " Team & Average Number of Hits & Average Salary 2013 (\\$M) & New York Yankees\\\\\n",
       "\\hline\n",
       "\t Marlins  & 41       & 1.340    & 0       \\\\\n",
       "\t Mariners & 51       & 3.290    & 0       \\\\\n",
       "\t Astros   & 57       & 0.759    & 0       \\\\\n",
       "\t Mets     & 61       & 2.680    & 0       \\\\\n",
       "\t Pirates  & 61       & 3.090    & 0       \\\\\n",
       "\t Padres   & 59       & 3.370    & 0       \\\\\n",
       "\\end{tabular}\n"
      ],
      "text/markdown": [
       "\n",
       "Team | Average Number of Hits | Average Salary 2013 ($M) | New York Yankees | \n",
       "|---|---|---|---|---|---|\n",
       "| Marlins  | 41       | 1.340    | 0        | \n",
       "| Mariners | 51       | 3.290    | 0        | \n",
       "| Astros   | 57       | 0.759    | 0        | \n",
       "| Mets     | 61       | 2.680    | 0        | \n",
       "| Pirates  | 61       | 3.090    | 0        | \n",
       "| Padres   | 59       | 3.370    | 0        | \n",
       "\n",
       "\n"
      ],
      "text/plain": [
       "  Team     Average Number of Hits Average Salary 2013 ($M) New York Yankees\n",
       "1 Marlins  41                     1.340                    0               \n",
       "2 Mariners 51                     3.290                    0               \n",
       "3 Astros   57                     0.759                    0               \n",
       "4 Mets     61                     2.680                    0               \n",
       "5 Pirates  61                     3.090                    0               \n",
       "6 Padres   59                     3.370                    0               "
      ]
     },
     "metadata": {},
     "output_type": "display_data"
    }
   ],
   "source": [
    "hitters %>% head()"
   ]
  },
  {
   "cell_type": "markdown",
   "metadata": {},
   "source": [
    "### a) \n",
    "Fit a straight line regression model between Y and X.  \n",
    "\n",
    "Decide whether $\\beta_1$, the coefficient of X, is statistically significantly different from zero or not.  \n",
    "\n",
    "Give a reason to support your answer."
   ]
  },
  {
   "cell_type": "code",
   "execution_count": 78,
   "metadata": {},
   "outputs": [
    {
     "ename": "ERROR",
     "evalue": "Error in model.frame.default(formula = hitters$Average_Number_of_Hits ~ : invalid type (NULL) for variable 'hitters$Average_Number_of_Hits'\n",
     "output_type": "error",
     "traceback": [
      "Error in model.frame.default(formula = hitters$Average_Number_of_Hits ~ : invalid type (NULL) for variable 'hitters$Average_Number_of_Hits'\nTraceback:\n",
      "1. lm(hitters$Average_Number_of_Hits ~ hitters$\"Average_Salary_2013_($M)\")",
      "2. eval(mf, parent.frame())",
      "3. eval(mf, parent.frame())",
      "4. stats::model.frame(formula = hitters$Average_Number_of_Hits ~ \n .     hitters$\"Average_Salary_2013_($M)\", drop.unused.levels = TRUE)",
      "5. model.frame.default(formula = hitters$Average_Number_of_Hits ~ \n .     hitters$\"Average_Salary_2013_($M)\", drop.unused.levels = TRUE)"
     ]
    }
   ],
   "source": [
    "fit <- lm(hitters$Average_Number_of_Hits ~ hitters$\"Average_Salary_2013_($M)\")\n",
    "summary_of_fit <- summary(fit)\n",
    "summary_of_fit$coefficients['']"
   ]
  },
  {
   "cell_type": "code",
   "execution_count": 79,
   "metadata": {},
   "outputs": [
    {
     "data": {
      "image/png": "[encoded data removed]",
      "text/plain": [
       "plot without title"
      ]
     },
     "metadata": {},
     "output_type": "display_data"
    }
   ],
   "source": [
    "\n",
    "plot( y = hitters$\"Average Number of Hits\"\n",
    "     ,x = hitters$\"Average Salary 2013 ($M)\")"
   ]
  },
  {
   "cell_type": "markdown",
   "metadata": {},
   "source": [
    "### b) \n",
    "Examine the studentized residuals for the fitted model in part a.  \n",
    "\n",
    "Identify any points which are outliers (that is, have studentized residuals values more extreme than 3."
   ]
  },
  {
   "cell_type": "markdown",
   "metadata": {},
   "source": [
    "## 2. \n",
    "In order to investigate the feasibility of starting a Sunday edition for a large metropolitan newspaper, information was obtained from a sample of 34 newspapers concerning their daily and Sunday circulations (in thousands) \n",
    "\n",
    "The data is in the file Newspaper.\n",
    "\n",
    " *(Source:  Gale Directory of Publications, 1994).*\n"
   ]
  },
  {
   "cell_type": "code",
   "execution_count": 80,
   "metadata": {},
   "outputs": [],
   "source": [
    "newspaper <- fread('https://raw.githubusercontent.com/wilsonify/AppliedRegression/master/data/Newspaper.csv')"
   ]
  },
  {
   "cell_type": "code",
   "execution_count": 81,
   "metadata": {},
   "outputs": [
    {
     "data": {
      "text/html": [
       "<table>\n",
       "<thead><tr><th scope=col>Newspaper</th><th scope=col>Daily</th><th scope=col>Sunday</th></tr></thead>\n",
       "<tbody>\n",
       "\t<tr><td>Baltimore Sun     </td><td>391.952           </td><td> 488.506          </td></tr>\n",
       "\t<tr><td>Boston Globe      </td><td>516.981           </td><td> 798.298          </td></tr>\n",
       "\t<tr><td>Boston Herald     </td><td>355.628           </td><td> 235.084          </td></tr>\n",
       "\t<tr><td>Charlotte Observer</td><td>238.555           </td><td> 299.451          </td></tr>\n",
       "\t<tr><td>Chicago Sun Times </td><td>537.780           </td><td> 559.093          </td></tr>\n",
       "\t<tr><td>Chicago Tribune   </td><td>733.775           </td><td>1133.249          </td></tr>\n",
       "</tbody>\n",
       "</table>\n"
      ],
      "text/latex": [
       "\\begin{tabular}{r|lll}\n",
       " Newspaper & Daily & Sunday\\\\\n",
       "\\hline\n",
       "\t Baltimore Sun      & 391.952            &  488.506          \\\\\n",
       "\t Boston Globe       & 516.981            &  798.298          \\\\\n",
       "\t Boston Herald      & 355.628            &  235.084          \\\\\n",
       "\t Charlotte Observer & 238.555            &  299.451          \\\\\n",
       "\t Chicago Sun Times  & 537.780            &  559.093          \\\\\n",
       "\t Chicago Tribune    & 733.775            & 1133.249          \\\\\n",
       "\\end{tabular}\n"
      ],
      "text/markdown": [
       "\n",
       "Newspaper | Daily | Sunday | \n",
       "|---|---|---|---|---|---|\n",
       "| Baltimore Sun      | 391.952            |  488.506           | \n",
       "| Boston Globe       | 516.981            |  798.298           | \n",
       "| Boston Herald      | 355.628            |  235.084           | \n",
       "| Charlotte Observer | 238.555            |  299.451           | \n",
       "| Chicago Sun Times  | 537.780            |  559.093           | \n",
       "| Chicago Tribune    | 733.775            | 1133.249           | \n",
       "\n",
       "\n"
      ],
      "text/plain": [
       "  Newspaper          Daily   Sunday  \n",
       "1 Baltimore Sun      391.952  488.506\n",
       "2 Boston Globe       516.981  798.298\n",
       "3 Boston Herald      355.628  235.084\n",
       "4 Charlotte Observer 238.555  299.451\n",
       "5 Chicago Sun Times  537.780  559.093\n",
       "6 Chicago Tribune    733.775 1133.249"
      ]
     },
     "metadata": {},
     "output_type": "display_data"
    }
   ],
   "source": [
    "newspaper %>% head()"
   ]
  },
  {
   "cell_type": "markdown",
   "metadata": {},
   "source": [
    "### a)\n",
    "Construct a scatter plot of Sunday circulation versus daily circulation.\n",
    "\n",
    "Does the plot suggest a linear relationship between daily and Sunday circulation?  \n",
    "\n",
    "Do you think this is a plausible relationship?"
   ]
  },
  {
   "cell_type": "markdown",
   "metadata": {},
   "source": [
    "### b)\n",
    "Fit a regression line predicting Sunday circulation from daily circulation."
   ]
  },
  {
   "cell_type": "markdown",
   "metadata": {},
   "source": [
    "### c)\n",
    "Obtain the 95% confidence intervals for β0 and β1."
   ]
  },
  {
   "cell_type": "markdown",
   "metadata": {},
   "source": [
    "### d) \n",
    "Is there a significant relationship between Sunday circulation and daily circulation?\n",
    "\n",
    "Justify your answer by a statistical test.\n",
    "\n",
    "Indicate what hypothesis you are testing and your conclusion."
   ]
  },
  {
   "cell_type": "markdown",
   "metadata": {},
   "source": [
    "### e)\n",
    "What proportion of the variability in Sunday circulation is accounted for by daily circulation?"
   ]
  },
  {
   "cell_type": "markdown",
   "metadata": {},
   "source": [
    "### f)\n",
    "Provide an estimate (based on a 95% confidence level) for the average Sunday circulation of newspapers with daily circulation of 500,000."
   ]
  },
  {
   "cell_type": "markdown",
   "metadata": {},
   "source": [
    "### g)\n",
    "The particular newspaper that is considering a Sunday edition has a daily circulation of 500,000.  \n",
    "\n",
    "Provide an interval estimate (based on a 95% confidence level) for the predicted Sunday circulation of this paper.\n",
    "\n",
    "How does this interval differ from that given in part f?"
   ]
  },
  {
   "cell_type": "markdown",
   "metadata": {},
   "source": [
    "### h)\n",
    "Another newspaper considering a Sunday edition has a daily circulation of 2,000,000.\n",
    "\n",
    "Provide an interval estimate for the predicted Sunday circulation for this paper?\n",
    "\n",
    "How does this interval compare with the one given in part g?  \n",
    "\n",
    "Do you think it is likely to be accurate?"
   ]
  },
  {
   "cell_type": "markdown",
   "metadata": {},
   "source": [
    "## 3.\n",
    "Consider the sale price of 1672 residential properties in Ames, Iowa from 2006 to 2010.  \n",
    "\n",
    "The data included information from the Tax Assessor’s Office along with information on various aspects of each property.\n",
    "\n",
    "The first model fit to the data was\n",
    "\n",
    "$ SalePrice = \\beta_0 + \\beta_1 TotalLivingArea + e $\n",
    "\n",
    "Where TotalLivingArea gives the total area in square feet of the above ground living area and basement for each property. \n",
    "\n",
    "On the following pages is some output from fitting ethe first model as well as some plots."
   ]
  },
  {
   "cell_type": "markdown",
   "metadata": {},
   "source": [
    "a. Interpret the estimated coefficient of TotalLivingArea in model (1)."
   ]
  },
  {
   "cell_type": "markdown",
   "metadata": {},
   "source": [
    "b. Carefully describe at least one main shortcomings (apart from outliers) evident in model (1)."
   ]
  },
  {
   "cell_type": "markdown",
   "metadata": {},
   "source": [
    "## 4.\n",
    "\n",
    "Consider the situation in which 3 regression models of the following form have been fit to a set of data.\n",
    "\n",
    "Suppose that we are modeling the sale prices of apartments in Austin, TX.\n",
    "\n",
    "Model (A) is such that y = sale price, x = number of bedrooms \n",
    "\n",
    "model (B) is such that y = sale price, x = number of bathrooms \n",
    "\n",
    "model (C) is such that y = log(sale price), x = number of bedrooms\n",
    "\n",
    "Comparing the models, which one of the following statements is true? \n",
    "\n",
    "I. It is reasonable to compare the R2 values for models (A), (B) and (C).\n",
    "\n",
    "II. It is reasonable to compare the R2 values only for models (A) and (B\n",
    "\n",
    "III. It is reasonable to compare the R2 values only for models (A) and (C).\n",
    "\n",
    "IV. It is not reasonable to compare the R2 values for models (A), (B), and (C).\n",
    "\n",
    "Give a reason to support your answer."
   ]
  }
 ],
 "metadata": {
  "kernelspec": {
   "display_name": "R",
   "language": "R",
   "name": "ir"
  },
  "language_info": {
   "codemirror_mode": "r",
   "file_extension": ".r",
   "mimetype": "text/x-r-source",
   "name": "R",
   "pygments_lexer": "r",
   "version": "3.4.4"
  }
 },
 "nbformat": 4,
 "nbformat_minor": 2
}
