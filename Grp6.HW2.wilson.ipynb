{
 "cells": [
  {
   "cell_type": "code",
   "execution_count": 59,
   "metadata": {},
   "outputs": [],
   "source": [
    "library(MASS)\n",
    "library(data.table)\n",
    "library(dplyr)"
   ]
  },
  {
   "cell_type": "markdown",
   "metadata": {},
   "source": [
    "# STAT 5310 – Regression Analysis\n",
    "# Lab Exercise/Homework 2"
   ]
  },
  {
   "cell_type": "markdown",
   "metadata": {},
   "source": [
    "## 1. \n",
    "Develop a regression model to predict the average number of hits (Y) from the average salary for the 10 highest paid hitters from each MLB team (X) based on data from the 2013 season.\n",
    "\n",
    "The data is in the file Hitters"
   ]
  },
  {
   "cell_type": "code",
   "execution_count": 60,
   "metadata": {},
   "outputs": [],
   "source": [
    "hitters <- fread('https://raw.githubusercontent.com/wilsonify/AppliedRegression/master/data/Hitters.csv')"
   ]
  },
  {
   "cell_type": "code",
   "execution_count": 61,
   "metadata": {},
   "outputs": [],
   "source": [
    "names(hitters) <- names(hitters) %>% gsub('[ |(|)|$]','',.)"
   ]
  },
  {
   "cell_type": "code",
   "execution_count": 62,
   "metadata": {},
   "outputs": [
    {
     "data": {
      "text/html": [
       "<table>\n",
       "<thead><tr><th scope=col>Team</th><th scope=col>AverageNumberofHits</th><th scope=col>AverageSalary2013M</th><th scope=col>NewYorkYankees</th></tr></thead>\n",
       "<tbody>\n",
       "\t<tr><td>Marlins </td><td>41      </td><td>1.340   </td><td>0       </td></tr>\n",
       "\t<tr><td>Mariners</td><td>51      </td><td>3.290   </td><td>0       </td></tr>\n",
       "\t<tr><td>Astros  </td><td>57      </td><td>0.759   </td><td>0       </td></tr>\n",
       "\t<tr><td>Mets    </td><td>61      </td><td>2.680   </td><td>0       </td></tr>\n",
       "\t<tr><td>Pirates </td><td>61      </td><td>3.090   </td><td>0       </td></tr>\n",
       "\t<tr><td>Padres  </td><td>59      </td><td>3.370   </td><td>0       </td></tr>\n",
       "</tbody>\n",
       "</table>\n"
      ],
      "text/latex": [
       "\\begin{tabular}{r|llll}\n",
       " Team & AverageNumberofHits & AverageSalary2013M & NewYorkYankees\\\\\n",
       "\\hline\n",
       "\t Marlins  & 41       & 1.340    & 0       \\\\\n",
       "\t Mariners & 51       & 3.290    & 0       \\\\\n",
       "\t Astros   & 57       & 0.759    & 0       \\\\\n",
       "\t Mets     & 61       & 2.680    & 0       \\\\\n",
       "\t Pirates  & 61       & 3.090    & 0       \\\\\n",
       "\t Padres   & 59       & 3.370    & 0       \\\\\n",
       "\\end{tabular}\n"
      ],
      "text/markdown": [
       "\n",
       "Team | AverageNumberofHits | AverageSalary2013M | NewYorkYankees | \n",
       "|---|---|---|---|---|---|\n",
       "| Marlins  | 41       | 1.340    | 0        | \n",
       "| Mariners | 51       | 3.290    | 0        | \n",
       "| Astros   | 57       | 0.759    | 0        | \n",
       "| Mets     | 61       | 2.680    | 0        | \n",
       "| Pirates  | 61       | 3.090    | 0        | \n",
       "| Padres   | 59       | 3.370    | 0        | \n",
       "\n",
       "\n"
      ],
      "text/plain": [
       "  Team     AverageNumberofHits AverageSalary2013M NewYorkYankees\n",
       "1 Marlins  41                  1.340              0             \n",
       "2 Mariners 51                  3.290              0             \n",
       "3 Astros   57                  0.759              0             \n",
       "4 Mets     61                  2.680              0             \n",
       "5 Pirates  61                  3.090              0             \n",
       "6 Padres   59                  3.370              0             "
      ]
     },
     "metadata": {},
     "output_type": "display_data"
    }
   ],
   "source": [
    "hitters %>% head()"
   ]
  },
  {
   "cell_type": "markdown",
   "metadata": {},
   "source": [
    "### a) \n",
    "Fit a straight line regression model between Y and X.  \n",
    "\n",
    "Decide whether $\\beta_1$, the coefficient of X, is statistically significantly different from zero or not.  \n",
    "\n",
    "Give a reason to support your answer."
   ]
  },
  {
   "cell_type": "code",
   "execution_count": 63,
   "metadata": {},
   "outputs": [
    {
     "data": {
      "text/html": [
       "0.132892777346204"
      ],
      "text/latex": [
       "0.132892777346204"
      ],
      "text/markdown": [
       "0.132892777346204"
      ],
      "text/plain": [
       "[1] 0.1328928"
      ]
     },
     "metadata": {},
     "output_type": "display_data"
    }
   ],
   "source": [
    "fit <- lm(hitters$AverageNumberofHits ~ hitters$AverageSalary2013M)\n",
    "summary_of_fit <- summary(fit)\n",
    "summary_of_fit$coefficients[\"hitters$AverageSalary2013M\",\"Pr(>|t|)\"]"
   ]
  },
  {
   "cell_type": "markdown",
   "metadata": {},
   "source": [
    "$\\beta_1$ is not significatnly different from zero.\n",
    "\n",
    "Under the null hypothesis that $\\beta_1 = 0$, we would observe a more extreme $\\beta_1$ 13% of the time."
   ]
  },
  {
   "cell_type": "code",
   "execution_count": 64,
   "metadata": {},
   "outputs": [
    {
     "data": {
      "image/png": "[encoded data removed]",
      "text/plain": [
       "plot without title"
      ]
     },
     "metadata": {},
     "output_type": "display_data"
    }
   ],
   "source": [
    "plot( y = hitters$AverageNumberofHits\n",
    "     ,x = hitters$AverageSalary2013M\n",
    "    )"
   ]
  },
  {
   "cell_type": "markdown",
   "metadata": {},
   "source": [
    "### b) \n",
    "Examine the studentized residuals for the fitted model in part a.  \n",
    "\n",
    "Identify any points which are outliers (that is, have studentized residuals values more extreme than 3."
   ]
  },
  {
   "cell_type": "code",
   "execution_count": 68,
   "metadata": {},
   "outputs": [],
   "source": [
    "studentized_residuals <- studres(fit)"
   ]
  },
  {
   "cell_type": "code",
   "execution_count": 72,
   "metadata": {},
   "outputs": [
    {
     "data": {
      "image/png": "[encoded data removed]",
      "text/plain": [
       "Plot with title “Normal Q-Q Plot”"
      ]
     },
     "metadata": {},
     "output_type": "display_data"
    }
   ],
   "source": [
    "qqnorm(studentized_residuals)\n",
    "qqline(studentized_residuals)"
   ]
  },
  {
   "cell_type": "markdown",
   "metadata": {},
   "source": [
    "There is exactly one outlier with studentized residual of -4.36"
   ]
  },
  {
   "cell_type": "markdown",
   "metadata": {},
   "source": [
    "## 2. \n",
    "In order to investigate the feasibility of starting a Sunday edition for a large metropolitan newspaper, information was obtained from a sample of 34 newspapers concerning their daily and Sunday circulations (in thousands) \n",
    "\n",
    "The data is in the file Newspaper.\n",
    "\n",
    " *(Source:  Gale Directory of Publications, 1994).*\n"
   ]
  },
  {
   "cell_type": "code",
   "execution_count": 76,
   "metadata": {},
   "outputs": [],
   "source": [
    "newspaper <- fread('https://raw.githubusercontent.com/wilsonify/AppliedRegression/master/data/Newspaper.csv')"
   ]
  },
  {
   "cell_type": "code",
   "execution_count": 77,
   "metadata": {},
   "outputs": [
    {
     "data": {
      "text/html": [
       "<table>\n",
       "<thead><tr><th scope=col>Newspaper</th><th scope=col>Daily</th><th scope=col>Sunday</th></tr></thead>\n",
       "<tbody>\n",
       "\t<tr><td>Baltimore Sun     </td><td>391.952           </td><td> 488.506          </td></tr>\n",
       "\t<tr><td>Boston Globe      </td><td>516.981           </td><td> 798.298          </td></tr>\n",
       "\t<tr><td>Boston Herald     </td><td>355.628           </td><td> 235.084          </td></tr>\n",
       "\t<tr><td>Charlotte Observer</td><td>238.555           </td><td> 299.451          </td></tr>\n",
       "\t<tr><td>Chicago Sun Times </td><td>537.780           </td><td> 559.093          </td></tr>\n",
       "\t<tr><td>Chicago Tribune   </td><td>733.775           </td><td>1133.249          </td></tr>\n",
       "</tbody>\n",
       "</table>\n"
      ],
      "text/latex": [
       "\\begin{tabular}{r|lll}\n",
       " Newspaper & Daily & Sunday\\\\\n",
       "\\hline\n",
       "\t Baltimore Sun      & 391.952            &  488.506          \\\\\n",
       "\t Boston Globe       & 516.981            &  798.298          \\\\\n",
       "\t Boston Herald      & 355.628            &  235.084          \\\\\n",
       "\t Charlotte Observer & 238.555            &  299.451          \\\\\n",
       "\t Chicago Sun Times  & 537.780            &  559.093          \\\\\n",
       "\t Chicago Tribune    & 733.775            & 1133.249          \\\\\n",
       "\\end{tabular}\n"
      ],
      "text/markdown": [
       "\n",
       "Newspaper | Daily | Sunday | \n",
       "|---|---|---|---|---|---|\n",
       "| Baltimore Sun      | 391.952            |  488.506           | \n",
       "| Boston Globe       | 516.981            |  798.298           | \n",
       "| Boston Herald      | 355.628            |  235.084           | \n",
       "| Charlotte Observer | 238.555            |  299.451           | \n",
       "| Chicago Sun Times  | 537.780            |  559.093           | \n",
       "| Chicago Tribune    | 733.775            | 1133.249           | \n",
       "\n",
       "\n"
      ],
      "text/plain": [
       "  Newspaper          Daily   Sunday  \n",
       "1 Baltimore Sun      391.952  488.506\n",
       "2 Boston Globe       516.981  798.298\n",
       "3 Boston Herald      355.628  235.084\n",
       "4 Charlotte Observer 238.555  299.451\n",
       "5 Chicago Sun Times  537.780  559.093\n",
       "6 Chicago Tribune    733.775 1133.249"
      ]
     },
     "metadata": {},
     "output_type": "display_data"
    }
   ],
   "source": [
    "newspaper %>% head()"
   ]
  },
  {
   "cell_type": "markdown",
   "metadata": {},
   "source": [
    "### a)\n",
    "Construct a scatter plot of Sunday circulation versus daily circulation.\n",
    "\n",
    "Does the plot suggest a linear relationship between daily and Sunday circulation?  \n",
    "\n",
    "Do you think this is a plausible relationship?"
   ]
  },
  {
   "cell_type": "code",
   "execution_count": 78,
   "metadata": {},
   "outputs": [
    {
     "data": {
      "image/png": "[encoded data removed]",
      "text/plain": [
       "plot without title"
      ]
     },
     "metadata": {},
     "output_type": "display_data"
    }
   ],
   "source": [
    "plot(y=newspaper$Sunday,x=newspaper$Daily)"
   ]
  },
  {
   "cell_type": "markdown",
   "metadata": {},
   "source": [
    "The plot of sunday circualtion vs daily circulation does suggest a linear relationship.\n",
    "\n",
    "It seems very plausible that, in reality, newspapers with a large circulation on weekdays would also have a large circulation on sunday and vis-versa for newspapers with a small circulation."
   ]
  },
  {
   "cell_type": "markdown",
   "metadata": {},
   "source": [
    "### b)\n",
    "Fit a regression line predicting Sunday circulation from daily circulation."
   ]
  },
  {
   "cell_type": "code",
   "execution_count": 79,
   "metadata": {},
   "outputs": [],
   "source": [
    "fit <- lm(data =newspaper, Sunday~Daily)"
   ]
  },
  {
   "cell_type": "code",
   "execution_count": 80,
   "metadata": {},
   "outputs": [
    {
     "data": {
      "image/png": "[encoded data removed]",
      "text/plain": [
       "plot without title"
      ]
     },
     "metadata": {},
     "output_type": "display_data"
    }
   ],
   "source": [
    "plot(y=newspaper$Sunday,x=newspaper$Daily)\n",
    "abline(fit)"
   ]
  },
  {
   "cell_type": "markdown",
   "metadata": {},
   "source": [
    "### c)\n",
    "Obtain the 95% confidence intervals for β0 and β1."
   ]
  },
  {
   "cell_type": "code",
   "execution_count": 105,
   "metadata": {},
   "outputs": [
    {
     "data": {
      "text/html": [
       "<table>\n",
       "<thead><tr><th></th><th scope=col>Estimate</th><th scope=col>Std. Error</th><th scope=col>t value</th><th scope=col>Pr(&gt;|t|)</th></tr></thead>\n",
       "<tbody>\n",
       "\t<tr><th scope=row>(Intercept)</th><td>13.835630   </td><td>35.80400579 </td><td> 0.3864269  </td><td>7.017382e-01</td></tr>\n",
       "\t<tr><th scope=row>Daily</th><td> 1.339715   </td><td> 0.07075395 </td><td>18.9348403  </td><td>6.016802e-19</td></tr>\n",
       "</tbody>\n",
       "</table>\n"
      ],
      "text/latex": [
       "\\begin{tabular}{r|llll}\n",
       "  & Estimate & Std. Error & t value & Pr(>\\textbar{}t\\textbar{})\\\\\n",
       "\\hline\n",
       "\t(Intercept) & 13.835630    & 35.80400579  &  0.3864269   & 7.017382e-01\\\\\n",
       "\tDaily &  1.339715    &  0.07075395  & 18.9348403   & 6.016802e-19\\\\\n",
       "\\end{tabular}\n"
      ],
      "text/markdown": [
       "\n",
       "| <!--/--> | Estimate | Std. Error | t value | Pr(>|t|) | \n",
       "|---|---|\n",
       "| (Intercept) | 13.835630    | 35.80400579  |  0.3864269   | 7.017382e-01 | \n",
       "| Daily |  1.339715    |  0.07075395  | 18.9348403   | 6.016802e-19 | \n",
       "\n",
       "\n"
      ],
      "text/plain": [
       "            Estimate  Std. Error  t value    Pr(>|t|)    \n",
       "(Intercept) 13.835630 35.80400579  0.3864269 7.017382e-01\n",
       "Daily        1.339715  0.07075395 18.9348403 6.016802e-19"
      ]
     },
     "metadata": {},
     "output_type": "display_data"
    },
    {
     "name": "stdout",
     "output_type": "stream",
     "text": [
      "[1] \"95% confidence interval for the intercept, B0 is \"\n"
     ]
    },
    {
     "data": {
      "text/html": [
       "<ol class=list-inline>\n",
       "\t<li>-56.34</li>\n",
       "\t<li>84.01</li>\n",
       "</ol>\n"
      ],
      "text/latex": [
       "\\begin{enumerate*}\n",
       "\\item -56.34\n",
       "\\item 84.01\n",
       "\\end{enumerate*}\n"
      ],
      "text/markdown": [
       "1. -56.34\n",
       "2. 84.01\n",
       "\n",
       "\n"
      ],
      "text/plain": [
       "[1] -56.34  84.01"
      ]
     },
     "metadata": {},
     "output_type": "display_data"
    },
    {
     "name": "stdout",
     "output_type": "stream",
     "text": [
      "[1] \"95% confidence interval for the slope, B1 is \"\n"
     ]
    },
    {
     "data": {
      "text/html": [
       "<ol class=list-inline>\n",
       "\t<li>1.2</li>\n",
       "\t<li>1.48</li>\n",
       "</ol>\n"
      ],
      "text/latex": [
       "\\begin{enumerate*}\n",
       "\\item 1.2\n",
       "\\item 1.48\n",
       "\\end{enumerate*}\n"
      ],
      "text/markdown": [
       "1. 1.2\n",
       "2. 1.48\n",
       "\n",
       "\n"
      ],
      "text/plain": [
       "[1] 1.20 1.48"
      ]
     },
     "metadata": {},
     "output_type": "display_data"
    }
   ],
   "source": [
    "summary_of_fit <- summary(fit)\n",
    "summary_of_fit$coefficients\n",
    "alpha = 1.0 - 0.95\n",
    "half_alpha = alpha / 2.0\n",
    "z = qnorm(1-half_alpha)\n",
    "\n",
    "\n",
    "beta0_center <- summary_of_fit$coefficients[\"(Intercept)\",\"Estimate\"]\n",
    "beta0_SE <- summary_of_fit$coefficients[\"(Intercept)\",\"Std. Error\"]\n",
    "beta0_error_bound <- z * beta0_SE\n",
    "beta0_CI <- c(beta0_center-beta0_error_bound,beta0_center+beta0_error_bound) %>% round(2)\n",
    "print(\"95% confidence interval for the intercept, B0 is \")\n",
    "beta0_CI\n",
    "\n",
    "beta1_center <- summary_of_fit$coefficients[\"Daily\",\"Estimate\"]\n",
    "beta1_SE <- summary_of_fit$coefficients[\"Daily\",\"Std. Error\"]\n",
    "beta1_error_bound <- z * beta1_SE\n",
    "beta1_CI <- c(beta1_center-beta1_error_bound,beta1_center+beta1_error_bound) %>% round(2)\n",
    "print(\"95% confidence interval for the slope, B1 is \")\n",
    "beta1_CI"
   ]
  },
  {
   "cell_type": "markdown",
   "metadata": {},
   "source": [
    "### d) \n",
    "Is there a significant relationship between Sunday circulation and daily circulation?\n",
    "\n",
    "Justify your answer by a statistical test.\n",
    "\n",
    "Indicate what hypothesis you are testing and your conclusion."
   ]
  },
  {
   "cell_type": "markdown",
   "metadata": {},
   "source": [
    "There a significant relationship between Sunday circulation and daily circulation.\n",
    "\n",
    "If there were no relationship (H0: $\\beta_1 = 0$), we would expect a more extreme coefficient only 0.00000000000000006% of the time."
   ]
  },
  {
   "cell_type": "markdown",
   "metadata": {},
   "source": [
    "### e)\n",
    "What proportion of the variability in Sunday circulation is accounted for by daily circulation?"
   ]
  },
  {
   "cell_type": "code",
   "execution_count": 112,
   "metadata": {},
   "outputs": [
    {
     "data": {
      "text/html": [
       "0.915499054886934"
      ],
      "text/latex": [
       "0.915499054886934"
      ],
      "text/markdown": [
       "0.915499054886934"
      ],
      "text/plain": [
       "[1] 0.9154991"
      ]
     },
     "metadata": {},
     "output_type": "display_data"
    }
   ],
   "source": [
    "summary_of_fit$adj.r.squared"
   ]
  },
  {
   "cell_type": "markdown",
   "metadata": {},
   "source": [
    "91.5% of the variablitity in sunday ciculation can be explained by a linear relashionship between daily circulation and sunday circulation."
   ]
  },
  {
   "cell_type": "markdown",
   "metadata": {},
   "source": [
    "### f)\n",
    "Provide an estimate (based on a 95% confidence level) for the average Sunday circulation of newspapers with daily circulation of 500,000."
   ]
  },
  {
   "cell_type": "code",
   "execution_count": 137,
   "metadata": {},
   "outputs": [
    {
     "data": {
      "text/html": [
       "<dl class=dl-horizontal>\n",
       "\t<dt>1</dt>\n",
       "\t\t<dd>669656.75298337</dd>\n",
       "\t<dt>1</dt>\n",
       "\t\t<dd>670085.675960574</dd>\n",
       "</dl>\n"
      ],
      "text/latex": [
       "\\begin{description*}\n",
       "\\item[1] 669656.75298337\n",
       "\\item[1] 670085.675960574\n",
       "\\end{description*}\n"
      ],
      "text/markdown": [
       "1\n",
       ":   669656.752983371\n",
       ":   670085.675960574\n",
       "\n"
      ],
      "text/plain": [
       "       1        1 \n",
       "669656.8 670085.7 "
      ]
     },
     "metadata": {},
     "output_type": "display_data"
    }
   ],
   "source": [
    "alpha = 1.0 - 0.95\n",
    "half_alpha = alpha / 2.0\n",
    "z = qnorm(1-half_alpha)\n",
    "newdata <- data.frame(Daily=c(500000))\n",
    "center <- predict(fit, newdata = newdata)\n",
    "sigma <- summary_of_fit$sigma\n",
    "error_bound <- z * sigma\n",
    "CI <- c(center-error_bound,center+error_bound)\n",
    "CI"
   ]
  },
  {
   "cell_type": "markdown",
   "metadata": {},
   "source": [
    "At a 95% confidence level, the average Sunday circulation of all newspapers with daily circulation of 500,000 will be between 669700 and 670100."
   ]
  },
  {
   "cell_type": "markdown",
   "metadata": {},
   "source": [
    "### g)\n",
    "The particular newspaper that is considering a Sunday edition has a daily circulation of 500,000.  \n",
    "\n",
    "Provide an interval estimate (based on a 95% confidence level) for the predicted Sunday circulation of this paper.\n",
    "\n",
    "How does this interval differ from that given in part f?"
   ]
  },
  {
   "cell_type": "code",
   "execution_count": 125,
   "metadata": {},
   "outputs": [
    {
     "data": {
      "text/html": [
       "<table>\n",
       "<thead><tr><th></th><th scope=col>fit</th><th scope=col>lwr</th><th scope=col>upr</th></tr></thead>\n",
       "<tbody>\n",
       "\t<tr><th scope=row>1</th><td>669871.2</td><td>597872.4</td><td>741870  </td></tr>\n",
       "</tbody>\n",
       "</table>\n"
      ],
      "text/latex": [
       "\\begin{tabular}{r|lll}\n",
       "  & fit & lwr & upr\\\\\n",
       "\\hline\n",
       "\t1 & 669871.2 & 597872.4 & 741870  \\\\\n",
       "\\end{tabular}\n"
      ],
      "text/markdown": [
       "\n",
       "| <!--/--> | fit | lwr | upr | \n",
       "|---|\n",
       "| 1 | 669871.2 | 597872.4 | 741870   | \n",
       "\n",
       "\n"
      ],
      "text/plain": [
       "  fit      lwr      upr   \n",
       "1 669871.2 597872.4 741870"
      ]
     },
     "metadata": {},
     "output_type": "display_data"
    }
   ],
   "source": [
    "predict(fit, newdata = data.frame(Daily=c(500000)), interval=\"predict\",level = 0.95) "
   ]
  },
  {
   "cell_type": "markdown",
   "metadata": {},
   "source": [
    "At a 95% confidence level, the Sunday circulation of a particular newspaper with daily circulation of 500,000 will be between 598000 and 742000.\n",
    "\n",
    "Generally, there is more (tighter) confidence in predicting the average of all newspapers than in predicting the circulation of a particular newspaper."
   ]
  },
  {
   "cell_type": "markdown",
   "metadata": {},
   "source": [
    "### h)\n",
    "Another newspaper considering a Sunday edition has a daily circulation of 2,000,000.\n",
    "\n",
    "Provide an interval estimate for the predicted Sunday circulation for this paper?\n",
    "\n",
    "How does this interval compare with the one given in part g?  \n",
    "\n",
    "Do you think it is likely to be accurate?"
   ]
  },
  {
   "cell_type": "code",
   "execution_count": 138,
   "metadata": {},
   "outputs": [
    {
     "data": {
      "text/html": [
       "<table>\n",
       "<thead><tr><th></th><th scope=col>fit</th><th scope=col>lwr</th><th scope=col>upr</th></tr></thead>\n",
       "<tbody>\n",
       "\t<tr><th scope=row>1</th><td>2679443</td><td>2391263</td><td>2967623</td></tr>\n",
       "</tbody>\n",
       "</table>\n"
      ],
      "text/latex": [
       "\\begin{tabular}{r|lll}\n",
       "  & fit & lwr & upr\\\\\n",
       "\\hline\n",
       "\t1 & 2679443 & 2391263 & 2967623\\\\\n",
       "\\end{tabular}\n"
      ],
      "text/markdown": [
       "\n",
       "| <!--/--> | fit | lwr | upr | \n",
       "|---|\n",
       "| 1 | 2679443 | 2391263 | 2967623 | \n",
       "\n",
       "\n"
      ],
      "text/plain": [
       "  fit     lwr     upr    \n",
       "1 2679443 2391263 2967623"
      ]
     },
     "metadata": {},
     "output_type": "display_data"
    }
   ],
   "source": [
    "predict(fit, newdata = data.frame(Daily=c(2000000)), interval=\"predict\",level = 0.95) "
   ]
  },
  {
   "cell_type": "markdown",
   "metadata": {},
   "source": [
    "At a 95% confidence level, the Sunday circulation of a particular newspaper with daily circulation of 200,000,000 will be between 2,400,000 and 2,970,000.\n",
    "\n",
    "This is a wider interval than predicting at 500,000 in part g. \n",
    "\n",
    "Generally, the further from the average, less confidence in predicting."
   ]
  },
  {
   "cell_type": "markdown",
   "metadata": {},
   "source": [
    "## 3.\n",
    "Consider the sale price of 1672 residential properties in Ames, Iowa from 2006 to 2010.  \n",
    "\n",
    "The data included information from the Tax Assessor’s Office along with information on various aspects of each property.\n",
    "\n",
    "The first model fit to the data was\n",
    "\n",
    "$ SalePrice = \\beta_0 + \\beta_1 TotalLivingArea + e $\n",
    "\n",
    "Where TotalLivingArea gives the total area in square feet of the above ground living area and basement for each property. \n",
    "\n",
    "On the following pages is some output from fitting the first model as well as some plots."
   ]
  },
  {
   "cell_type": "markdown",
   "metadata": {},
   "source": [
    "a. Interpret the estimated coefficient of TotalLivingArea in model (1)."
   ]
  },
  {
   "cell_type": "markdown",
   "metadata": {},
   "source": [
    "b. Carefully describe at least one main shortcomings (apart from outliers) evident in model (1)."
   ]
  },
  {
   "cell_type": "markdown",
   "metadata": {},
   "source": [
    "## 4.\n",
    "\n",
    "Consider the situation in which 3 regression models of the following form have been fit to a set of data.\n",
    "\n",
    "Suppose that we are modeling the sale prices of apartments in Austin, TX.\n",
    "\n",
    "Model (A) is such that y = sale price, x = number of bedrooms \n",
    "\n",
    "model (B) is such that y = sale price, x = number of bathrooms \n",
    "\n",
    "model (C) is such that y = log(sale price), x = number of bedrooms\n",
    "\n",
    "Comparing the models, which one of the following statements is true? \n",
    "\n",
    "I. It is reasonable to compare the R2 values for models (A), (B) and (C).\n",
    "\n",
    "II. It is reasonable to compare the R2 values only for models (A) and (B\n",
    "\n",
    "III. It is reasonable to compare the R2 values only for models (A) and (C).\n",
    "\n",
    "IV. It is not reasonable to compare the R2 values for models (A), (B), and (C).\n",
    "\n",
    "Give a reason to support your answer."
   ]
  }
 ],
 "metadata": {
  "kernelspec": {
   "display_name": "R",
   "language": "R",
   "name": "ir"
  },
  "language_info": {
   "codemirror_mode": "r",
   "file_extension": ".r",
   "mimetype": "text/x-r-source",
   "name": "R",
   "pygments_lexer": "r",
   "version": "3.4.4"
  }
 },
 "nbformat": 4,
 "nbformat_minor": 2
}
