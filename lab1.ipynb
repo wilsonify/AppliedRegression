{
 "cells": [
  {
   "cell_type": "markdown",
   "metadata": {},
   "source": [
    "# STAT 5310\n",
    "## Simple Linear Regression\n",
    "#### Lab 1  /  Homework #1\n",
    "\n",
    "\n",
    "1. Height and weight data (Data file: Htwt) The data file give ht = height in centimeters and wt = weight in kilograms for a sample of n = 10 18-year-old girls. The data are taken from a larger study. Interest is in predicting weight from height.\n",
    "\n",
    "a.\tDraw a scatterplot of wt on the vertical axis versus ht on the horizontal axis. On the basis of this plot, does a simple linear regression model make sense for these data? Why or why not?\n",
    "\n",
    "b.\tCompute estimates of the slope and the intercept for the regression of Y on X. Draw the fitted line on your scatterplot.\n",
    "\n",
    "c.\tObtain the estimate of σ2 and find the estimated standard errors of ˆβ0 and ˆβ1. Compute the t-tests for the hypotheses that β0 = 0 and that β1 = 0 and find the appropriate p-values using two-sided tests.\n",
    "\n",
    "d.\tExamine the residuals and discuss.\n",
    "\n"
   ]
  },
  {
   "cell_type": "code",
   "execution_count": null,
   "metadata": {},
   "outputs": [],
   "source": []
  }
 ],
 "metadata": {
  "kernelspec": {
   "display_name": "Python 3",
   "language": "python",
   "name": "python3"
  },
  "language_info": {
   "codemirror_mode": {
    "name": "ipython",
    "version": 3
   },
   "file_extension": ".py",
   "mimetype": "text/x-python",
   "name": "python",
   "nbconvert_exporter": "python",
   "pygments_lexer": "ipython3",
   "version": "3.6.5"
  }
 },
 "nbformat": 4,
 "nbformat_minor": 2
}
